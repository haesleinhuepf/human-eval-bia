{
 "cells": [
  {
   "cell_type": "markdown",
   "id": "6d329258-7ec0-413f-ba69-dc8b375fd4a6",
   "metadata": {},
   "source": [
    "# Create samples from LLMs / endpoints\n",
    "In this notebook we ask LLMs to produce samples using given prompts. Results are saved as \"samples_....json\" files."
   ]
  },
  {
   "cell_type": "code",
   "execution_count": 1,
   "id": "ad39f74d-59a7-452d-a58a-22733972468c",
   "metadata": {},
   "outputs": [],
   "source": [
    "from human_eval.data import write_jsonl, read_problems, extract_python"
   ]
  },
  {
   "cell_type": "code",
   "execution_count": 2,
   "id": "53ee967e-c0ed-4327-93f4-1ba85e0139bd",
   "metadata": {},
   "outputs": [],
   "source": [
    "directory = \"../data/\"\n",
    "problem_file = 'human-eval-bia.jsonl'\n",
    "num_samples_per_task = 2\n",
    "ollama_base_url = \"http://127.0.0.1:11434/v1\""
   ]
  },
  {
   "cell_type": "code",
   "execution_count": 3,
   "id": "e09d2a78-daf8-4bc4-8401-f91a142a6f23",
   "metadata": {},
   "outputs": [],
   "source": [
    "#if not running OpenAI API, comment out the following line\n",
    "#import os\n",
    "#os.environ[\"OPENAI_API_KEY\"] = \"AACACA\""
   ]
  },
  {
   "cell_type": "code",
   "execution_count": 4,
   "id": "b19eea9c-ed76-4ea1-b855-875578e562d9",
   "metadata": {},
   "outputs": [],
   "source": [
    "use_reference = False\n",
    "use_gpt_4o_2024_05_13 = False\n",
    "use_claude_35_sonnet = True\n",
    "use_deepseek_coder_v2_lite = False\n"
   ]
  },
  {
   "cell_type": "markdown",
   "id": "03910e60-ea98-4d44-90aa-f487ee839510",
   "metadata": {},
   "source": [
    "## Helper functions"
   ]
  },
  {
   "cell_type": "code",
   "execution_count": 5,
   "id": "005dc6b0-8b18-4d4c-b7b4-dc59799c99ba",
   "metadata": {},
   "outputs": [],
   "source": [
    "def setup_prompt(input_code):\n",
    "\n",
    "    with open('bia_bob_system_message.txt', 'r') as file:\n",
    "        bia_bob_system_message = file.read()\n",
    "    \n",
    "    prompt = f\"\"\"{bia_bob_system_message} \n",
    "    \n",
    "    Complete the following code:\n",
    "```python\n",
    "{input_code}\n",
    "```\n",
    "    \"\"\"\n",
    "    return prompt"
   ]
  },
  {
   "cell_type": "code",
   "execution_count": null,
   "id": "971b97af-3f0f-4687-ae9b-a2e86af548bc",
   "metadata": {},
   "outputs": [],
   "source": []
  },
  {
   "cell_type": "markdown",
   "id": "a936d83a-a405-4cab-9176-5c9379a153d1",
   "metadata": {},
   "source": [
    "## Models"
   ]
  },
  {
   "cell_type": "code",
   "execution_count": 6,
   "id": "3c7e637e-1100-4fbd-98ee-8853976f7df2",
   "metadata": {},
   "outputs": [],
   "source": [
    "code_generators = {}"
   ]
  },
  {
   "cell_type": "code",
   "execution_count": 7,
   "id": "42bc7ec5-4349-42ee-bd65-4d66fc24b6eb",
   "metadata": {},
   "outputs": [],
   "source": [
    "if use_reference:\n",
    "    # actually not a model, but to the evaluation framework it appears like:\n",
    "    model_reference = 'reference'\n",
    "    problems_data = read_problems(directory + problem_file)\n",
    "\n",
    "    def generate_reference(input_code):\n",
    "        # This is a computationally wasteful solution, \n",
    "        # but like this it fits well in the framework\n",
    "        for task_id, problem in problems_data.items():\n",
    "            if problem['prompt'] == input_code:\n",
    "                return problem['canonical_solution']\n",
    "    \n",
    "    code_generators[model_reference] = generate_reference"
   ]
  },
  {
   "cell_type": "code",
   "execution_count": 8,
   "id": "9edcf542-7ef6-4211-97b0-f888bc9591a8",
   "metadata": {},
   "outputs": [],
   "source": [
    "if use_deepseek_coder_v2_lite:\n",
    "    model_ollama_deepseek_coder_v2_lite = \"deepseek-coder-v2\"\n",
    "    def generate_one_completion_deepseek_coder_v2_lite(input_code):\n",
    "        import openai\n",
    "        \n",
    "        client = openai.OpenAI()\n",
    "        client.base_url = ollama_base_url\n",
    "        response = client.chat.completions.create(\n",
    "            model=model_ollama_deepseek_coder_v2_lite,\n",
    "            messages=[{\"role\": \"user\", \"content\": setup_prompt(input_code)}],\n",
    "        )\n",
    "        return response.choices[0].message.content.strip()\n",
    "\n",
    "    code_generators[model_ollama_deepseek_coder_v2_lite + \"_biabob\"] = generate_one_completion_deepseek_coder_v2_lite"
   ]
  },
  {
   "cell_type": "code",
   "execution_count": 9,
   "id": "6198e0cf-9015-47b6-b459-ba39a678d22b",
   "metadata": {},
   "outputs": [],
   "source": [
    "if use_gpt_4o_2024_05_13:\n",
    "    model_gpt_4o_2024_05_13 = \"gpt-4o-2024-05-13\"\n",
    "    def generate_one_completion_gpt_4o_2024_05_13(input_code):\n",
    "        import openai\n",
    "        client = openai.OpenAI()\n",
    "        response = client.chat.completions.create(\n",
    "            model=model_gpt_4o_2024_05_13,\n",
    "            messages=[{\"role\": \"user\", \"content\": setup_prompt(input_code)}],\n",
    "        )\n",
    "        return response.choices[0].message.content.strip()\n",
    "        \n",
    "    code_generators[model_gpt_4o_2024_05_13 + \"_biabob\"] = generate_one_completion_gpt_4o_2024_05_13"
   ]
  },
  {
   "cell_type": "code",
   "execution_count": 10,
   "id": "46f9cb4d-4dc2-49e0-b400-cd1980205d9d",
   "metadata": {},
   "outputs": [],
   "source": [
    "if use_claude_35_sonnet:\n",
    "    model_claude_35_sonnet = \"claude-3-5-sonnet-20240620\"\n",
    "\n",
    "    def generate_one_completion_claude_35_sonnet(input_code):\n",
    "        #import os\n",
    "        from anthropic import Anthropic\n",
    "        client = Anthropic(\n",
    "            # This is the default and can be omitted\n",
    "            #api_key=os.environ.get(\"ANTHROPIC_API_KEY\"),\n",
    "        )\n",
    "        \n",
    "        message = client.messages.create(\n",
    "            max_tokens=1024,\n",
    "            messages=[\n",
    "                {\n",
    "                    \"role\": \"user\",\n",
    "                    \"content\": setup_prompt(input_code),\n",
    "                }\n",
    "            ],\n",
    "            model=model_claude_35_sonnet,\n",
    "        )\n",
    "        return message.content[0].text\n",
    "    code_generators[model_claude_35_sonnet + \"_biabob\"] = generate_one_completion_claude_35_sonnet"
   ]
  },
  {
   "cell_type": "markdown",
   "id": "8c7f9051-6e0c-4ccf-9e03-fa2b9af88589",
   "metadata": {},
   "source": [
    "## Sanity check"
   ]
  },
  {
   "cell_type": "code",
   "execution_count": 11,
   "id": "e14dd9c9-4c96-409d-8ab8-4af0f6738f8b",
   "metadata": {},
   "outputs": [
    {
     "name": "stdout",
     "output_type": "stream",
     "text": [
      "claude-3-5-sonnet-20240620_biabob ### Summary\n",
      "I will complete the given function to print \"Hello, World!\".\n",
      "\n",
      "### Plan\n",
      "1. Define the function `print_hello_world()`.\n",
      "2. Add a print statement inside the function to output \"Hello, World!\".\n",
      "\n",
      "### Code\n",
      "```python\n",
      "def print_hello_world():\n",
      "    print(\"Hello, World!\")\n",
      "```\n",
      "\n",
      "This code defines a simple function that, when called, will print the classic \"Hello, World!\" message to the console.\n"
     ]
    }
   ],
   "source": [
    "for key, func in code_generators.items():\n",
    "    print(key, func(\"def print_hello_world():\\n\"))"
   ]
  },
  {
   "cell_type": "markdown",
   "id": "8e63a329-c2e7-4f04-9e89-399605c3963c",
   "metadata": {},
   "source": [
    "## Sampling"
   ]
  },
  {
   "cell_type": "code",
   "execution_count": 12,
   "id": "f0d7ccad-0e34-4790-ad5e-7898c0b0223a",
   "metadata": {},
   "outputs": [
    {
     "name": "stdout",
     "output_type": "stream",
     "text": [
      "claude-3-5-sonnet-20240620_biabob ../test_cases/apply_otsu_threshold_and_count_postiive_pixels.ipynb 0\n",
      "claude-3-5-sonnet-20240620_biabob ../test_cases/binary_closing.ipynb 0\n",
      "claude-3-5-sonnet-20240620_biabob ../test_cases/binary_skeleton.ipynb 0\n",
      "claude-3-5-sonnet-20240620_biabob ../test_cases/bland_altman.ipynb 0\n",
      "claude-3-5-sonnet-20240620_biabob ../test_cases/combine_columns_of_tables.ipynb 0\n",
      "claude-3-5-sonnet-20240620_biabob ../test_cases/convex_hull_measure_area.ipynb 0\n",
      "claude-3-5-sonnet-20240620_biabob ../test_cases/convolve_images.ipynb 0\n",
      "claude-3-5-sonnet-20240620_biabob ../test_cases/count_number_of_touching_neighbors.ipynb 0\n",
      "claude-3-5-sonnet-20240620_biabob ../test_cases/count_objects_over_time.ipynb 0\n",
      "claude-3-5-sonnet-20240620_biabob ../test_cases/count_overlapping_regions.ipynb 0\n",
      "claude-3-5-sonnet-20240620_biabob ../test_cases/create_umap.ipynb 0\n",
      "claude-3-5-sonnet-20240620_biabob ../test_cases/crop_quarter_image.ipynb 0\n",
      "claude-3-5-sonnet-20240620_biabob ../test_cases/deconvolve_image.ipynb 0\n",
      "claude-3-5-sonnet-20240620_biabob ../test_cases/detect_edges.ipynb 0\n",
      "claude-3-5-sonnet-20240620_biabob ../test_cases/expand_labels_without_overlap.ipynb 0\n",
      "claude-3-5-sonnet-20240620_biabob ../test_cases/extract_surface_measure_area.ipynb 0\n",
      "claude-3-5-sonnet-20240620_biabob ../test_cases/fit_circle.ipynb 0\n",
      "claude-3-5-sonnet-20240620_biabob ../test_cases/label_binary_image_and_count_labels.ipynb 0\n",
      "claude-3-5-sonnet-20240620_biabob ../test_cases/label_sequentially.ipynb 0\n",
      "claude-3-5-sonnet-20240620_biabob ../test_cases/list_image_files_in_folder.ipynb 0\n",
      "claude-3-5-sonnet-20240620_biabob ../test_cases/map_pixel_count_of_labels.ipynb 0\n",
      "claude-3-5-sonnet-20240620_biabob ../test_cases/mask_image.ipynb 0\n",
      "claude-3-5-sonnet-20240620_biabob ../test_cases/maximum_intensity_projection.ipynb 0\n",
      "claude-3-5-sonnet-20240620_biabob ../test_cases/mean_squared_error.ipynb 0\n",
      "claude-3-5-sonnet-20240620_biabob ../test_cases/mean_std_column.ipynb 0\n",
      "claude-3-5-sonnet-20240620_biabob ../test_cases/measure_aspect_ratio_of_regions.ipynb 0\n",
      "claude-3-5-sonnet-20240620_biabob ../test_cases/measure_intensity_of_labels.ipynb 0\n",
      "claude-3-5-sonnet-20240620_biabob ../test_cases/measure_intensity_over_time.ipynb 0\n",
      "claude-3-5-sonnet-20240620_biabob ../test_cases/measure_mean_image_intensity.ipynb 0\n",
      "claude-3-5-sonnet-20240620_biabob ../test_cases/measure_pixel_count_of_labels.ipynb 0\n",
      "claude-3-5-sonnet-20240620_biabob ../test_cases/measure_properties_of_regions.ipynb 0\n",
      "claude-3-5-sonnet-20240620_biabob ../test_cases/open_image_read_voxel_size.ipynb 0\n",
      "claude-3-5-sonnet-20240620_biabob ../test_cases/open_image_return_dimensions.ipynb 0\n",
      "claude-3-5-sonnet-20240620_biabob ../test_cases/open_nifti_image.ipynb 0\n",
      "claude-3-5-sonnet-20240620_biabob ../test_cases/open_zarr.ipynb 0\n",
      "claude-3-5-sonnet-20240620_biabob ../test_cases/pair_wise_correlation_matrix.ipynb 0\n",
      "claude-3-5-sonnet-20240620_biabob ../test_cases/radial_intensity_profile.ipynb 0\n",
      "claude-3-5-sonnet-20240620_biabob ../test_cases/region_growing_segmentation.ipynb 0\n",
      "claude-3-5-sonnet-20240620_biabob ../test_cases/remove_labels_on_edges.ipynb 0\n",
      "claude-3-5-sonnet-20240620_biabob ../test_cases/remove_noise_edge_preserving.ipynb 0\n",
      "claude-3-5-sonnet-20240620_biabob ../test_cases/remove_small_labels.ipynb 0\n",
      "claude-3-5-sonnet-20240620_biabob ../test_cases/return_hello_world.ipynb 0\n",
      "claude-3-5-sonnet-20240620_biabob ../test_cases/rgb_to_grey_image_transform.ipynb 0\n",
      "claude-3-5-sonnet-20240620_biabob ../test_cases/rotate_image_by_90_degrees.ipynb 0\n",
      "claude-3-5-sonnet-20240620_biabob ../test_cases/subsample_image.ipynb 0\n",
      "claude-3-5-sonnet-20240620_biabob ../test_cases/subtract_background_tophat.ipynb 0\n",
      "claude-3-5-sonnet-20240620_biabob ../test_cases/sum_images.ipynb 0\n",
      "claude-3-5-sonnet-20240620_biabob ../test_cases/sum_intensity_projection.ipynb 0\n",
      "claude-3-5-sonnet-20240620_biabob ../test_cases/tiled_image_processing.ipynb 0\n",
      "claude-3-5-sonnet-20240620_biabob ../test_cases/transpose_image_axes.ipynb 0\n",
      "claude-3-5-sonnet-20240620_biabob ../test_cases/t_test.ipynb 0\n",
      "claude-3-5-sonnet-20240620_biabob ../test_cases/workflow_batch_process_folder_count_labels.ipynb 0\n",
      "claude-3-5-sonnet-20240620_biabob ../test_cases/workflow_batch_process_folder_measure_intensity.ipynb 0\n",
      "claude-3-5-sonnet-20240620_biabob ../test_cases/workflow_segmentation_counting.ipynb 0\n",
      "claude-3-5-sonnet-20240620_biabob ../test_cases/workflow_segmentation_measurement_summary.ipynb 0\n",
      "claude-3-5-sonnet-20240620_biabob ../test_cases/workflow_segment_measure_umap.ipynb 0\n",
      "claude-3-5-sonnet-20240620_biabob ../test_cases/workflow_watershed_segmentation_correction_measurement.ipynb 0\n",
      "claude-3-5-sonnet-20240620_biabob ../test_cases/apply_otsu_threshold_and_count_postiive_pixels.ipynb 1\n",
      "claude-3-5-sonnet-20240620_biabob ../test_cases/binary_closing.ipynb 1\n",
      "claude-3-5-sonnet-20240620_biabob ../test_cases/binary_skeleton.ipynb 1\n",
      "claude-3-5-sonnet-20240620_biabob ../test_cases/bland_altman.ipynb 1\n",
      "claude-3-5-sonnet-20240620_biabob ../test_cases/combine_columns_of_tables.ipynb 1\n",
      "claude-3-5-sonnet-20240620_biabob ../test_cases/convex_hull_measure_area.ipynb 1\n",
      "claude-3-5-sonnet-20240620_biabob ../test_cases/convolve_images.ipynb 1\n",
      "claude-3-5-sonnet-20240620_biabob ../test_cases/count_number_of_touching_neighbors.ipynb 1\n",
      "claude-3-5-sonnet-20240620_biabob ../test_cases/count_objects_over_time.ipynb 1\n",
      "claude-3-5-sonnet-20240620_biabob ../test_cases/count_overlapping_regions.ipynb 1\n",
      "claude-3-5-sonnet-20240620_biabob ../test_cases/create_umap.ipynb 1\n",
      "claude-3-5-sonnet-20240620_biabob ../test_cases/crop_quarter_image.ipynb 1\n",
      "claude-3-5-sonnet-20240620_biabob ../test_cases/deconvolve_image.ipynb 1\n",
      "claude-3-5-sonnet-20240620_biabob ../test_cases/detect_edges.ipynb 1\n",
      "claude-3-5-sonnet-20240620_biabob ../test_cases/expand_labels_without_overlap.ipynb 1\n",
      "claude-3-5-sonnet-20240620_biabob ../test_cases/extract_surface_measure_area.ipynb 1\n",
      "claude-3-5-sonnet-20240620_biabob ../test_cases/fit_circle.ipynb 1\n",
      "claude-3-5-sonnet-20240620_biabob ../test_cases/label_binary_image_and_count_labels.ipynb 1\n",
      "claude-3-5-sonnet-20240620_biabob ../test_cases/label_sequentially.ipynb 1\n",
      "claude-3-5-sonnet-20240620_biabob ../test_cases/list_image_files_in_folder.ipynb 1\n",
      "claude-3-5-sonnet-20240620_biabob ../test_cases/map_pixel_count_of_labels.ipynb 1\n",
      "claude-3-5-sonnet-20240620_biabob ../test_cases/mask_image.ipynb 1\n",
      "claude-3-5-sonnet-20240620_biabob ../test_cases/maximum_intensity_projection.ipynb 1\n",
      "claude-3-5-sonnet-20240620_biabob ../test_cases/mean_squared_error.ipynb 1\n",
      "claude-3-5-sonnet-20240620_biabob ../test_cases/mean_std_column.ipynb 1\n",
      "claude-3-5-sonnet-20240620_biabob ../test_cases/measure_aspect_ratio_of_regions.ipynb 1\n",
      "claude-3-5-sonnet-20240620_biabob ../test_cases/measure_intensity_of_labels.ipynb 1\n",
      "claude-3-5-sonnet-20240620_biabob ../test_cases/measure_intensity_over_time.ipynb 1\n",
      "claude-3-5-sonnet-20240620_biabob ../test_cases/measure_mean_image_intensity.ipynb 1\n",
      "claude-3-5-sonnet-20240620_biabob ../test_cases/measure_pixel_count_of_labels.ipynb 1\n",
      "claude-3-5-sonnet-20240620_biabob ../test_cases/measure_properties_of_regions.ipynb 1\n",
      "claude-3-5-sonnet-20240620_biabob ../test_cases/open_image_read_voxel_size.ipynb 1\n",
      "claude-3-5-sonnet-20240620_biabob ../test_cases/open_image_return_dimensions.ipynb 1\n",
      "claude-3-5-sonnet-20240620_biabob ../test_cases/open_nifti_image.ipynb 1\n",
      "claude-3-5-sonnet-20240620_biabob ../test_cases/open_zarr.ipynb 1\n",
      "claude-3-5-sonnet-20240620_biabob ../test_cases/pair_wise_correlation_matrix.ipynb 1\n",
      "claude-3-5-sonnet-20240620_biabob ../test_cases/radial_intensity_profile.ipynb 1\n",
      "claude-3-5-sonnet-20240620_biabob ../test_cases/region_growing_segmentation.ipynb 1\n",
      "claude-3-5-sonnet-20240620_biabob ../test_cases/remove_labels_on_edges.ipynb 1\n",
      "claude-3-5-sonnet-20240620_biabob ../test_cases/remove_noise_edge_preserving.ipynb 1\n",
      "claude-3-5-sonnet-20240620_biabob ../test_cases/remove_small_labels.ipynb 1\n",
      "claude-3-5-sonnet-20240620_biabob ../test_cases/return_hello_world.ipynb 1\n",
      "claude-3-5-sonnet-20240620_biabob ../test_cases/rgb_to_grey_image_transform.ipynb 1\n",
      "claude-3-5-sonnet-20240620_biabob ../test_cases/rotate_image_by_90_degrees.ipynb 1\n",
      "claude-3-5-sonnet-20240620_biabob ../test_cases/subsample_image.ipynb 1\n",
      "claude-3-5-sonnet-20240620_biabob ../test_cases/subtract_background_tophat.ipynb 1\n",
      "claude-3-5-sonnet-20240620_biabob ../test_cases/sum_images.ipynb 1\n",
      "claude-3-5-sonnet-20240620_biabob ../test_cases/sum_intensity_projection.ipynb 1\n",
      "claude-3-5-sonnet-20240620_biabob ../test_cases/tiled_image_processing.ipynb 1\n",
      "claude-3-5-sonnet-20240620_biabob ../test_cases/transpose_image_axes.ipynb 1\n",
      "claude-3-5-sonnet-20240620_biabob ../test_cases/t_test.ipynb 1\n",
      "claude-3-5-sonnet-20240620_biabob ../test_cases/workflow_batch_process_folder_count_labels.ipynb 1\n",
      "claude-3-5-sonnet-20240620_biabob ../test_cases/workflow_batch_process_folder_measure_intensity.ipynb 1\n",
      "claude-3-5-sonnet-20240620_biabob ../test_cases/workflow_segmentation_counting.ipynb 1\n",
      "claude-3-5-sonnet-20240620_biabob ../test_cases/workflow_segmentation_measurement_summary.ipynb 1\n",
      "claude-3-5-sonnet-20240620_biabob ../test_cases/workflow_segment_measure_umap.ipynb 1\n",
      "claude-3-5-sonnet-20240620_biabob ../test_cases/workflow_watershed_segmentation_correction_measurement.ipynb 1\n"
     ]
    }
   ],
   "source": [
    "problems = read_problems(directory + problem_file)\n",
    "\n",
    "for model_name, generate_one_completion in code_generators.items():\n",
    "    samples = []\n",
    "\n",
    "    for i in range(num_samples_per_task):\n",
    "        for task_id in problems:\n",
    "            print(model_name, task_id, i)\n",
    "\n",
    "            response = generate_one_completion(problems[task_id][\"prompt\"])\n",
    "            code = extract_python(response)\n",
    "            \n",
    "            samples.append(dict(task_id=task_id, completion=code, full_response=response))\n",
    "    \n",
    "            write_jsonl(f\"{directory}samples_{model_name}.jsonl\", samples)"
   ]
  },
  {
   "cell_type": "code",
   "execution_count": null,
   "id": "0e50006e-d906-4ceb-9115-e65b63deaf4b",
   "metadata": {},
   "outputs": [],
   "source": []
  }
 ],
 "metadata": {
  "kernelspec": {
   "display_name": "Python 3 (ipykernel)",
   "language": "python",
   "name": "python3"
  },
  "language_info": {
   "codemirror_mode": {
    "name": "ipython",
    "version": 3
   },
   "file_extension": ".py",
   "mimetype": "text/x-python",
   "name": "python",
   "nbconvert_exporter": "python",
   "pygments_lexer": "ipython3",
   "version": "3.10.14"
  }
 },
 "nbformat": 4,
 "nbformat_minor": 5
}
