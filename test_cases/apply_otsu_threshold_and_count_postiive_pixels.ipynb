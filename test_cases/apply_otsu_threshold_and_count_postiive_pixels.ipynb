{
 "cells": [
  {
   "cell_type": "code",
   "execution_count": 1,
   "id": "379be22d-e5f6-41d7-b171-f9f02742fd15",
   "metadata": {},
   "outputs": [],
   "source": [
    "def apply_otsu_threshold_and_count_postiive_pixels(image):\n",
    "    \"\"\"\n",
    "    Takes an image as numpy array, applies Otsu's threshold method to it to create a binary image and \n",
    "    counts the positive pixels and returns this number.\n",
    "    \"\"\"\n",
    "    import skimage\n",
    "    import numpy as np\n",
    "    binary_image = image > skimage.filters.threshold_otsu(image)\n",
    "\n",
    "    result = np.sum(binary_image)\n",
    "\n",
    "    return result"
   ]
  },
  {
   "cell_type": "code",
   "execution_count": 2,
   "id": "e2c6981f-99ff-4b38-b150-fe03dfdac762",
   "metadata": {},
   "outputs": [],
   "source": [
    "def check(candidate):\n",
    "    import numpy as np\n",
    "    \n",
    "    assert candidate(np.asarray([\n",
    "        [0,0,0,0,0],\n",
    "        [1,1,1,0,0],\n",
    "        [1,1,1,0,0],\n",
    "        [1,0,0,0,0],\n",
    "        [0,0,0,1,0],\n",
    "    ])) == 8\n",
    "\n",
    "    assert candidate(np.asarray([\n",
    "        [0,0,0,0,0],\n",
    "        [0,1,0,0,0],\n",
    "        [1,2,1,0,0],\n",
    "        [0,1,3,4,0],\n",
    "        [0,1,4,1,0],\n",
    "    ])) == 4\n",
    "\n",
    "    assert candidate(np.asarray([\n",
    "        [0,0,0,0,0],\n",
    "        [0,0,0,0,0],\n",
    "        [0,0,0,0,0],\n",
    "        [0,0,0,0,0],\n",
    "        [0,0,0,0,0],\n",
    "    ])) == 0"
   ]
  },
  {
   "cell_type": "code",
   "execution_count": 3,
   "id": "e4789ed1-dc01-46a6-80b2-dd98d8d7b875",
   "metadata": {},
   "outputs": [],
   "source": [
    "check(apply_otsu_threshold_and_count_postiive_pixels)"
   ]
  },
  {
   "cell_type": "code",
   "execution_count": null,
   "id": "b38939da-37b8-4572-8227-b35354f3d60d",
   "metadata": {},
   "outputs": [],
   "source": []
  }
 ],
 "metadata": {
  "kernelspec": {
   "display_name": "Python 3 (ipykernel)",
   "language": "python",
   "name": "python3"
  },
  "language_info": {
   "codemirror_mode": {
    "name": "ipython",
    "version": 3
   },
   "file_extension": ".py",
   "mimetype": "text/x-python",
   "name": "python",
   "nbconvert_exporter": "python",
   "pygments_lexer": "ipython3",
   "version": "3.10.14"
  }
 },
 "nbformat": 4,
 "nbformat_minor": 5
}
