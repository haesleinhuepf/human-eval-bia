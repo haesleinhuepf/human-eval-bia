{
 "cells": [
  {
   "cell_type": "code",
   "execution_count": 1,
   "id": "379be22d-e5f6-41d7-b171-f9f02742fd15",
   "metadata": {},
   "outputs": [],
   "source": [
    "def binary_skeleton(binary_image):\n",
    "    \"\"\"\n",
    "    Applies skeletonization to a 2D binary image provided as numpy array and returns the resulting skeleton image as numpy array.\n",
    "    \"\"\"\n",
    "    from skimage.morphology import skeletonize\n",
    "    return skeletonize(binary_image)"
   ]
  },
  {
   "cell_type": "code",
   "execution_count": 2,
   "id": "e2c6981f-99ff-4b38-b150-fe03dfdac762",
   "metadata": {},
   "outputs": [],
   "source": [
    "def check(candidate):\n",
    "    import numpy as np\n",
    "    \n",
    "    result = candidate(np.asarray([\n",
    "        [0,0,0,0,0,0,0],\n",
    "        [0,0,1,1,1,0,0],\n",
    "        [0,0,1,1,1,0,0],\n",
    "        [0,1,1,1,1,1,0],\n",
    "        [0,1,1,1,1,1,0],\n",
    "        [0,1,1,1,1,1,0],\n",
    "        [0,0,0,0,0,0,0],\n",
    "    ]))\n",
    "    \n",
    "    reference = np.asarray([\n",
    "        [0,0,0,0,0,0,0],\n",
    "        [0,0,0,1,0,0,0],\n",
    "        [0,0,0,1,0,0,0],\n",
    "        [0,0,0,1,0,0,0],\n",
    "        [0,1,1,1,1,1,0],\n",
    "        [0,0,0,0,0,0,0],\n",
    "        [0,0,0,0,0,0,0],\n",
    "    ])\n",
    "\n",
    "    # we're accepting a little error because for example \n",
    "    # the center pixel or the ending pixel may vary, \n",
    "    # depending on the implementation\n",
    "    assert np.abs(np.abs(result) - np.abs(reference)).sum() <= 3"
   ]
  },
  {
   "cell_type": "code",
   "execution_count": 3,
   "id": "e4789ed1-dc01-46a6-80b2-dd98d8d7b875",
   "metadata": {},
   "outputs": [],
   "source": [
    "check(binary_skeleton)"
   ]
  },
  {
   "cell_type": "code",
   "execution_count": null,
   "id": "09fc7386-6432-4108-b36d-e69d5ca32b9a",
   "metadata": {},
   "outputs": [],
   "source": []
  }
 ],
 "metadata": {
  "kernelspec": {
   "display_name": "Python 3 (ipykernel)",
   "language": "python",
   "name": "python3"
  },
  "language_info": {
   "codemirror_mode": {
    "name": "ipython",
    "version": 3
   },
   "file_extension": ".py",
   "mimetype": "text/x-python",
   "name": "python",
   "nbconvert_exporter": "python",
   "pygments_lexer": "ipython3",
   "version": "3.10.14"
  }
 },
 "nbformat": 4,
 "nbformat_minor": 5
}
