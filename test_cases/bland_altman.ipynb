{
 "cells": [
  {
   "cell_type": "code",
   "execution_count": 1,
   "id": "b27a1d0e-e184-425b-9944-0e354aad8b08",
   "metadata": {},
   "outputs": [],
   "source": [
    "def bland_altman(dataframe, column1:str, column2:str):\n",
    "    \"\"\"\n",
    "    Takes two columns specified by name from a given dataframe and applies Bland-Altman-Analysis to them.\n",
    "    Therefore, it adds two new columns to the dataframe, one called 'mean' containing the mean of the two \n",
    "    corresponding values, and one called 'diff' containing the difference between the two.\n",
    "    \"\"\"\n",
    "    import scipy\n",
    "    data1 = dataframe[column1]\n",
    "    data2 = dataframe[column2]\n",
    "    dataframe['mean'] = (data1 + data2) / 2\n",
    "    dataframe['diff'] = data2 - data1\n",
    "    return dataframe"
   ]
  },
  {
   "cell_type": "code",
   "execution_count": 2,
   "id": "2243e607-8d2d-4a77-b612-64d8223d70db",
   "metadata": {},
   "outputs": [],
   "source": [
    "def check(candidate):\n",
    "    import pandas as pd\n",
    "    import numpy as np\n",
    "    df = pd.DataFrame(\n",
    "        {\n",
    "         'a':[1,2,3,0],\n",
    "         'b':[2,2,3,6]\n",
    "        }\n",
    "    )\n",
    "\n",
    "    candidate(df, 'a', 'b')\n",
    "\n",
    "    assert len(df.columns) == 4\n",
    "    \n",
    "    mean_column = df['mean']\n",
    "    diff_column = df['diff']\n",
    "    \n",
    "    assert np.array_equal([1.5, 2, 3, 3], mean_column)\n",
    "    assert np.array_equal([1,  0,0, 6], diff_column) or \\\n",
    "           np.array_equal([-1, 0,0,-6], diff_column)"
   ]
  },
  {
   "cell_type": "code",
   "execution_count": 3,
   "id": "577fd3b1-aa81-40c0-8a27-88e86ba48718",
   "metadata": {},
   "outputs": [],
   "source": [
    "check(bland_altman)"
   ]
  },
  {
   "cell_type": "code",
   "execution_count": null,
   "id": "d470d040-51c2-4b57-a8bd-82565c6e1642",
   "metadata": {},
   "outputs": [],
   "source": []
  }
 ],
 "metadata": {
  "kernelspec": {
   "display_name": "Python 3 (ipykernel)",
   "language": "python",
   "name": "python3"
  },
  "language_info": {
   "codemirror_mode": {
    "name": "ipython",
    "version": 3
   },
   "file_extension": ".py",
   "mimetype": "text/x-python",
   "name": "python",
   "nbconvert_exporter": "python",
   "pygments_lexer": "ipython3",
   "version": "3.10.14"
  }
 },
 "nbformat": 4,
 "nbformat_minor": 5
}
