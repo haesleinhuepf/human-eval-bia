{
 "cells": [
  {
   "cell_type": "code",
   "execution_count": 1,
   "id": "379be22d-e5f6-41d7-b171-f9f02742fd15",
   "metadata": {},
   "outputs": [],
   "source": [
    "def combine_columns_of_tables(dataframe1, dataframe2, index):\n",
    "    \"\"\"\n",
    "    This function combines to dataframes and makes sure the data is merged \n",
    "    using the given index column, which must be present in both dataframes.\n",
    "    The dataframes should be merged in a way that no data is lost and missing\n",
    "    fields are filled with NaN. The combined dataframe is returned.\n",
    "    \"\"\"\n",
    "    import pandas as pd\n",
    "    return pd.merge(dataframe1, dataframe2, how='outer', on='label')"
   ]
  },
  {
   "cell_type": "code",
   "execution_count": 2,
   "id": "e2c6981f-99ff-4b38-b150-fe03dfdac762",
   "metadata": {},
   "outputs": [],
   "source": [
    "def check(candidate):\n",
    "    import pandas as pd\n",
    "    import numpy as np\n",
    "\n",
    "    table1 = pd.DataFrame({\n",
    "    \"label\":       [1,   2,   3],\n",
    "    \"circularity\": [0.3, 0.5, 0.7],\n",
    "    \"elongation\":  [2.3, 3.4, 1.2],\n",
    "    })\n",
    "\n",
    "    table2 = pd.DataFrame({\n",
    "    \"label\":    [3,   2,   1,   4],\n",
    "    \"area\":     [22,  32,  25,  18],\n",
    "    \"skewness\": [0.5, 0.6, 0.3, 0.3],\n",
    "    })\n",
    "\n",
    "    reference = pd.DataFrame({\n",
    "    \"label\":       [1,   2,   3,   4],\n",
    "    \"circularity\": [0.3, 0.5, 0.7, np.nan],\n",
    "    \"elongation\":  [2.3, 3.4, 1.2, np.nan],\n",
    "    \"area\":     [25,  32,  22,  18],\n",
    "    \"skewness\": [0.3, 0.6, 0.5, 0.3],\n",
    "    })\n",
    "    \n",
    "    result = candidate(table1, table2, \"label\")\n",
    "\n",
    "    comparison = result.compare(reference)\n",
    "    assert len(comparison.columns) == 0\n",
    "    assert len(comparison.index) == 0"
   ]
  },
  {
   "cell_type": "code",
   "execution_count": 3,
   "id": "e4789ed1-dc01-46a6-80b2-dd98d8d7b875",
   "metadata": {},
   "outputs": [],
   "source": [
    "check(combine_columns_of_tables)"
   ]
  },
  {
   "cell_type": "code",
   "execution_count": null,
   "id": "679c75b2-fbe9-474a-a51c-2fdeb51c5b65",
   "metadata": {},
   "outputs": [],
   "source": []
  }
 ],
 "metadata": {
  "kernelspec": {
   "display_name": "Python 3 (ipykernel)",
   "language": "python",
   "name": "python3"
  },
  "language_info": {
   "codemirror_mode": {
    "name": "ipython",
    "version": 3
   },
   "file_extension": ".py",
   "mimetype": "text/x-python",
   "name": "python",
   "nbconvert_exporter": "python",
   "pygments_lexer": "ipython3",
   "version": "3.10.14"
  }
 },
 "nbformat": 4,
 "nbformat_minor": 5
}
