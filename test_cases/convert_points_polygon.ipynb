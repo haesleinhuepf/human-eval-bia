{
 "cells": [
  {
   "cell_type": "code",
   "execution_count": 5,
   "metadata": {},
   "outputs": [],
   "source": [
    "def create_polygon_from_coordinates(coordinates):\n",
    "    \"\"\"\n",
    "    Take a list of 4 or more coordinates in xy format and convert it into a shapely polygon. Return the polygon.\n",
    "    \"\"\"\n",
    "    from shapely import Polygon\n",
    "    polygon = Polygon(coordinates)\n",
    "    return polygon\n"
   ]
  },
  {
   "cell_type": "code",
   "execution_count": 6,
   "metadata": {},
   "outputs": [],
   "source": [
    "def check(candidate):\n",
    "    from shapely import Polygon\n",
    "    points = [[0,0],[2,0],[3,5],[0,9]]\n",
    "    poly = candidate(points)\n",
    "    assert poly.is_valid\n",
    "    assert isinstance(poly,Polygon)"
   ]
  },
  {
   "cell_type": "code",
   "execution_count": 7,
   "metadata": {},
   "outputs": [],
   "source": [
    "check(create_polygon_from_coordinates)"
   ]
  }
 ],
 "metadata": {
  "kernelspec": {
   "display_name": "heb",
   "language": "python",
   "name": "python3"
  },
  "language_info": {
   "codemirror_mode": {
    "name": "ipython",
    "version": 3
   },
   "file_extension": ".py",
   "mimetype": "text/x-python",
   "name": "python",
   "nbconvert_exporter": "python",
   "pygments_lexer": "ipython3",
   "version": "3.10.14"
  }
 },
 "nbformat": 4,
 "nbformat_minor": 2
}
