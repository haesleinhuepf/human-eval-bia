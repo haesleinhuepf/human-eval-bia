{
 "cells": [
  {
   "cell_type": "code",
   "id": "initial_id",
   "metadata": {
    "collapsed": true
   },
   "source": [
    "def roi_imagej_to_ezomero(dataframe):\n",
    "    \"\"\"\n",
    "    Convert x,y coordinates from a pandas dataframe \n",
    "    to a list of comma separated tupples\n",
    "    \"\"\"\n",
    "    list_of_tuples = list(dataframe.itertuples(index=False, name=None))\n",
    "    return list_of_tuples"
   ],
   "outputs": [],
   "execution_count": null
  },
  {
   "metadata": {},
   "cell_type": "code",
   "source": [
    "def check(candidate):\n",
    "    import pandas as pd\n",
    "    data = {'x': [61.5, 77.5, 45.5], 'y': [11.5, 13.5, 15.5]}\n",
    "    df = pd.DataFrame(data)\n",
    "    ez_roi_result = candidate(df)\n",
    "    \n",
    "    ez_roi_expected = [(61.5, 11.5), (77.5, 13.5), (45.5, 15.5)]\n",
    "    \n",
    "    assert ez_roi_result == ez_roi_expected"
   ],
   "id": "1aa810cbf60d07bf",
   "outputs": [],
   "execution_count": null
  },
  {
   "metadata": {},
   "cell_type": "code",
   "source": "check(roi_imagej_to_ezomero)",
   "id": "3e578238dc8c9bae",
   "outputs": [],
   "execution_count": null
  }
 ],
 "metadata": {
  "kernelspec": {
   "display_name": "Python 3",
   "language": "python",
   "name": "python3"
  },
  "language_info": {
   "codemirror_mode": {
    "name": "ipython",
    "version": 2
   },
   "file_extension": ".py",
   "mimetype": "text/x-python",
   "name": "python",
   "nbconvert_exporter": "python",
   "pygments_lexer": "ipython2",
   "version": "2.7.6"
  }
 },
 "nbformat": 4,
 "nbformat_minor": 5
}
