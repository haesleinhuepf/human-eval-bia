{
 "cells": [
  {
   "cell_type": "code",
   "execution_count": 1,
   "id": "9ac5accc-0936-4f36-9872-e5239757a08e",
   "metadata": {},
   "outputs": [],
   "source": [
    "def convex_hull_measure_area(point_cloud):\n",
    "    \"\"\"\n",
    "    Takes a 3D point_cloud as list of (Z,Y,X) coordinates, determines the convex hull around the points and returns the surface area of the convex hull.\n",
    "    \"\"\"\n",
    "    import vedo\n",
    "    convex_hull = vedo.shapes.ConvexHull(point_cloud)\n",
    "    return convex_hull.area()"
   ]
  },
  {
   "cell_type": "code",
   "execution_count": 2,
   "id": "5d8caa75-3a04-49d5-b654-2f758d44271a",
   "metadata": {},
   "outputs": [],
   "source": [
    "def check(candidate):\n",
    "    point_cloud = [[0,1,0],[0,1,1],[0,0,0],[0,0,1],[1,1,0],[1,1,1],[1,0,0],[1,0,1]]\n",
    "\n",
    "    assert abs(candidate(point_cloud) - 6) < 0.001\n",
    "\n",
    "    point_cloud = [[0,1,0],[0,1,1],[0,0,0],[0,0,1],[2,1,0],[2,1,1],[2,0,0],[2,0,1]]\n",
    "\n",
    "    assert abs(candidate(point_cloud) - 10) < 0.001\n"
   ]
  },
  {
   "cell_type": "code",
   "execution_count": 3,
   "id": "fc5eb545-7cba-4a9b-a359-d3e91aa5a086",
   "metadata": {},
   "outputs": [],
   "source": [
    "check(convex_hull_measure_area)"
   ]
  },
  {
   "cell_type": "code",
   "execution_count": null,
   "id": "5ed54fc3-23e1-496b-8d1a-99fd12b383a1",
   "metadata": {},
   "outputs": [],
   "source": []
  }
 ],
 "metadata": {
  "kernelspec": {
   "display_name": "Python 3 (ipykernel)",
   "language": "python",
   "name": "python3"
  },
  "language_info": {
   "codemirror_mode": {
    "name": "ipython",
    "version": 3
   },
   "file_extension": ".py",
   "mimetype": "text/x-python",
   "name": "python",
   "nbconvert_exporter": "python",
   "pygments_lexer": "ipython3",
   "version": "3.10.14"
  }
 },
 "nbformat": 4,
 "nbformat_minor": 5
}
