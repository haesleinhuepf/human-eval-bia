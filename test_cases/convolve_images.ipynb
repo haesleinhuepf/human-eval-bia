{
 "cells": [
  {
   "cell_type": "code",
   "execution_count": 1,
   "id": "b7183cae-ecf6-4a90-970d-bc063b112c03",
   "metadata": {},
   "outputs": [],
   "source": [
    "def convolve_images(image, kernel_image):\n",
    "    \"\"\"\n",
    "    Convolve an image with a kernel_image and return the result. All images are of type numpy array.\n",
    "    \"\"\"\n",
    "    import scipy\n",
    "    return scipy.ndimage.convolve(image, kernel_image)\n",
    "    "
   ]
  },
  {
   "cell_type": "code",
   "execution_count": 2,
   "id": "b24446cb-3756-4bd6-962d-2e6285a3db82",
   "metadata": {},
   "outputs": [],
   "source": [
    "def check(candidate):\n",
    "    import numpy as np\n",
    "\n",
    "    image = np.asarray([\n",
    "        [0,0,0,0,0,0,0],\n",
    "        [0,1,0,0,0,0,0],\n",
    "        [0,0,0,0,0,0,0],\n",
    "        [0,0,0,0,0,0,0],\n",
    "        [0,0,0,0,0,0,0],\n",
    "        [0,0,0,0,1,0,0],\n",
    "        [0,0,0,0,0,0,0],\n",
    "    ])\n",
    "    kernel= np.asarray([\n",
    "        [0,1,0],\n",
    "        [1,1,1],\n",
    "        [0,2,0],\n",
    "    ])\n",
    "\n",
    "    reference = np.asarray([\n",
    "        [0,1,0,0,0,0,0],\n",
    "        [1,1,1,0,0,0,0],\n",
    "        [0,2,0,0,0,0,0],\n",
    "        [0,0,0,0,0,0,0],\n",
    "        [0,0,0,0,1,0,0],\n",
    "        [0,0,0,1,1,1,0],\n",
    "        [0,0,0,0,2,0,0],\n",
    "    ])\n",
    "\n",
    "    result = candidate(image, kernel)\n",
    "    \n",
    "    assert np.allclose(reference, result)\n",
    "\n",
    "    \n",
    "    image = np.asarray([\n",
    "        [0,0,0,0,0,0,0],\n",
    "        [0,1,1,0,0,0,0],\n",
    "        [0,0,0,0,0,0,0],\n",
    "        [0,0,0,0,0,0,0],\n",
    "        [0,0,0,0,0,0,0],\n",
    "        [0,0,0,0,0,0,0],\n",
    "        [0,0,0,0,0,0,0],\n",
    "    ])\n",
    "\n",
    "    reference = np.asarray([\n",
    "        [0,1,1,0,0,0,0],\n",
    "        [1,2,2,1,0,0,0],\n",
    "        [0,2,2,0,0,0,0],\n",
    "        [0,0,0,0,0,0,0],\n",
    "        [0,0,0,0,0,0,0],\n",
    "        [0,0,0,0,0,0,0],\n",
    "        [0,0,0,0,0,0,0],\n",
    "    ])\n",
    "\n",
    "    result = candidate(image, kernel)\n",
    "    \n",
    "    assert np.allclose(reference, result)\n",
    "   \n"
   ]
  },
  {
   "cell_type": "code",
   "execution_count": 3,
   "id": "69bcd0a7-6b4e-47d4-8903-5c45a65a8212",
   "metadata": {},
   "outputs": [],
   "source": [
    "check(convolve_images)"
   ]
  },
  {
   "cell_type": "code",
   "execution_count": null,
   "id": "ac401976-d98c-44bf-a802-62129a35300b",
   "metadata": {},
   "outputs": [],
   "source": []
  }
 ],
 "metadata": {
  "kernelspec": {
   "display_name": "Python 3 (ipykernel)",
   "language": "python",
   "name": "python3"
  },
  "language_info": {
   "codemirror_mode": {
    "name": "ipython",
    "version": 3
   },
   "file_extension": ".py",
   "mimetype": "text/x-python",
   "name": "python",
   "nbconvert_exporter": "python",
   "pygments_lexer": "ipython3",
   "version": "3.10.14"
  }
 },
 "nbformat": 4,
 "nbformat_minor": 5
}
