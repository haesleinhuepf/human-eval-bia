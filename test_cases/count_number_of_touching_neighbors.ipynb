{
 "cells": [
  {
   "cell_type": "code",
   "execution_count": 1,
   "id": "62a24ee3-b70a-4d9f-8a1e-8878cae835ec",
   "metadata": {},
   "outputs": [],
   "source": [
    "def count_number_of_touching_neighbors(label_image):\n",
    "    \"\"\"\n",
    "    Takes a label image provided as numpy array and returns a list of number of touching neighbors \n",
    "    for each labeled object.\n",
    "    \"\"\"\n",
    "    import numpy as np\n",
    "    import pyclesperanto_prototype as cle\n",
    "\n",
    "    touch_matrix = cle.generate_touch_matrix(label_image)\n",
    "    cle.set_row(touch_matrix, 0, 0)\n",
    "    cle.set_column(touch_matrix, 0, 0)\n",
    "\n",
    "    return np.asarray(cle.sum_y_projection(touch_matrix))[0,1:].tolist()"
   ]
  },
  {
   "cell_type": "code",
   "execution_count": 2,
   "id": "c26195ec-50f8-4465-b312-fa40b5e3ae08",
   "metadata": {},
   "outputs": [],
   "source": [
    "def check(candidate):\n",
    "    import numpy as np\n",
    "\n",
    "    label_image = np.asarray([\n",
    "        [0,0,0,0,0],\n",
    "        [0,0,2,2,0],\n",
    "        [0,0,1,3,0],\n",
    "        [0,4,1,0,0],\n",
    "        [0,0,0,0,0],\n",
    "    ])\n",
    "    print(candidate(label_image))\n",
    "    assert np.array_equal(candidate(label_image), [3, 2, 2, 1])"
   ]
  },
  {
   "cell_type": "code",
   "execution_count": 3,
   "id": "55fdf71d-d03c-4919-9765-0a27e27fd737",
   "metadata": {},
   "outputs": [
    {
     "name": "stdout",
     "output_type": "stream",
     "text": [
      "[3.0, 2.0, 2.0, 1.0]\n"
     ]
    }
   ],
   "source": [
    "check(count_number_of_touching_neighbors)"
   ]
  },
  {
   "cell_type": "code",
   "execution_count": null,
   "id": "d9670160-e3b3-43cf-a1c8-b30f812fae64",
   "metadata": {},
   "outputs": [],
   "source": []
  },
  {
   "cell_type": "code",
   "execution_count": null,
   "id": "6644a68d-97c9-4cf9-aa33-247bddd67d39",
   "metadata": {},
   "outputs": [],
   "source": []
  }
 ],
 "metadata": {
  "kernelspec": {
   "display_name": "Python 3 (ipykernel)",
   "language": "python",
   "name": "python3"
  },
  "language_info": {
   "codemirror_mode": {
    "name": "ipython",
    "version": 3
   },
   "file_extension": ".py",
   "mimetype": "text/x-python",
   "name": "python",
   "nbconvert_exporter": "python",
   "pygments_lexer": "ipython3",
   "version": "3.10.14"
  }
 },
 "nbformat": 4,
 "nbformat_minor": 5
}
