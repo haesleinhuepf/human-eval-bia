{
 "cells": [
  {
   "cell_type": "code",
   "execution_count": 1,
   "id": "62a24ee3-b70a-4d9f-8a1e-8878cae835ec",
   "metadata": {},
   "outputs": [],
   "source": [
    "def count_objects_over_time(binary_image_list):\n",
    "    \"\"\"\n",
    "    Takes a timelapse (list of binary images provided as numpy arrays), counts the number \n",
    "    of connected components for each time frame and returns the resulting counts as list.\n",
    "    \"\"\"\n",
    "    import numpy as np\n",
    "    from skimage.measure import label\n",
    "    labels = [label(binary_image) for binary_image in binary_image_list]\n",
    "    return [len(np.unique(label)) - 1 for label in labels]"
   ]
  },
  {
   "cell_type": "code",
   "execution_count": 2,
   "id": "c26195ec-50f8-4465-b312-fa40b5e3ae08",
   "metadata": {},
   "outputs": [],
   "source": [
    "def check(candidate):\n",
    "    import numpy as np\n",
    "\n",
    "    images = [\n",
    "        np.asarray([\n",
    "            [1,0,0,0],    \n",
    "            [0,0,0,0],    \n",
    "            [0,0,1,0],    \n",
    "            [0,0,0,0],            \n",
    "        ]),\n",
    "        np.asarray([\n",
    "            [1,0,0,0],    \n",
    "            [0,0,0,0],    \n",
    "            [0,0,1,1],    \n",
    "            [0,0,0,0],            \n",
    "        ]),\n",
    "        np.asarray([\n",
    "            [1,0,0,0],    \n",
    "            [0,0,0,0],    \n",
    "            [0,0,0,1],    \n",
    "            [0,1,0,0],            \n",
    "        ]),\n",
    "        np.asarray([\n",
    "            [1,1,0,0],    \n",
    "            [0,0,0,0],    \n",
    "            [0,0,0,1],    \n",
    "            [0,1,0,0],            \n",
    "        ]),\n",
    "        np.asarray([\n",
    "            [0,0,1,0],    \n",
    "            [1,0,0,0],    \n",
    "            [0,0,0,1],    \n",
    "            [0,1,0,0],            \n",
    "        ]),\n",
    "    ]\n",
    "    reference = [2,2,3,3,4]\n",
    "    \n",
    "    result = candidate(images) \n",
    "\n",
    "    assert np.allclose(reference, result)\n"
   ]
  },
  {
   "cell_type": "code",
   "execution_count": 3,
   "id": "55fdf71d-d03c-4919-9765-0a27e27fd737",
   "metadata": {},
   "outputs": [],
   "source": [
    "check(count_objects_over_time)"
   ]
  },
  {
   "cell_type": "code",
   "execution_count": null,
   "id": "d9670160-e3b3-43cf-a1c8-b30f812fae64",
   "metadata": {},
   "outputs": [],
   "source": []
  }
 ],
 "metadata": {
  "kernelspec": {
   "display_name": "Python 3 (ipykernel)",
   "language": "python",
   "name": "python3"
  },
  "language_info": {
   "codemirror_mode": {
    "name": "ipython",
    "version": 3
   },
   "file_extension": ".py",
   "mimetype": "text/x-python",
   "name": "python",
   "nbconvert_exporter": "python",
   "pygments_lexer": "ipython3",
   "version": "3.10.14"
  }
 },
 "nbformat": 4,
 "nbformat_minor": 5
}
