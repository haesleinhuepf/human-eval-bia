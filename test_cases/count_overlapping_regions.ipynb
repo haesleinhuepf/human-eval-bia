{
 "cells": [
  {
   "cell_type": "code",
   "execution_count": 1,
   "id": "62a24ee3-b70a-4d9f-8a1e-8878cae835ec",
   "metadata": {},
   "outputs": [],
   "source": [
    "def count_overlapping_regions(label_image_1, label_image_2):\n",
    "    \"\"\"\n",
    "    Takes two label images provided as numpy arrays and counts how many objects in \n",
    "    label_image_1 overlap with any labeled object in label_image_2 with at least \n",
    "    one pixel. It returns the count of overlapping objects.\n",
    "    \"\"\"\n",
    "    import skimage\n",
    "    import pandas as pd\n",
    "    stats = skimage.measure.regionprops_table(label_image_1, label_image_2, properties=('mean_intensity',))\n",
    "    return (pd.DataFrame(stats)['mean_intensity'] > 0).sum()"
   ]
  },
  {
   "cell_type": "code",
   "execution_count": 2,
   "id": "c26195ec-50f8-4465-b312-fa40b5e3ae08",
   "metadata": {},
   "outputs": [],
   "source": [
    "def check(candidate):\n",
    "    import numpy as np\n",
    "\n",
    "    label_image_1 = np.asarray([\n",
    "        [0,1,0,0,0],\n",
    "        [0,0,2,0,0],\n",
    "        [0,0,0,3,0],\n",
    "        [0,4,4,0,0],\n",
    "        [0,0,0,5,0],\n",
    "    ])\n",
    "\n",
    "    label_image_2 = np.asarray([\n",
    "        [0,0,0,0,0],\n",
    "        [0,0,0,0,0],\n",
    "        [0,0,0,1,0],\n",
    "        [0,0,1,0,0],\n",
    "        [0,0,0,1,0],\n",
    "    ])\n",
    "    \n",
    "    result = candidate(label_image_1, label_image_2) \n",
    "    assert result == 3\n",
    "\n",
    "    result = candidate(label_image_2, label_image_1)\n",
    "    assert result == 1\n"
   ]
  },
  {
   "cell_type": "code",
   "execution_count": 3,
   "id": "55fdf71d-d03c-4919-9765-0a27e27fd737",
   "metadata": {},
   "outputs": [],
   "source": [
    "check(count_overlapping_regions)"
   ]
  },
  {
   "cell_type": "code",
   "execution_count": null,
   "id": "d9670160-e3b3-43cf-a1c8-b30f812fae64",
   "metadata": {},
   "outputs": [],
   "source": []
  },
  {
   "cell_type": "code",
   "execution_count": null,
   "id": "6644a68d-97c9-4cf9-aa33-247bddd67d39",
   "metadata": {},
   "outputs": [],
   "source": []
  }
 ],
 "metadata": {
  "kernelspec": {
   "display_name": "Python 3 (ipykernel)",
   "language": "python",
   "name": "python3"
  },
  "language_info": {
   "codemirror_mode": {
    "name": "ipython",
    "version": 3
   },
   "file_extension": ".py",
   "mimetype": "text/x-python",
   "name": "python",
   "nbconvert_exporter": "python",
   "pygments_lexer": "ipython3",
   "version": "3.10.14"
  }
 },
 "nbformat": 4,
 "nbformat_minor": 5
}
