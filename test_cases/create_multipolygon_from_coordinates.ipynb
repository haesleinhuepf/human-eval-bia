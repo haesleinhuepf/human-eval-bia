{
 "cells": [
  {
   "cell_type": "code",
   "execution_count": 1,
   "metadata": {},
   "outputs": [],
   "source": [
    "def create_multipolygon_from_coordinate_list(coordinates):\n",
    "    \"\"\"\n",
    "    Take a list of coordinate lists that intersect only at one point and create a shapely multipolygon. \n",
    "    The multipolygon must be valid. Return the multipolygon\n",
    "    \"\"\"\n",
    "    from shapely.geometry import Polygon, MultiPolygon\n",
    "    multi_poly = MultiPolygon([Polygon(x) for x in coordinates])\n",
    "    return multi_poly"
   ]
  },
  {
   "cell_type": "code",
   "execution_count": 2,
   "metadata": {},
   "outputs": [],
   "source": [
    "def check(candidate):\n",
    "    points = [[[0,0],[4,0],[4,4],[0,4]]]\n",
    "    from shapely.geometry import MultiPolygon\n",
    "    ref_poly = candidate(points)\n",
    "    assert ref_poly.is_valid\n",
    "    assert isinstance(ref_poly,MultiPolygon)"
   ]
  },
  {
   "cell_type": "code",
   "execution_count": 3,
   "metadata": {},
   "outputs": [],
   "source": [
    "check(create_multipolygon_from_coordinate_list)"
   ]
  }
 ],
 "metadata": {
  "kernelspec": {
   "display_name": "heb",
   "language": "python",
   "name": "python3"
  },
  "language_info": {
   "codemirror_mode": {
    "name": "ipython",
    "version": 3
   },
   "file_extension": ".py",
   "mimetype": "text/x-python",
   "name": "python",
   "nbconvert_exporter": "python",
   "pygments_lexer": "ipython3",
   "version": "3.10.14"
  }
 },
 "nbformat": 4,
 "nbformat_minor": 2
}
