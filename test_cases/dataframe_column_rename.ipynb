{
 "cells": [
  {
   "cell_type": "code",
   "id": "initial_id",
   "metadata": {
    "collapsed": true
   },
   "source": [
    "def replace_with_regex(df, column, replacements):\n",
    "    \"\"\"\n",
    "    This function rename strings from the dataframe column based on user input \n",
    "    \"\"\"\n",
    "    for old_value, new_value in replacements.items():\n",
    "        df[column] = df[column].replace(old_value, new_value, regex=True)\n",
    "    return df"
   ],
   "outputs": [],
   "execution_count": null
  },
  {
   "metadata": {},
   "cell_type": "code",
   "source": [
    "def check(candidate):\n",
    "    import pandas as pd\n",
    "    replacements = {'s1': 'GBT', 's2': 'HTZ'}\n",
    "    original_dataset = {'image_name': ['2024_img1_s1_001', '2024_img2_s2_002', '2024_img1_s1_002', '2024_img2_s2_002']}\n",
    "    df_original = pd.DataFrame(original_dataset)\n",
    "    \n",
    "    expected_dataset = {'image_name': ['2024_img1_GBT_001', '2024_img2_HTZ_002', '2024_img1_GBT_002', '2024_img2_HTZ_002']}\n",
    "    df_expected = pd.DataFrame(expected_dataset)\n",
    "    \n",
    "    result_dataset = candidate(df_original, \"image_name\", replacements)\n",
    "    \n",
    "    df_expected_list = df_expected['image_name'].tolist()\n",
    "    df_result_list = result_dataset['image_name'].tolist()\n",
    "    \n",
    "    assert df_result_list == df_expected_list"
   ],
   "id": "8937afa911ebab13",
   "outputs": [],
   "execution_count": null
  },
  {
   "metadata": {},
   "cell_type": "code",
   "source": "check(replace_with_regex)",
   "id": "38d1def7c9d4603a",
   "outputs": [],
   "execution_count": null
  }
 ],
 "metadata": {
  "kernelspec": {
   "display_name": "Python 3",
   "language": "python",
   "name": "python3"
  },
  "language_info": {
   "codemirror_mode": {
    "name": "ipython",
    "version": 2
   },
   "file_extension": ".py",
   "mimetype": "text/x-python",
   "name": "python",
   "nbconvert_exporter": "python",
   "pygments_lexer": "ipython2",
   "version": "2.7.6"
  }
 },
 "nbformat": 4,
 "nbformat_minor": 5
}
