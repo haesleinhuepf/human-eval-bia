{
 "cells": [
  {
   "cell_type": "code",
   "execution_count": 1,
   "id": "initial_id",
   "metadata": {},
   "outputs": [],
   "source": [
    "def dataframe_colum_rename(df, column, replacements):\n",
    "    \"\"\"\n",
    "    Rename text all rows of specified column in a pandas dataframe. \n",
    "    The replacements are provided as dictionary.\n",
    "    The dataframe is returned.\n",
    "    \"\"\"\n",
    "    for old_value, new_value in replacements.items():\n",
    "        df[column] = df[column].replace(old_value, new_value, regex=True)\n",
    "    return df"
   ]
  },
  {
   "cell_type": "code",
   "execution_count": 2,
   "id": "8937afa911ebab13",
   "metadata": {},
   "outputs": [],
   "source": [
    "def check(candidate):\n",
    "    import pandas as pd\n",
    "    replacements = {'s1': 'GBT', 's2': 'HTZ'}\n",
    "    original_dataset = {'image_name': ['2024_img1_s1_001', '2024_img2_s2_002', '2024_img1_s1_002', '2024_img2_s2_002']}\n",
    "    df_original = pd.DataFrame(original_dataset)\n",
    "    \n",
    "    expected_dataset = {'image_name': ['2024_img1_GBT_001', '2024_img2_HTZ_002', '2024_img1_GBT_002', '2024_img2_HTZ_002']}\n",
    "    df_expected = pd.DataFrame(expected_dataset)\n",
    "    \n",
    "    result_dataset = candidate(df_original, \"image_name\", replacements)\n",
    "    \n",
    "    df_expected_list = df_expected['image_name'].tolist()\n",
    "    df_result_list = result_dataset['image_name'].tolist()\n",
    "    \n",
    "    assert df_result_list == df_expected_list"
   ]
  },
  {
   "cell_type": "code",
   "execution_count": 3,
   "id": "38d1def7c9d4603a",
   "metadata": {},
   "outputs": [],
   "source": [
    "check(dataframe_colum_rename)"
   ]
  }
 ],
 "metadata": {
  "kernelspec": {
   "display_name": "Python 3 (ipykernel)",
   "language": "python",
   "name": "python3"
  },
  "language_info": {
   "codemirror_mode": {
    "name": "ipython",
    "version": 3
   },
   "file_extension": ".py",
   "mimetype": "text/x-python",
   "name": "python",
   "nbconvert_exporter": "python",
   "pygments_lexer": "ipython3",
   "version": "3.10.15"
  }
 },
 "nbformat": 4,
 "nbformat_minor": 5
}
