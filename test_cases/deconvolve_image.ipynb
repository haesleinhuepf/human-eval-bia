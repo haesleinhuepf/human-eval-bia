{
 "cells": [
  {
   "cell_type": "code",
   "execution_count": 1,
   "id": "b7183cae-ecf6-4a90-970d-bc063b112c03",
   "metadata": {},
   "outputs": [],
   "source": [
    "def deconvolve_image(image, kernel_image):\n",
    "    \"\"\"\n",
    "    Deconvolve an image with a kernel_image and return the result.\n",
    "    Input images and return value are of type numpy array.\n",
    "    \"\"\"\n",
    "    from scipy import fftpack\n",
    "\n",
    "    # adapted from: https://stackoverflow.com/questions/17473917/is-there-a-equivalent-of-scipy-signal-deconvolve-for-2d-arrays\n",
    "    star_fft = fftpack.fftshift(fftpack.fftn(image))\n",
    "    psf_fft = fftpack.fftshift(fftpack.fftn(kernel_image))\n",
    "    return fftpack.fftshift(fftpack.ifftn(fftpack.ifftshift(star_fft/psf_fft)))\n",
    "    "
   ]
  },
  {
   "cell_type": "code",
   "execution_count": 2,
   "id": "b24446cb-3756-4bd6-962d-2e6285a3db82",
   "metadata": {},
   "outputs": [],
   "source": [
    "def check(candidate):\n",
    "    import numpy as np\n",
    "\n",
    "    image = np.asarray([\n",
    "        [0,1,0,0,0,0,0],\n",
    "        [1,1,1,0,0,0,0],\n",
    "        [0,2,0,0,0,0,0],\n",
    "        [0,0,0,0,0,0,0],\n",
    "        [0,0,0,0,1,0,0],\n",
    "        [0,0,0,1,1,1,0],\n",
    "        [0,0,0,0,2,0,0],\n",
    "    ])\n",
    "    kernel= np.asarray([\n",
    "        [0,0,0,0,0,0,0],\n",
    "        [0,0,0,0,0,0,0],\n",
    "        [0,0,0,1,0,0,0],\n",
    "        [0,0,1,1,1,0,0],\n",
    "        [0,0,0,2,0,0,0],\n",
    "        [0,0,0,0,0,0,0],\n",
    "        [0,0,0,0,0,0,0],\n",
    "    ])\n",
    "\n",
    "    reference = np.asarray([\n",
    "        [0,0,0,0,0,0,0],\n",
    "        [0,1,0,0,0,0,0],\n",
    "        [0,0,0,0,0,0,0],\n",
    "        [0,0,0,0,0,0,0],\n",
    "        [0,0,0,0,0,0,0],\n",
    "        [0,0,0,0,1,0,0],\n",
    "        [0,0,0,0,0,0,0],\n",
    "    ])\n",
    "\n",
    "    result = candidate(image, kernel)\n",
    "    \n",
    "    assert np.allclose(reference, result)\n",
    "\n",
    "    \n",
    "    image = np.asarray([\n",
    "        [0,1,1,0,0,0,0],\n",
    "        [1,2,2,1,0,0,0],\n",
    "        [0,2,2,0,0,0,0],\n",
    "        [0,0,0,0,0,0,0],\n",
    "        [0,0,0,0,0,0,0],\n",
    "        [0,0,0,0,0,0,0],\n",
    "        [0,0,0,0,0,0,0],\n",
    "    ])\n",
    "\n",
    "    reference = np.asarray([\n",
    "        [0,0,0,0,0,0,0],\n",
    "        [0,1,1,0,0,0,0],\n",
    "        [0,0,0,0,0,0,0],\n",
    "        [0,0,0,0,0,0,0],\n",
    "        [0,0,0,0,0,0,0],\n",
    "        [0,0,0,0,0,0,0],\n",
    "        [0,0,0,0,0,0,0],\n",
    "    ])\n",
    "\n",
    "    result = candidate(image, kernel)\n",
    "    assert np.allclose(reference, result)\n",
    "   \n"
   ]
  },
  {
   "cell_type": "code",
   "execution_count": 3,
   "id": "69bcd0a7-6b4e-47d4-8903-5c45a65a8212",
   "metadata": {},
   "outputs": [],
   "source": [
    "check(deconvolve_image)"
   ]
  },
  {
   "cell_type": "code",
   "execution_count": null,
   "id": "ac401976-d98c-44bf-a802-62129a35300b",
   "metadata": {},
   "outputs": [],
   "source": []
  }
 ],
 "metadata": {
  "kernelspec": {
   "display_name": "Python 3 (ipykernel)",
   "language": "python",
   "name": "python3"
  },
  "language_info": {
   "codemirror_mode": {
    "name": "ipython",
    "version": 3
   },
   "file_extension": ".py",
   "mimetype": "text/x-python",
   "name": "python",
   "nbconvert_exporter": "python",
   "pygments_lexer": "ipython3",
   "version": "3.10.14"
  }
 },
 "nbformat": 4,
 "nbformat_minor": 5
}
