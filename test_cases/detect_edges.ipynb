{
 "cells": [
  {
   "cell_type": "code",
   "execution_count": 1,
   "id": "379be22d-e5f6-41d7-b171-f9f02742fd15",
   "metadata": {},
   "outputs": [],
   "source": [
    "def detect_edges(image):\n",
    "    \"\"\"\n",
    "    Applies an edge-detection filter to an image provided as numpy array and returns the result as numpy array.\n",
    "    \"\"\"\n",
    "    from scipy.ndimage import sobel\n",
    "    filtered_image = sobel(image)\n",
    "    return filtered_image"
   ]
  },
  {
   "cell_type": "code",
   "execution_count": 2,
   "id": "e2c6981f-99ff-4b38-b150-fe03dfdac762",
   "metadata": {},
   "outputs": [],
   "source": [
    "def check(candidate):\n",
    "    import numpy as np\n",
    "\n",
    "    image = np.asarray([\n",
    "        [1,1,2,2,2],\n",
    "        [1,1,2,2,2],\n",
    "        [1,1,2,2,2],\n",
    "        [1,1,2,2,2],\n",
    "        [1,1,2,2,2],\n",
    "    ])\n",
    "\n",
    "    result = candidate(image)\n",
    "    left_column = result[:,0]\n",
    "    center_columns = result[:,1:4]\n",
    "    right_column = result[:,-1]\n",
    "\n",
    "    assert left_column.max() == 0 and left_column.min() == 0\n",
    "    assert center_columns.max() != 0 or center_columns.min() != 0\n",
    "    assert right_column.max() == 0 and left_column.min() == 0"
   ]
  },
  {
   "cell_type": "code",
   "execution_count": 3,
   "id": "e4789ed1-dc01-46a6-80b2-dd98d8d7b875",
   "metadata": {},
   "outputs": [],
   "source": [
    "check(detect_edges)"
   ]
  }
 ],
 "metadata": {
  "kernelspec": {
   "display_name": "Python 3 (ipykernel)",
   "language": "python",
   "name": "python3"
  },
  "language_info": {
   "codemirror_mode": {
    "name": "ipython",
    "version": 3
   },
   "file_extension": ".py",
   "mimetype": "text/x-python",
   "name": "python",
   "nbconvert_exporter": "python",
   "pygments_lexer": "ipython3",
   "version": "3.10.14"
  }
 },
 "nbformat": 4,
 "nbformat_minor": 5
}
