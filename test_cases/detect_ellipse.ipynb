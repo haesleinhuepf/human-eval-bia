{
 "cells": [
  {
   "cell_type": "code",
   "id": "initial_id",
   "metadata": {
    "collapsed": true,
    "ExecuteTime": {
     "end_time": "2024-08-05T01:10:15.502690Z",
     "start_time": "2024-08-05T01:10:15.499956Z"
    }
   },
   "source": [
    "def detect_ellipse(image):\n",
    "    \"\"\"\n",
    "    Given a binary edge map, detect the ellipse in the image using a Hough Transform.\n",
    "    Return the center of the ellipse in the image as a tuple (y, x).\n",
    "    \"\"\"\n",
    "    from skimage.transform import hough_ellipse\n",
    "    result = hough_ellipse(image,  accuracy=5, threshold=10)\n",
    "    result.sort(order='accumulator')\n",
    "    \n",
    "    # Estimated parameters for the ellipse\n",
    "    best = list(result[-1])\n",
    "    yc, xc, a, b = (int(round(x)) for x in best[1:5])\n",
    "    \n",
    "    return yc, xc"
   ],
   "outputs": [],
   "execution_count": 87
  },
  {
   "metadata": {
    "ExecuteTime": {
     "end_time": "2024-08-05T01:10:25.140024Z",
     "start_time": "2024-08-05T01:10:25.137211Z"
    }
   },
   "cell_type": "code",
   "source": [
    "def check(candidate):\n",
    "    import numpy as np\n",
    "    from skimage.draw import ellipse_perimeter\n",
    "\n",
    "    image = np.zeros((100, 100))\n",
    "    cy, cx = ellipse_perimeter(30, 60, 20, 10, np.pi / 4)\n",
    "    image[cy, cx] = 1\n",
    "    yc, xc = detect_ellipse(image)\n",
    "    \n",
    "    dx = yc - 30\n",
    "    dy = xc - 60\n",
    "    \n",
    "    # Check if the center of the ellipse is detected within a distance of 7 pixels\n",
    "    assert dx ** 2 + dy ** 2 < 7 ** 2"
   ],
   "id": "3bf4caa996b0604f",
   "outputs": [],
   "execution_count": 90
  },
  {
   "metadata": {
    "ExecuteTime": {
     "end_time": "2024-08-05T01:10:25.722761Z",
     "start_time": "2024-08-05T01:10:25.658436Z"
    }
   },
   "cell_type": "code",
   "source": "check(detect_ellipse)",
   "id": "9ff01af9981e8577",
   "outputs": [],
   "execution_count": 91
  },
  {
   "metadata": {},
   "cell_type": "code",
   "outputs": [],
   "execution_count": null,
   "source": "",
   "id": "11d154fa92a96406"
  }
 ],
 "metadata": {
  "kernelspec": {
   "display_name": "Python 3",
   "language": "python",
   "name": "python3"
  },
  "language_info": {
   "codemirror_mode": {
    "name": "ipython",
    "version": 2
   },
   "file_extension": ".py",
   "mimetype": "text/x-python",
   "name": "python",
   "nbconvert_exporter": "python",
   "pygments_lexer": "ipython2",
   "version": "2.7.6"
  }
 },
 "nbformat": 4,
 "nbformat_minor": 5
}
