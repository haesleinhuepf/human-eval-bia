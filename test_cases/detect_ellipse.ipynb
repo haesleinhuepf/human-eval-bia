{
 "cells": [
  {
   "cell_type": "code",
   "execution_count": 1,
   "id": "initial_id",
   "metadata": {
    "ExecuteTime": {
     "end_time": "2024-08-05T01:10:15.502690Z",
     "start_time": "2024-08-05T01:10:15.499956Z"
    }
   },
   "outputs": [],
   "source": [
    "def detect_ellipse(image):\n",
    "    \"\"\"\n",
    "    Given a binary edge map, detect the ellipse in the image using a Hough Transform.\n",
    "    Return the center of the ellipse in the image as a tuple (y, x).\n",
    "    \"\"\"\n",
    "    from skimage.transform import hough_ellipse\n",
    "    result = hough_ellipse(image,  accuracy=5, threshold=10)\n",
    "    result.sort(order='accumulator')\n",
    "    \n",
    "    # Estimated parameters for the ellipse\n",
    "    best = list(result[-1])\n",
    "    yc, xc, a, b = (int(round(x)) for x in best[1:5])\n",
    "    \n",
    "    return yc, xc"
   ]
  },
  {
   "cell_type": "code",
   "execution_count": 2,
   "id": "3bf4caa996b0604f",
   "metadata": {
    "ExecuteTime": {
     "end_time": "2024-08-05T01:10:25.140024Z",
     "start_time": "2024-08-05T01:10:25.137211Z"
    }
   },
   "outputs": [],
   "source": [
    "import numpy as np\n",
    "def draw_elipse(x, y, a=20, b=10, angle_rad=np.pi / 4):\n",
    "    from skimage.draw import ellipse_perimeter\n",
    "    image = np.zeros((100, 100))\n",
    "    cy, cx = ellipse_perimeter(y, x, a, b, angle_rad)\n",
    "    image[cy, cx] = 1\n",
    "    return image\n",
    "\n",
    "def check(candidate):\n",
    "\n",
    "    x = 60\n",
    "    y = 30\n",
    "    image = draw_elipse(x=x, y=y)\n",
    "    yc, xc = detect_ellipse(image)\n",
    "    \n",
    "    # Check if the center of the ellipse is detected within a distance of 1 pixel\n",
    "    assert abs(yc - y) <= 1\n",
    "    assert abs(xc - x) <= 1\n",
    "\n",
    "    x = 25\n",
    "    y = 12\n",
    "    image = draw_elipse(x=x, y=y, a=5, b=3)\n",
    "    yc, xc = detect_ellipse(image)\n",
    "    \n",
    "    # Check if the center of the ellipse is detected within a distance of 1 pixel\n",
    "    assert abs(yc - y) <= 1\n",
    "    assert abs(xc - x) <= 1\n"
   ]
  },
  {
   "cell_type": "code",
   "execution_count": 3,
   "id": "9ff01af9981e8577",
   "metadata": {
    "ExecuteTime": {
     "end_time": "2024-08-05T01:10:25.722761Z",
     "start_time": "2024-08-05T01:10:25.658436Z"
    }
   },
   "outputs": [],
   "source": [
    "check(detect_ellipse)"
   ]
  },
  {
   "cell_type": "code",
   "execution_count": null,
   "id": "11d154fa92a96406",
   "metadata": {},
   "outputs": [],
   "source": []
  }
 ],
 "metadata": {
  "kernelspec": {
   "display_name": "Python 3 (ipykernel)",
   "language": "python",
   "name": "python3"
  },
  "language_info": {
   "codemirror_mode": {
    "name": "ipython",
    "version": 3
   },
   "file_extension": ".py",
   "mimetype": "text/x-python",
   "name": "python",
   "nbconvert_exporter": "python",
   "pygments_lexer": "ipython3",
   "version": "3.10.14"
  }
 },
 "nbformat": 4,
 "nbformat_minor": 5
}
