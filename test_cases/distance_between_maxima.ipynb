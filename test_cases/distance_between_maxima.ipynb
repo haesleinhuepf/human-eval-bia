{
 "cells": [
  {
   "cell_type": "code",
   "execution_count": 1,
   "id": "62a24ee3-b70a-4d9f-8a1e-8878cae835ec",
   "metadata": {},
   "outputs": [],
   "source": [
    "def distance_between_maxima(image1,image2):\n",
    "    \"\"\"\n",
    "    Takes two images as input, finds the maximum pixel in each image, and returns \n",
    "    the distance in pixels between the two maxima.\n",
    "    Input: two 2D images as separate inputs\n",
    "    Output: Float\n",
    "    \"\"\"\n",
    "    import numpy as np\n",
    "\n",
    "    im1 = np.asarray(image1)\n",
    "    im2 = np.asarray(image2)\n",
    "\n",
    "    x1,y1 = np.unravel_index(im1.argmax(), im1.shape)\n",
    "    x2,y2 = np.unravel_index(im2.argmax(), im2.shape)\n",
    "\n",
    "    distance = np.sqrt((x2-x1)**2 + (y2-y1)**2)\n",
    "\n",
    "    return distance"
   ]
  },
  {
   "cell_type": "code",
   "execution_count": 2,
   "id": "c26195ec-50f8-4465-b312-fa40b5e3ae08",
   "metadata": {},
   "outputs": [],
   "source": [
    "def check(candidate):\n",
    "    import numpy as np\n",
    "\n",
    "    image1 = np.asarray([\n",
    "            [0,1,2,0,0],\n",
    "            [0,0,3,2,0],\n",
    "            [0,0,1,2,0],\n",
    "            [0,4,1,1,0],\n",
    "            [0,0,0,0,0],\n",
    "        ])\n",
    "\n",
    "    image2 = np.asarray([\n",
    "            [0,0,0,5,0],\n",
    "            [0,1,0,1,0],\n",
    "            [1,0,2,0,0],\n",
    "            [0,0,3,4,0],\n",
    "            [1,1,0,0,0],\n",
    "        ])\n",
    "    \n",
    "    result = candidate(image1,image2)\n",
    "\n",
    "    assert np.allclose(result, np.sqrt(13), 0.01)\n",
    "\n",
    "    image1 = np.asarray([\n",
    "            [0,0,0,0,0],\n",
    "            [0,0,1,0,0],\n",
    "            [0,0,0,0,0],\n",
    "            [0,0,0,0,0],\n",
    "            [0,0,0,0,0],\n",
    "        ])\n",
    "\n",
    "    image2 = np.asarray([\n",
    "            [0,0,0,0,0],\n",
    "            [0,0,0,0,0],\n",
    "            [0,0,1,0,0],\n",
    "            [0,0,0,0,0],\n",
    "            [0,0,0,0,0],\n",
    "        ])\n",
    "    \n",
    "    result = candidate(image1,image2)\n",
    "\n",
    "    assert np.allclose(result, 1, 0.01)\n"
   ]
  },
  {
   "cell_type": "code",
   "execution_count": 3,
   "id": "55fdf71d-d03c-4919-9765-0a27e27fd737",
   "metadata": {},
   "outputs": [],
   "source": [
    "check(distance_between_maxima)"
   ]
  },
  {
   "cell_type": "code",
   "execution_count": null,
   "id": "57b8c61e-9cf0-490e-9db1-3c039b01c4e9",
   "metadata": {},
   "outputs": [],
   "source": []
  }
 ],
 "metadata": {
  "kernelspec": {
   "display_name": "Python 3 (ipykernel)",
   "language": "python",
   "name": "python3"
  },
  "language_info": {
   "codemirror_mode": {
    "name": "ipython",
    "version": 3
   },
   "file_extension": ".py",
   "mimetype": "text/x-python",
   "name": "python",
   "nbconvert_exporter": "python",
   "pygments_lexer": "ipython3",
   "version": "3.10.14"
  }
 },
 "nbformat": 4,
 "nbformat_minor": 5
}
