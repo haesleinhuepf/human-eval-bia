{
 "cells": [
  {
   "cell_type": "code",
   "execution_count": 1,
   "id": "379be22d-e5f6-41d7-b171-f9f02742fd15",
   "metadata": {},
   "outputs": [],
   "source": [
    "def expand_labels_without_overlap(label_image, radius:int=1):\n",
    "    \"\"\"\n",
    "    Takes a label_image provided as numpy array and enlarges all labels by a given radius, without\n",
    "    labels overwriting each other. The resulting label image is returned as numpy array.\n",
    "    \"\"\"\n",
    "    import skimage\n",
    "    return skimage.segmentation.expand_labels(label_image, distance=radius)"
   ]
  },
  {
   "cell_type": "code",
   "execution_count": 2,
   "id": "e2c6981f-99ff-4b38-b150-fe03dfdac762",
   "metadata": {},
   "outputs": [],
   "source": [
    "def check(candidate):\n",
    "    import numpy as np\n",
    "    \n",
    "    result = candidate(np.asarray([\n",
    "        [0,0,0,0,0],\n",
    "        [0,1,1,3,0],\n",
    "        [0,1,1,3,0],\n",
    "        [0,0,0,0,0],\n",
    "        [2,0,0,0,0],\n",
    "    ]))\n",
    "\n",
    "    reference = np.asarray([\n",
    "        [0,1,1,3,0],\n",
    "        [1,1,1,3,3],\n",
    "        [1,1,1,3,3],\n",
    "        [2,1,1,3,0],\n",
    "        [2,2,0,0,0],\n",
    "    ])\n",
    "\n",
    "    assert np.array_equal(reference, result)"
   ]
  },
  {
   "cell_type": "code",
   "execution_count": 3,
   "id": "e4789ed1-dc01-46a6-80b2-dd98d8d7b875",
   "metadata": {},
   "outputs": [],
   "source": [
    "check(expand_labels_without_overlap)"
   ]
  },
  {
   "cell_type": "code",
   "execution_count": null,
   "id": "69f50302-d69f-4659-9512-4bb86db33cbc",
   "metadata": {},
   "outputs": [],
   "source": []
  }
 ],
 "metadata": {
  "kernelspec": {
   "display_name": "Python 3 (ipykernel)",
   "language": "python",
   "name": "python3"
  },
  "language_info": {
   "codemirror_mode": {
    "name": "ipython",
    "version": 3
   },
   "file_extension": ".py",
   "mimetype": "text/x-python",
   "name": "python",
   "nbconvert_exporter": "python",
   "pygments_lexer": "ipython3",
   "version": "3.10.14"
  }
 },
 "nbformat": 4,
 "nbformat_minor": 5
}
