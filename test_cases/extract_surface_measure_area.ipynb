{
 "cells": [
  {
   "cell_type": "code",
   "execution_count": 1,
   "id": "9ac5accc-0936-4f36-9872-e5239757a08e",
   "metadata": {},
   "outputs": [],
   "source": [
    "def extract_surface_measure_area(binary_volume_image):\n",
    "    \"\"\"\n",
    "    Take a 3D binary_volume_image provided as numpy array, extracts the surface of the white (voxel value != 0) object \n",
    "    and returns the surface area of the object.\n",
    "    \"\"\"\n",
    "    import vedo\n",
    "    volume = vedo.Volume(binary_volume_image)\n",
    "    iso_surface = volume.isosurface()\n",
    "    return iso_surface.area()"
   ]
  },
  {
   "cell_type": "code",
   "execution_count": 2,
   "id": "5d8caa75-3a04-49d5-b654-2f758d44271a",
   "metadata": {},
   "outputs": [],
   "source": [
    "def check(candidate):\n",
    "    import numpy as np\n",
    "    binary_volume_image = np.asarray([\n",
    "        [\n",
    "            [0,0,0,0],\n",
    "            [0,0,0,0],\n",
    "            [0,0,0,0],\n",
    "            [0,0,0,0],\n",
    "        ],[\n",
    "            [0,0,0,0],\n",
    "            [0,1,1,0],\n",
    "            [0,1,1,0],\n",
    "            [0,0,0,0],\n",
    "        ],[\n",
    "            [0,0,0,0],\n",
    "            [0,1,1,0],\n",
    "            [0,1,1,0],\n",
    "            [0,0,0,0],\n",
    "        ],[\n",
    "            [0,0,0,0],\n",
    "            [0,0,0,0],\n",
    "            [0,0,0,0],\n",
    "            [0,0,0,0],\n",
    "        ],\n",
    "    ])\n",
    "    assert abs(candidate(binary_volume_image) - 20) < 1\n",
    "\n",
    "    binary_volume_image = np.zeros((3,3,3))\n",
    "    binary_volume_image[1,1,1] = 1\n",
    "    assert abs(candidate(binary_volume_image) - 3) < 1\n"
   ]
  },
  {
   "cell_type": "code",
   "execution_count": 3,
   "id": "fc5eb545-7cba-4a9b-a359-d3e91aa5a086",
   "metadata": {},
   "outputs": [],
   "source": [
    "check(extract_surface_measure_area)"
   ]
  },
  {
   "cell_type": "code",
   "execution_count": null,
   "id": "9135b54e-0dc0-45e6-9f9a-e66d92f3700d",
   "metadata": {},
   "outputs": [],
   "source": []
  }
 ],
 "metadata": {
  "kernelspec": {
   "display_name": "Python 3 (ipykernel)",
   "language": "python",
   "name": "python3"
  },
  "language_info": {
   "codemirror_mode": {
    "name": "ipython",
    "version": 3
   },
   "file_extension": ".py",
   "mimetype": "text/x-python",
   "name": "python",
   "nbconvert_exporter": "python",
   "pygments_lexer": "ipython3",
   "version": "3.10.14"
  }
 },
 "nbformat": 4,
 "nbformat_minor": 5
}
