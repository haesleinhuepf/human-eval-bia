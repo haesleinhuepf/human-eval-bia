{
 "cells": [
  {
   "cell_type": "code",
   "execution_count": 1,
   "metadata": {
    "ExecuteTime": {
     "end_time": "2024-08-13T14:54:50.960087Z",
     "start_time": "2024-08-13T14:54:50.953818Z"
    }
   },
   "outputs": [],
   "source": [
    "\n",
    "def fft_spectrum(nd_image, padding):\n",
    "    \"\"\"\n",
    "    Returns the FFT spectrum of an arbitrary nD image as the absolute logarithm (log1p) of the Fourier transform magnitude. Ensures that the DC component is at the center of the image. Uses reflection padding (provided as integer parameter) and Hamming apodisation to reduce artefacts due to discontinuities at the image borders.\n",
    "    \"\"\"\n",
    "    import numpy as np\n",
    "\n",
    "    # computing padding tuple:\n",
    "    pad_width = ((padding, padding),)*nd_image.ndim\n",
    "\n",
    "    # Padding:\n",
    "    image_padded = np.pad(nd_image, pad_width=pad_width, mode='symmetric')\n",
    "    \n",
    "    # prepare the apodization window in 1D:\n",
    "    from scipy import signal\n",
    "    window_tuple = (signal.windows.hamming(length+2*padding) for length in nd_image.shape)\n",
    "    \n",
    "    # prepare the apodization window in nD:\n",
    "    import functools\n",
    "    window = functools.reduce(np.multiply.outer, window_tuple)\n",
    "    \n",
    "    # Apodize:\n",
    "    image_padded_apodized = window*image_padded\n",
    "\n",
    "    # Compute the Fourier transform of the image:\n",
    "    image_fft = np.fft.fftn(image_padded_apodized)\n",
    "    \n",
    "    # Shift the zero-frequency component to the center of the spectrum:\n",
    "    image_fft_shifted = np.fft.fftshift(image_fft)\n",
    "    \n",
    "    # Compute the magnitude spectrum:\n",
    "    magnitude_spectrum = np.log1p(np.abs(image_fft_shifted))\n",
    "        \n",
    "    return(magnitude_spectrum)"
   ]
  },
  {
   "cell_type": "code",
   "execution_count": 2,
   "metadata": {
    "ExecuteTime": {
     "end_time": "2024-08-13T14:54:51.702025Z",
     "start_time": "2024-08-13T14:54:51.695371Z"
    }
   },
   "outputs": [],
   "source": [
    "def check(candidate):\n",
    "    \n",
    "    def fft_spectrum_reference(nd_image, padding):\n",
    "        \"\"\"\n",
    "        Returns the FFT spectrum of an arbitrary nD image as the absolute logarithm (log1p) of the Fourier transform magnitude. Ensures that the DC component is at the center of the image. Uses reflection padding (provided as integer parameter) and Hamming apodization to reduce artefacts due to discontinuities at the image borders.\n",
    "        \"\"\"\n",
    "        import numpy as np\n",
    "    \n",
    "        # computing padding tuple:\n",
    "        pad_width = ((padding, padding),)*nd_image.ndim\n",
    "    \n",
    "        # Padding:\n",
    "        image_padded = np.pad(nd_image, pad_width=pad_width, mode='symmetric')\n",
    "        \n",
    "        # prepare the apodization window in 1D:\n",
    "        from scipy import signal\n",
    "        window_tuple = (signal.windows.hamming(length+2*padding) for length in nd_image.shape)\n",
    "        \n",
    "        # prepare the apodization window in nD:\n",
    "        import functools\n",
    "        window = functools.reduce(np.multiply.outer, window_tuple)\n",
    "        \n",
    "        # Apodize:\n",
    "        image_padded_apodized = window*image_padded\n",
    "    \n",
    "        # Compute the Fourier transform of the image:\n",
    "        image_fft = np.fft.fftn(image_padded_apodized)\n",
    "        \n",
    "        # Shift the zero-frequency component to the center of the spectrum:\n",
    "        image_fft_shifted = np.fft.fftshift(image_fft)\n",
    "        \n",
    "        # Compute the magnitude spectrum:\n",
    "        magnitude_spectrum = np.log1p(np.abs(image_fft_shifted))\n",
    "            \n",
    "        return(magnitude_spectrum)\n",
    "    \n",
    "    import numpy as np   \n",
    "\n",
    "    # Test image:\n",
    "    image = np.ones((5, 6, 7), dtype=np.int16)\n",
    "\n",
    "    # Padding:\n",
    "    padding_width = 10\n",
    "\n",
    "    # running the candidate function:\n",
    "    magnitude_spectrum_candidate = candidate(image, padding_width)\n",
    "    \n",
    "    # Reference implementation:\n",
    "    magnitude_spectrum_reference = fft_spectrum_reference(image, padding_width)\n",
    "    \n",
    "    assert np.allclose(magnitude_spectrum_candidate, magnitude_spectrum_reference)"
   ]
  },
  {
   "cell_type": "code",
   "execution_count": 3,
   "metadata": {
    "ExecuteTime": {
     "end_time": "2024-08-13T14:54:52.036029Z",
     "start_time": "2024-08-13T14:54:52.031560Z"
    }
   },
   "outputs": [],
   "source": [
    "check(fft_spectrum)"
   ]
  },
  {
   "cell_type": "code",
   "execution_count": 4,
   "metadata": {},
   "outputs": [],
   "source": [
    "# # display the magnitude spectrum of a 3D image:\n",
    "# import numpy as np\n",
    "# import matplotlib.pyplot as plt\n",
    "# \n",
    "# # Camera Test image:\n",
    "# image = np.ones((50, 50, 50), dtype=np.int16)\n",
    "# \n",
    "# # Fill the image with integer noise:\n",
    "# image += np.random.randint(0, 10, image.shape)\n",
    "# \n",
    "# # Blurr the image:\n",
    "# from scipy.ndimage import gaussian_filter\n",
    "# image = gaussian_filter(image, sigma=12)\n",
    "# \n",
    "# # Padding:\n",
    "# padding_width = 25\n",
    "# \n",
    "# # Compute the magnitude spectrum:\n",
    "# magnitude_spectrum = fft_spectrum(image, padding_width)\n",
    "# \n",
    "# # Display the magnitude spectrum:\n",
    "# #plt.imshow(magnitude_spectrum[15, :, :])\n",
    "# #plt.show()\n",
    "# \n",
    "# # Display the magnitude spectrum in napari\n",
    "# import napari\n",
    "# viewer = napari.Viewer()\n",
    "# viewer.add_image(magnitude_spectrum, name='Magnitude Spectrum')\n",
    "# viewer.add_image(image, name='Original Image')\n",
    "# viewer.show\n",
    "    \n",
    "    "
   ]
  }
 ],
 "metadata": {
  "kernelspec": {
   "display_name": "Python 3 (ipykernel)",
   "language": "python",
   "name": "python3"
  },
  "language_info": {
   "codemirror_mode": {
    "name": "ipython",
    "version": 3
   },
   "file_extension": ".py",
   "mimetype": "text/x-python",
   "name": "python",
   "nbconvert_exporter": "python",
   "pygments_lexer": "ipython3",
   "version": "3.10.14"
  }
 },
 "nbformat": 4,
 "nbformat_minor": 4
}
