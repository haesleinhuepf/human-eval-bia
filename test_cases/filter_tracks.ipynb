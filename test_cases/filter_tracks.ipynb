{
 "cells": [
  {
   "cell_type": "code",
   "execution_count": 115,
   "metadata": {},
   "outputs": [],
   "source": [
    "# Cell 1: Function definition\n",
    "def filter_tracks(df, min_track_length, id_label='id',frame_label='frame'):\n",
    "    \"\"\"\n",
    "    Filter a pandas data frame to only include tracks that are at least min_track_length long.\n",
    "    The data frame must contain a column with an id for each track (default: 'particle'), and a column representing timepoints (default: 'frame').\n",
    "    \"\"\"\n",
    "\n",
    "    import trackpy as tp\n",
    "    \n",
    "    #relabel the column names to the labels used by trackpy\n",
    "    df = df.rename(columns={id_label: 'particle'})\n",
    "    df = df.rename(columns={frame_label: 'frame'})\n",
    "\n",
    "    #filter the tracks\n",
    "    tracks = tp.filter_stubs(df, min_track_length)\n",
    "    #reset the index\n",
    "    tracks = tracks.reset_index(drop=True)\n",
    "\n",
    "    #revert the column names back to the original\n",
    "    tracks = tracks.rename(columns={'particle': id_label})\n",
    "    tracks = tracks.rename(columns={'frame': frame_label})\n",
    "\n",
    "    return tracks"
   ]
  },
  {
   "cell_type": "code",
   "execution_count": 116,
   "metadata": {},
   "outputs": [],
   "source": [
    "# Cell 2: Test function\n",
    "def check(candidate):\n",
    "    import pandas as pd\n",
    "\n",
    "    ### test 1\n",
    "    #create a test data frame\n",
    "    df = pd.DataFrame({'id': [1, 1, 1, 2, 2, 3, 3, 3, 3], 'frame': [1, 2, 3, 1, 2, 1, 2, 3, 4]})\n",
    "\n",
    "    #filter the data frame\n",
    "    min_track_length = 3\n",
    "    df_ground_truth = pd.DataFrame({'id': [1, 1, 1, 3, 3, 3, 3], 'frame': [1, 2, 3, 1, 2, 3, 4]})\n",
    "    # --> track with id 2 is too short and should be removed\n",
    "\n",
    "    df_filtered = candidate(df, min_track_length)\n",
    "    #don't directly compare the data frames, as the index might be different and we don't care about it\n",
    "    assert df_filtered.columns.equals(df_ground_truth.columns)\n",
    "    assert (df_filtered.values == df_ground_truth.values).all()\n",
    "\n",
    "\n",
    "    ### test 2\n",
    "    #try with different min_track_length\n",
    "    min_track_length = 1\n",
    "    # --> all tracks should be kept\n",
    "    df_filtered = candidate(df, min_track_length)\n",
    "    assert df_filtered.columns.equals(df.columns)\n",
    "    assert (df_filtered.values == df.values).all()\n",
    "\n",
    "\n",
    "    ### test 3\n",
    "    #try with a different id_label and frame_label\n",
    "    df.rename(columns={'id': 'track_id', 'frame': 'time'}, inplace=True)\n",
    "    df_ground_truth.rename(columns={'id': 'track_id', 'frame': 'time'}, inplace=True)\n",
    "    df_filtered = candidate(df, 3, 'track_id', 'time')\n",
    "\n",
    "    #check that there's no error when filtering out all tracks\n",
    "    df_ground_truth_empty = pd.DataFrame({'id': [], 'frame': []})\n",
    "    df.rename(columns={'track_id': 'id', 'time': 'frame'}, inplace=True)\n",
    "    df_filtered = candidate(df, 9999999)\n",
    "    assert df_filtered.columns.equals(df_ground_truth_empty.columns)\n",
    "    assert (df_filtered.values == df_ground_truth_empty.values).all()\n",
    "\n",
    "\n",
    "    ### test 4\n",
    "    #test with a data frame that has no tracks\n",
    "    df_filtered = candidate(df_ground_truth_empty, 3)\n",
    "    assert df_filtered.columns.equals(df_ground_truth_empty.columns)\n",
    "    assert (df_filtered.values == df_ground_truth_empty.values).all()\n",
    "\n"
   ]
  },
  {
   "cell_type": "code",
   "execution_count": 117,
   "metadata": {},
   "outputs": [],
   "source": [
    "# Cell 3: Run test\n",
    "check(filter_tracks)"
   ]
  }
 ],
 "metadata": {
  "kernelspec": {
   "display_name": "napari-env",
   "language": "python",
   "name": "python3"
  },
  "language_info": {
   "codemirror_mode": {
    "name": "ipython",
    "version": 3
   },
   "file_extension": ".py",
   "mimetype": "text/x-python",
   "name": "python",
   "nbconvert_exporter": "python",
   "pygments_lexer": "ipython3",
   "version": "3.9.18"
  }
 },
 "nbformat": 4,
 "nbformat_minor": 2
}
