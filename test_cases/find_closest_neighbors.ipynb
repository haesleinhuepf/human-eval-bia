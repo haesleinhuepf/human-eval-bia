{
 "cells": [
  {
   "cell_type": "code",
   "execution_count": 1,
   "id": "379be22d-e5f6-41d7-b171-f9f02742fd15",
   "metadata": {},
   "outputs": [],
   "source": [
    "def find_closest_neighbors(label_image, target_label, n):\n",
    "    \"\"\"\n",
    "    Given a label_image and target_label number of interest, find the n closest \n",
    "    other labelled regions (by inter-centroid distance) and return them as list\n",
    "    \"\"\"\n",
    "    import numpy as np\n",
    "    from skimage.measure import centroid\n",
    "    \n",
    "    # Identify all centroid locations\n",
    "    label_count = np.max(label_image)\n",
    "    centroids = {}\n",
    "    for i in range(1, label_count + 1):\n",
    "        binary_image = (label_image == i)\n",
    "        centroids[i] = centroid(binary_image)\n",
    "    \n",
    "    # Find the closest top n\n",
    "    distances = [(other, np.linalg.norm(centroids[target_label] - centroids[other])) for other in centroids.keys() if other != target_label]\n",
    "    sorted_distances = sorted(distances, key = lambda pair: pair[1])\n",
    "    topn = [label for label, _ in sorted_distances[:n]]\n",
    "\n",
    "    return topn"
   ]
  },
  {
   "cell_type": "code",
   "execution_count": 2,
   "id": "e2c6981f-99ff-4b38-b150-fe03dfdac762",
   "metadata": {},
   "outputs": [],
   "source": [
    "def check(candidate):\n",
    "    import numpy as np\n",
    "    \n",
    "    label_image = np.asarray([\n",
    "        [0,0,0,5,5],\n",
    "        [1,2,2,6,0],\n",
    "        [1,2,2,6,0],\n",
    "        [1,4,4,3,0],\n",
    "        [0,0,4,4,4],\n",
    "    ])\n",
    "\n",
    "\n",
    "    expected = [3, 6, 2]\n",
    "    result = candidate(label_image, target_label=4, n=3)\n",
    "    assert result == expected\n",
    "\n",
    "    expected = [2, 4,]\n",
    "    result = candidate(label_image, target_label=1, n=2)\n",
    "    assert result == expected\n",
    "\n",
    "    expected = [6,2]\n",
    "    result = candidate(label_image, target_label=5, n=2)\n",
    "    assert result == expected"
   ]
  },
  {
   "cell_type": "code",
   "execution_count": 3,
   "id": "e4789ed1-dc01-46a6-80b2-dd98d8d7b875",
   "metadata": {},
   "outputs": [],
   "source": [
    "check(find_closest_neighbors)"
   ]
  },
  {
   "cell_type": "code",
   "execution_count": null,
   "id": "b38939da-37b8-4572-8227-b35354f3d60d",
   "metadata": {},
   "outputs": [],
   "source": []
  },
  {
   "cell_type": "code",
   "execution_count": null,
   "id": "fe234c60-976d-421a-85a0-5978d0eb10b7",
   "metadata": {},
   "outputs": [],
   "source": []
  }
 ],
 "metadata": {
  "kernelspec": {
   "display_name": "Python 3 (ipykernel)",
   "language": "python",
   "name": "python3"
  },
  "language_info": {
   "codemirror_mode": {
    "name": "ipython",
    "version": 3
   },
   "file_extension": ".py",
   "mimetype": "text/x-python",
   "name": "python",
   "nbconvert_exporter": "python",
   "pygments_lexer": "ipython3",
   "version": "3.10.14"
  }
 },
 "nbformat": 4,
 "nbformat_minor": 5
}
