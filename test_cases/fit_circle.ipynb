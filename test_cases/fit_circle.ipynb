{
 "cells": [
  {
   "cell_type": "code",
   "execution_count": 1,
   "id": "379be22d-e5f6-41d7-b171-f9f02742fd15",
   "metadata": {},
   "outputs": [],
   "source": [
    "def fit_circle(list_of_2d_points):\n",
    "    \"\"\"\n",
    "    Fits a circle to points provided as list of (y,x) coordinates and \n",
    "    returns a tuple of (yc, xc, radius) describing the circle.\n",
    "    \"\"\"\n",
    "    import circle_fit as cf\n",
    "    xc, yc, r, _ = cf.least_squares_circle(list_of_2d_points)\n",
    "    return xc,yc,r"
   ]
  },
  {
   "cell_type": "code",
   "execution_count": 2,
   "id": "e2c6981f-99ff-4b38-b150-fe03dfdac762",
   "metadata": {},
   "outputs": [],
   "source": [
    "def check(candidate):\n",
    "    coordinates = [[1, 0], [-1, 0], [0, 1], [0, -1]]\n",
    "    xc, yc, r = candidate(coordinates)\n",
    "    tolerance = 0.05\n",
    "    assert xc > 0 - tolerance \n",
    "    assert xc < 0 + tolerance\n",
    "    assert yc > 0 - tolerance \n",
    "    assert yc < 0 + tolerance\n",
    "    assert r > 1 - tolerance \n",
    "    assert r < 1 + tolerance"
   ]
  },
  {
   "cell_type": "code",
   "execution_count": 3,
   "id": "e4789ed1-dc01-46a6-80b2-dd98d8d7b875",
   "metadata": {},
   "outputs": [],
   "source": [
    "check(fit_circle)"
   ]
  },
  {
   "cell_type": "code",
   "execution_count": null,
   "id": "45d1a388-9f3f-42b6-88c8-aac516a64612",
   "metadata": {},
   "outputs": [],
   "source": []
  }
 ],
 "metadata": {
  "kernelspec": {
   "display_name": "Python 3 (ipykernel)",
   "language": "python",
   "name": "python3"
  },
  "language_info": {
   "codemirror_mode": {
    "name": "ipython",
    "version": 3
   },
   "file_extension": ".py",
   "mimetype": "text/x-python",
   "name": "python",
   "nbconvert_exporter": "python",
   "pygments_lexer": "ipython3",
   "version": "3.10.14"
  }
 },
 "nbformat": 4,
 "nbformat_minor": 5
}
