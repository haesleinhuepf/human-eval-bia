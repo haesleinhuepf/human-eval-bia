{
 "cells": [
  {
   "cell_type": "code",
   "execution_count": 1,
   "id": "initial_id",
   "metadata": {
    "ExecuteTime": {
     "end_time": "2024-08-05T00:17:25.858246Z",
     "start_time": "2024-08-05T00:17:25.855338Z"
    }
   },
   "outputs": [],
   "source": [
    "def flow_field_deformation(flow_field, target):\n",
    "    \"\"\"\n",
    "    Given a vector field `flow_field` (H, W, 2) in which every pixel represents the relative \n",
    "    displacement vector to its position, then apply the deformation to the target (N, W) \n",
    "    image and return the deformed image.\n",
    "    \"\"\"\n",
    "    import SimpleITK as sitk\n",
    "\n",
    "    target = sitk.GetImageFromArray(target)\n",
    "\n",
    "    displacement = sitk.DisplacementFieldTransform(2)\n",
    "    field_size = list(flow_field.shape[:2])\n",
    "    field_origin = [0, 0]\n",
    "    field_spacing = [1.0, 1.0]\n",
    "    field_direction = [1, 0, 0, 1]  # direction cosine matrix (row major order)\n",
    "\n",
    "    # Concatenate all the information into a single list\n",
    "    displacement.SetFixedParameters(\n",
    "        field_size + field_origin + field_spacing + field_direction\n",
    "    )\n",
    "    # Set the interpolator to nearest neighbor\n",
    "    displacement.SetInterpolator(sitk.sitkNearestNeighbor)\n",
    "\n",
    "    originalDisplacements = flow_field.reshape((-1, 2)).flatten()\n",
    "    displacement.SetParameters(originalDisplacements)\n",
    "\n",
    "    resampler = sitk.ResampleImageFilter()\n",
    "    resampler.SetTransform(displacement)\n",
    "    resampler.SetReferenceImage(target)\n",
    "    resampled = resampler.Execute(target)\n",
    "\n",
    "    return sitk.GetArrayFromImage(resampled)"
   ]
  },
  {
   "cell_type": "code",
   "execution_count": 2,
   "id": "3bf4caa996b0604f",
   "metadata": {
    "ExecuteTime": {
     "end_time": "2024-08-05T00:17:26.563612Z",
     "start_time": "2024-08-05T00:17:26.560788Z"
    }
   },
   "outputs": [],
   "source": [
    "def check(candidate):\n",
    "    import numpy as np\n",
    "\n",
    "    flow_field = np.zeros((5, 5, 2))\n",
    "    flow_field[3, 2] = [-1, -1]\n",
    "\n",
    "    image = np.arange(25).reshape((5, 5))\n",
    "    result = candidate(flow_field, image)\n",
    "    \n",
    "    assert result[3, 2] == result[2, 1]"
   ]
  },
  {
   "cell_type": "code",
   "execution_count": 3,
   "id": "9ff01af9981e8577",
   "metadata": {
    "ExecuteTime": {
     "end_time": "2024-08-05T00:17:27.035824Z",
     "start_time": "2024-08-05T00:17:27.031473Z"
    }
   },
   "outputs": [],
   "source": [
    "check(flow_field_deformation)"
   ]
  },
  {
   "cell_type": "code",
   "execution_count": null,
   "id": "94e88b818cb19c06",
   "metadata": {},
   "outputs": [],
   "source": []
  }
 ],
 "metadata": {
  "kernelspec": {
   "display_name": "Python 3 (ipykernel)",
   "language": "python",
   "name": "python3"
  },
  "language_info": {
   "codemirror_mode": {
    "name": "ipython",
    "version": 3
   },
   "file_extension": ".py",
   "mimetype": "text/x-python",
   "name": "python",
   "nbconvert_exporter": "python",
   "pygments_lexer": "ipython3",
   "version": "3.10.14"
  }
 },
 "nbformat": 4,
 "nbformat_minor": 5
}
