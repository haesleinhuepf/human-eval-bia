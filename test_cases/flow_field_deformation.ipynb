{
 "cells": [
  {
   "cell_type": "code",
   "id": "initial_id",
   "metadata": {
    "collapsed": true,
    "ExecuteTime": {
     "end_time": "2024-08-05T00:17:25.858246Z",
     "start_time": "2024-08-05T00:17:25.855338Z"
    }
   },
   "source": [
    "def flow_field_deformation(flow_field, target):\n",
    "    \"\"\"\n",
    "    Given a flow_field (H, W, 2) in which every pixel represents the relative displacement\n",
    "    vector to its position, then apply the deformation to the target (N, W) image and return\n",
    "    the deformed image.\n",
    "    \"\"\"\n",
    "    import SimpleITK as sitk\n",
    "\n",
    "    target = sitk.GetImageFromArray(target)\n",
    "\n",
    "    displacement = sitk.DisplacementFieldTransform(2)\n",
    "    field_size = list(flow_field.shape[:2])\n",
    "    field_origin = [0, 0]\n",
    "    field_spacing = [1.0, 1.0]\n",
    "    field_direction = [1, 0, 0, 1]  # direction cosine matrix (row major order)\n",
    "\n",
    "    # Concatenate all the information into a single list\n",
    "    displacement.SetFixedParameters(\n",
    "        field_size + field_origin + field_spacing + field_direction\n",
    "    )\n",
    "    # Set the interpolator to nearest neighbor\n",
    "    displacement.SetInterpolator(sitk.sitkNearestNeighbor)\n",
    "\n",
    "    originalDisplacements = flow_field.reshape((-1, 2)).flatten()\n",
    "    displacement.SetParameters(originalDisplacements)\n",
    "\n",
    "    resampler = sitk.ResampleImageFilter()\n",
    "    resampler.SetTransform(displacement)\n",
    "    resampler.SetReferenceImage(target)\n",
    "    resampled = resampler.Execute(target)\n",
    "\n",
    "    return sitk.GetArrayFromImage(resampled)"
   ],
   "outputs": [],
   "execution_count": 34
  },
  {
   "metadata": {
    "ExecuteTime": {
     "end_time": "2024-08-05T00:17:26.563612Z",
     "start_time": "2024-08-05T00:17:26.560788Z"
    }
   },
   "cell_type": "code",
   "source": [
    "def check(candidate):\n",
    "    import numpy as np\n",
    "\n",
    "    flow_field = np.zeros((5, 5, 2))\n",
    "    flow_field[3, 2] = [-1, -1]\n",
    "\n",
    "    image = np.arange(25).reshape((5, 5))\n",
    "\n",
    "    result = candidate(flow_field, image)\n",
    "\n",
    "    assert result[3, 2] == result[2, 1]"
   ],
   "id": "3bf4caa996b0604f",
   "outputs": [],
   "execution_count": 35
  },
  {
   "metadata": {
    "ExecuteTime": {
     "end_time": "2024-08-05T00:17:27.035824Z",
     "start_time": "2024-08-05T00:17:27.031473Z"
    }
   },
   "cell_type": "code",
   "source": "check(flow_field_deformation)",
   "id": "9ff01af9981e8577",
   "outputs": [],
   "execution_count": 36
  },
  {
   "metadata": {},
   "cell_type": "code",
   "outputs": [],
   "execution_count": null,
   "source": "",
   "id": "94e88b818cb19c06"
  }
 ],
 "metadata": {
  "kernelspec": {
   "display_name": "Python 3",
   "language": "python",
   "name": "python3"
  },
  "language_info": {
   "codemirror_mode": {
    "name": "ipython",
    "version": 2
   },
   "file_extension": ".py",
   "mimetype": "text/x-python",
   "name": "python",
   "nbconvert_exporter": "python",
   "pygments_lexer": "ipython2",
   "version": "2.7.6"
  }
 },
 "nbformat": 4,
 "nbformat_minor": 5
}
