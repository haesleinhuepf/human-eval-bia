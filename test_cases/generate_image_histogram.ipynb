{
 "cells": [
  {
   "cell_type": "code",
   "execution_count": 1,
   "id": "62a24ee3-b70a-4d9f-8a1e-8878cae835ec",
   "metadata": {},
   "outputs": [],
   "source": [
    "def generate_image_histogram(image):\n",
    "    \"\"\"\n",
    "    Takes a 2D input image, generates a histogram of the image using 5 bins and returns only the histogram values\n",
    "    \"\"\"\n",
    "    import numpy as np\n",
    "    return np.histogram(image,bins=5)[0]"
   ]
  },
  {
   "cell_type": "code",
   "execution_count": 2,
   "id": "c26195ec-50f8-4465-b312-fa40b5e3ae08",
   "metadata": {},
   "outputs": [],
   "source": [
    "def check(candidate):\n",
    "    import numpy as np\n",
    "    \n",
    "    image = np.asarray([\n",
    "        [1,2,4,2,1],\n",
    "        [2,2,3,2,2],\n",
    "        [1,3,5,3,1],\n",
    "        [2,2,3,2,2],\n",
    "        [1,2,4,2,1],\n",
    "    ])\n",
    "    reference = np.asarray([6, 12,  4,  2,  1])\n",
    "    \n",
    "    result = np.asarray(candidate(image))\n",
    "\n",
    "    assert np.array_equal(result,reference)\n"
   ]
  },
  {
   "cell_type": "code",
   "execution_count": 3,
   "id": "55fdf71d-d03c-4919-9765-0a27e27fd737",
   "metadata": {},
   "outputs": [],
   "source": [
    "check(generate_image_histogram)"
   ]
  },
  {
   "cell_type": "code",
   "execution_count": null,
   "id": "ecb097ac",
   "metadata": {},
   "outputs": [],
   "source": []
  }
 ],
 "metadata": {
  "kernelspec": {
   "display_name": "Python 3 (ipykernel)",
   "language": "python",
   "name": "python3"
  },
  "language_info": {
   "codemirror_mode": {
    "name": "ipython",
    "version": 3
   },
   "file_extension": ".py",
   "mimetype": "text/x-python",
   "name": "python",
   "nbconvert_exporter": "python",
   "pygments_lexer": "ipython3",
   "version": "3.10.9"
  }
 },
 "nbformat": 4,
 "nbformat_minor": 5
}
