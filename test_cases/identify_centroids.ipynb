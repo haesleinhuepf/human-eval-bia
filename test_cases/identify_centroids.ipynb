{
 "cells": [
  {
   "cell_type": "code",
   "execution_count": null,
   "id": "379be22d-e5f6-41d7-b171-f9f02742fd15",
   "metadata": {},
   "outputs": [],
   "source": [
    "def identify_centroids(label_image):\n",
    "    \"\"\"\n",
    "    Given a label image, return a dict of {label: [list of weighted floating-point centroid coords], ...}  for each labelled\n",
    "    region (assume contiguity). Labels run between 1 and some integer n.\n",
    "    \"\"\"\n",
    "    import numpy as np\n",
    "    from skimage.measure import centroid\n",
    "    n = np.max(label_image)\n",
    "    out = {}\n",
    "    for i in range(1, n + 1):\n",
    "        binary_image = (label_image == i)\n",
    "        out[i] = centroid(binary_image)\n",
    "    return out"
   ]
  },
  {
   "cell_type": "code",
   "execution_count": 2,
   "id": "e2c6981f-99ff-4b38-b150-fe03dfdac762",
   "metadata": {},
   "outputs": [],
   "source": [
    "def check(candidate):\n",
    "    import numpy as np\n",
    "    \n",
    "    label_image = np.asarray([\n",
    "        [0,0,0,0,0],\n",
    "        [1,2,2,0,0],\n",
    "        [1,2,2,0,0],\n",
    "        [1,4,4,3,0],\n",
    "        [0,0,4,4,4],\n",
    "    ])\n",
    "\n",
    "    expected = {1: [2.0, 0.0], 2: [1.5, 1.5], 3: [3.0, 3.0], 4: [3.6, 2.4]}\n",
    "\n",
    "    result = {label: list(centroid) for label, centroid in candidate(label_image).items()}\n",
    "\n",
    "    assert result == expected"
   ]
  },
  {
   "cell_type": "code",
   "execution_count": 3,
   "id": "e4789ed1-dc01-46a6-80b2-dd98d8d7b875",
   "metadata": {},
   "outputs": [],
   "source": [
    "check(identify_centroids)"
   ]
  },
  {
   "cell_type": "code",
   "execution_count": null,
   "id": "b38939da-37b8-4572-8227-b35354f3d60d",
   "metadata": {},
   "outputs": [],
   "source": []
  }
 ],
 "metadata": {
  "kernelspec": {
   "display_name": "Python 3 (ipykernel)",
   "language": "python",
   "name": "python3"
  },
  "language_info": {
   "codemirror_mode": {
    "name": "ipython",
    "version": 3
   },
   "file_extension": ".py",
   "mimetype": "text/x-python",
   "name": "python",
   "nbconvert_exporter": "python",
   "pygments_lexer": "ipython3",
   "version": "3.10.14"
  }
 },
 "nbformat": 4,
 "nbformat_minor": 5
}
