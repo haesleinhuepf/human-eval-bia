{
 "cells": [
  {
   "cell_type": "code",
   "execution_count": null,
   "id": "initial_id",
   "metadata": {},
   "outputs": [],
   "source": [
    "def image_metadata_reading(image):\n",
    "    \"\"\"\n",
    "    Read image shape and data type object from a tiff file. \n",
    "    Write then the results into a dictionary \n",
    "    \"\"\"\n",
    "    import imageio.v3 as iio\n",
    "    props = iio.improps(image)\n",
    "    meta_dict = { \"Shape\" : f\"{props.shape}\", \"dtype\" : f\"{props.dtype}\"}\n",
    "    return meta_dict"
   ]
  },
  {
   "cell_type": "code",
   "execution_count": 31,
   "id": "859ceed62dbcbd1c",
   "metadata": {},
   "outputs": [],
   "source": [
    "def check(candidate):\n",
    "    img_path = \"example_data/noise.tif\"\n",
    "    meta_dict_result = candidate(img_path)\n",
    "\n",
    "    meta_dict_expected = {'Shape': '(20, 10)', 'dtype': 'uint8'}\n",
    "    \n",
    "    assert meta_dict_result == meta_dict_expected"
   ]
  },
  {
   "cell_type": "code",
   "execution_count": 32,
   "id": "fb8581fe6d7b73e3",
   "metadata": {},
   "outputs": [],
   "source": [
    "check(image_metadata_reading)"
   ]
  }
 ],
 "metadata": {
  "kernelspec": {
   "display_name": "Python 3 (ipykernel)",
   "language": "python",
   "name": "python3"
  },
  "language_info": {
   "codemirror_mode": {
    "name": "ipython",
    "version": 3
   },
   "file_extension": ".py",
   "mimetype": "text/x-python",
   "name": "python",
   "nbconvert_exporter": "python",
   "pygments_lexer": "ipython3",
   "version": "3.12.0"
  }
 },
 "nbformat": 4,
 "nbformat_minor": 5
}
