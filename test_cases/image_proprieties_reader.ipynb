{
 "cells": [
  {
   "cell_type": "code",
   "id": "initial_id",
   "metadata": {
    "collapsed": true
   },
   "source": [
    "def image_metadata_reading(image):\n",
    "    \"\"\"\n",
    "    This function read image metadata from a .tif file\n",
    "    \"\"\"\n",
    "    import imageio.v3 as iio\n",
    "    proprieties = str(iio.improps(image))\n",
    "    return proprieties"
   ],
   "outputs": [],
   "execution_count": null
  },
  {
   "metadata": {},
   "cell_type": "code",
   "source": "image_metadata_reading(\"../example_data/noise.tif\")",
   "id": "978033c6e55806ba",
   "outputs": [],
   "execution_count": null
  },
  {
   "metadata": {},
   "cell_type": "code",
   "source": [
    "def check(candidate):\n",
    "    img_path = \"../example_data/noise.tif\"\n",
    "    result_proprieties = candidate(img_path)\n",
    "\n",
    "    expected_proprieties = \"ImageProperties(shape=(20, 10), dtype=dtype('uint8'), n_images=None, is_batch=False, spacing=(5.0, 5.0))\"\n",
    "    \n",
    "    assert result_proprieties == expected_proprieties"
   ],
   "id": "859ceed62dbcbd1c",
   "outputs": [],
   "execution_count": null
  },
  {
   "metadata": {},
   "cell_type": "code",
   "source": "check(image_metadata_reading)",
   "id": "fb8581fe6d7b73e3",
   "outputs": [],
   "execution_count": null
  }
 ],
 "metadata": {
  "kernelspec": {
   "display_name": "Python 3",
   "language": "python",
   "name": "python3"
  },
  "language_info": {
   "codemirror_mode": {
    "name": "ipython",
    "version": 2
   },
   "file_extension": ".py",
   "mimetype": "text/x-python",
   "name": "python",
   "nbconvert_exporter": "python",
   "pygments_lexer": "ipython2",
   "version": "2.7.6"
  }
 },
 "nbformat": 4,
 "nbformat_minor": 5
}
