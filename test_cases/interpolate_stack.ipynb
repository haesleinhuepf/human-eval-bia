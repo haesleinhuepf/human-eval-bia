{
 "cells": [
  {
   "cell_type": "code",
   "execution_count": 1,
   "id": "46340fa1-dcfc-4f44-89c5-b874e1c551b7",
   "metadata": {},
   "outputs": [],
   "source": [
    "def interpolate_stack(start_slice, end_slice, num):\n",
    "    '''\n",
    "    Creates and returns a 3D stack with num planes that is the interpolation between two 2D slices. \n",
    "    '''\n",
    "    import numpy as np\n",
    "\n",
    "    return np.linspace(start_slice, end_slice, num)"
   ]
  },
  {
   "cell_type": "code",
   "execution_count": 2,
   "id": "1e688885-d20e-477c-ab3c-bec4ebb44584",
   "metadata": {},
   "outputs": [],
   "source": [
    "def check(candidate):\n",
    "    import numpy as np\n",
    "    \n",
    "    start_slice = np.array([[0., 1., 2., 0.],\n",
    "        [0., 3., 4., 0.],\n",
    "        [0., 1., 2., 0.],\n",
    "        [0., 3., 4., 0.]])\n",
    "    \n",
    "    end_slice = np.array([[0., 6., 7., 0.],\n",
    "        [0., 8., 9., 0.],\n",
    "        [0., 3., 4., 0.],\n",
    "        [0., 5., 5.5, 0.]])\n",
    "\n",
    "    # number of slices including start_slice and end_slice\n",
    "    num = 6\n",
    "\n",
    "    reference = np.array([[[0., 1., 2., 0.],\n",
    "        [0., 3., 4., 0.],\n",
    "        [0., 1., 2., 0.],\n",
    "        [0., 3., 4., 0.]],\n",
    "                          \n",
    "        [[0., 2., 3., 0.],\n",
    "        [0., 4., 5., 0.],\n",
    "        [0., 1.4, 2.4, 0.],\n",
    "        [0., 3.4, 4.3, 0.]],\n",
    "\n",
    "       [[0., 3., 4., 0.],\n",
    "        [0., 5., 6., 0.],\n",
    "        [0., 1.8, 2.8, 0.],\n",
    "        [0., 3.8, 4.6, 0.]],\n",
    "\n",
    "       [[0., 4., 5., 0.],\n",
    "        [0., 6., 7., 0.],\n",
    "        [0., 2.2, 3.2, 0.],\n",
    "        [0., 4.2, 4.9, 0.]],\n",
    "\n",
    "       [[0., 5., 6., 0.],\n",
    "        [0., 7., 8., 0.],\n",
    "        [0., 2.6, 3.6, 0.],\n",
    "        [0., 4.6, 5.2, 0.]],\n",
    "\n",
    "       [[0., 6., 7., 0.],\n",
    "        [0., 8., 9., 0.],\n",
    "        [0., 3., 4., 0.],\n",
    "        [0., 5., 5.5, 0.]]])\n",
    "    \n",
    "    assert np.array_equal(candidate(start_slice, end_slice, num), reference)"
   ]
  },
  {
   "cell_type": "code",
   "execution_count": 3,
   "id": "29f7740b-fe1b-40ce-bf72-32f66dcd01d3",
   "metadata": {},
   "outputs": [],
   "source": [
    "check(interpolate_stack)"
   ]
  }
 ],
 "metadata": {
  "kernelspec": {
   "display_name": "Python 3 (ipykernel)",
   "language": "python",
   "name": "python3"
  },
  "language_info": {
   "codemirror_mode": {
    "name": "ipython",
    "version": 3
   },
   "file_extension": ".py",
   "mimetype": "text/x-python",
   "name": "python",
   "nbconvert_exporter": "python",
   "pygments_lexer": "ipython3",
   "version": "3.12.0"
  }
 },
 "nbformat": 4,
 "nbformat_minor": 5
}
