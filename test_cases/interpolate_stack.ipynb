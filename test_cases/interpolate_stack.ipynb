{
 "cells": [
  {
   "cell_type": "code",
   "execution_count": 1,
   "id": "7b65367c-981c-4e5d-9e70-82959ce3116d",
   "metadata": {},
   "outputs": [],
   "source": [
    "def interpolate_stack(start_slice, end_slice, fraction):\n",
    "    '''\n",
    "    Creates a 3D stack that is the interpolation between two 2D slices with one intermediate slice\n",
    "    '''\n",
    "    # import statement\n",
    "    import numpy as np\n",
    "    \n",
    "    # calculate intermediate slice\n",
    "    intermediate_slice = start_slice + (end_slice - start_slice) * fraction\n",
    "\n",
    "    # arrange slices into stack\n",
    "    interpolated_stack = np.stack((start_slice, intermediate_slice, end_slice))\n",
    "    return interpolated_stack"
   ]
  },
  {
   "cell_type": "code",
   "execution_count": 2,
   "id": "d44e67e5-72d1-45ac-a7bd-3b91fe8df829",
   "metadata": {},
   "outputs": [],
   "source": [
    "def check(candidate):\n",
    "    #import statement\n",
    "    import numpy as np\n",
    "\n",
    "    start_slice = np.array([[0., 1., 2., 0.],\n",
    "        [0., 3., 4., 0.],\n",
    "        [0., 0., 0., 0.],\n",
    "        [0., 0., 0., 0.]])\n",
    "    \n",
    "    end_slice = np.array([[0., 2., 3., 0.],\n",
    "        [0., 4., 5., 0.],\n",
    "        [0., 0., 0., 0.],\n",
    "        [0., 0., 0., 0.]])\n",
    "\n",
    "    # fraction is a number between 0 and 1 determining which weight should be placed to calculate the intermediate slice\n",
    "    # fraction of 0.5 gives halfway point between the two slices\n",
    "    fraction = 0.5\n",
    "\n",
    "    reference = np.array([[[0., 1., 2., 0.],\n",
    "        [0., 3., 4., 0.],\n",
    "        [0., 0., 0., 0.],\n",
    "        [0., 0., 0., 0.]],\n",
    "                          \n",
    "        [[0., 1.5, 2.5, 0.],\n",
    "        [0., 3.5, 4.5, 0.],\n",
    "        [0., 0., 0., 0.],\n",
    "        [0., 0., 0., 0.]],\n",
    "\n",
    "       [[0., 2., 3., 0.],\n",
    "        [0., 4., 5., 0.],\n",
    "        [0., 0., 0., 0.],\n",
    "        [0., 0., 0., 0.]]])\n",
    "    \n",
    "    assert np.array_equal(candidate(start_slice, end_slice, fraction), reference)"
   ]
  },
  {
   "cell_type": "code",
   "execution_count": 3,
   "id": "a55292f6-655e-4462-b22e-f06e9f6e87e6",
   "metadata": {},
   "outputs": [],
   "source": [
    "check(interpolate_stack)"
   ]
  },
  {
   "cell_type": "code",
   "execution_count": null,
   "id": "46340fa1-dcfc-4f44-89c5-b874e1c551b7",
   "metadata": {},
   "outputs": [],
   "source": []
  }
 ],
 "metadata": {
  "kernelspec": {
   "display_name": "Python 3 (ipykernel)",
   "language": "python",
   "name": "python3"
  },
  "language_info": {
   "codemirror_mode": {
    "name": "ipython",
    "version": 3
   },
   "file_extension": ".py",
   "mimetype": "text/x-python",
   "name": "python",
   "nbconvert_exporter": "python",
   "pygments_lexer": "ipython3",
   "version": "3.12.0"
  }
 },
 "nbformat": 4,
 "nbformat_minor": 5
}
