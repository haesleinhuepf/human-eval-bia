{
 "cells": [
  {
   "cell_type": "markdown",
   "id": "8b8b2dc9-66e4-4cf1-ac1d-0b621c184a59",
   "metadata": {},
   "source": [
    "- input: image, and two point coordinates\n",
    "- ouput: intensity along the line as array or list"
   ]
  },
  {
   "cell_type": "code",
   "execution_count": 4,
   "id": "7a4ddce0-b11d-4770-972d-6be87bfdc559",
   "metadata": {},
   "outputs": [],
   "source": [
    "def linear_intensity_profile(image, starting_point, ending_point):\n",
    "    from skimage.measure import profile_line\n",
    "    return skimage.measure.profile_line(image, starting_point, ending_point)"
   ]
  },
  {
   "cell_type": "code",
   "execution_count": 5,
   "id": "c0ced31c-c8c7-4d31-a119-c7a905c35af0",
   "metadata": {},
   "outputs": [],
   "source": [
    "def check(candidate):\n",
    "    import numpy as np\n",
    "    image = np.array([[1, 1, 4],\n",
    "                      [5, 7, 9],\n",
    "                      [4, 2, 0]])\n",
    "    starting_point = 0,0\n",
    "    ending_point = 2,2\n",
    "    reference = np.array([1, 7, 0])\n",
    "    assert np.array_equal(candidate(image, starting_point, ending_point), reference)"
   ]
  },
  {
   "cell_type": "code",
   "execution_count": 6,
   "id": "316e928c-67c7-47e8-9b4e-f7258fb45f60",
   "metadata": {},
   "outputs": [
    {
     "ename": "NameError",
     "evalue": "name 'skimage' is not defined",
     "output_type": "error",
     "traceback": [
      "\u001b[0;31m---------------------------------------------------------------------------\u001b[0m",
      "\u001b[0;31mNameError\u001b[0m                                 Traceback (most recent call last)",
      "Cell \u001b[0;32mIn[6], line 1\u001b[0m\n\u001b[0;32m----> 1\u001b[0m \u001b[43mcheck\u001b[49m\u001b[43m(\u001b[49m\u001b[43mlinear_intensity_profile\u001b[49m\u001b[43m)\u001b[49m\n",
      "Cell \u001b[0;32mIn[5], line 9\u001b[0m, in \u001b[0;36mcheck\u001b[0;34m(candidate)\u001b[0m\n\u001b[1;32m      7\u001b[0m ending_point \u001b[38;5;241m=\u001b[39m \u001b[38;5;241m2\u001b[39m,\u001b[38;5;241m2\u001b[39m\n\u001b[1;32m      8\u001b[0m reference \u001b[38;5;241m=\u001b[39m np\u001b[38;5;241m.\u001b[39marray([\u001b[38;5;241m1\u001b[39m, \u001b[38;5;241m7\u001b[39m, \u001b[38;5;241m0\u001b[39m])\n\u001b[0;32m----> 9\u001b[0m \u001b[38;5;28;01massert\u001b[39;00m np\u001b[38;5;241m.\u001b[39marray_equal(\u001b[43mcandidate\u001b[49m\u001b[43m(\u001b[49m\u001b[43mimage\u001b[49m\u001b[43m,\u001b[49m\u001b[43m \u001b[49m\u001b[43mstarting_point\u001b[49m\u001b[43m,\u001b[49m\u001b[43m \u001b[49m\u001b[43mending_point\u001b[49m\u001b[43m)\u001b[49m, reference)\n",
      "Cell \u001b[0;32mIn[4], line 3\u001b[0m, in \u001b[0;36mlinear_intensity_profile\u001b[0;34m(image, starting_point, ending_point)\u001b[0m\n\u001b[1;32m      1\u001b[0m \u001b[38;5;28;01mdef\u001b[39;00m \u001b[38;5;21mlinear_intensity_profile\u001b[39m(image, starting_point, ending_point):\n\u001b[1;32m      2\u001b[0m     \u001b[38;5;28;01mfrom\u001b[39;00m \u001b[38;5;21;01mskimage\u001b[39;00m\u001b[38;5;21;01m.\u001b[39;00m\u001b[38;5;21;01mmeasure\u001b[39;00m \u001b[38;5;28;01mimport\u001b[39;00m profile_line\n\u001b[0;32m----> 3\u001b[0m     \u001b[38;5;28;01mreturn\u001b[39;00m \u001b[43mskimage\u001b[49m\u001b[38;5;241m.\u001b[39mmeasure\u001b[38;5;241m.\u001b[39mprofile_line(image, starting_point, ending_point)\n",
      "\u001b[0;31mNameError\u001b[0m: name 'skimage' is not defined"
     ]
    }
   ],
   "source": [
    "check(linear_intensity_profile)"
   ]
  },
  {
   "cell_type": "code",
   "execution_count": null,
   "id": "035cb96a-c415-4fbf-9606-6e06460eb2fd",
   "metadata": {},
   "outputs": [],
   "source": []
  }
 ],
 "metadata": {
  "kernelspec": {
   "display_name": "Python 3 (ipykernel)",
   "language": "python",
   "name": "python3"
  },
  "language_info": {
   "codemirror_mode": {
    "name": "ipython",
    "version": 3
   },
   "file_extension": ".py",
   "mimetype": "text/x-python",
   "name": "python",
   "nbconvert_exporter": "python",
   "pygments_lexer": "ipython3",
   "version": "3.9.19"
  }
 },
 "nbformat": 4,
 "nbformat_minor": 5
}
