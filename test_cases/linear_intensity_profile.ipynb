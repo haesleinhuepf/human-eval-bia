{
 "cells": [
  {
   "cell_type": "code",
   "execution_count": 1,
   "id": "7a4ddce0-b11d-4770-972d-6be87bfdc559",
   "metadata": {},
   "outputs": [],
   "source": [
    "def linear_intensity_profile(image, starting_point, ending_point):\n",
    "    from skimage.measure import profile_line\n",
    "    return profile_line(image, starting_point, ending_point)"
   ]
  },
  {
   "cell_type": "code",
   "execution_count": 2,
   "id": "b7e75f82-ad58-4cde-8660-085c466082ee",
   "metadata": {},
   "outputs": [],
   "source": [
    "def check(candidate):\n",
    "    # import \n",
    "    import numpy as np\n",
    "\n",
    "    # image\n",
    "    image = np.array([[0, 1, 3, 8, 6],\n",
    "                      [9, 3, 4, 9, 1],\n",
    "                      [1, 4, 5, 2, 2],\n",
    "                      [0, 1, 1, 5, 6],\n",
    "                      [2, 1, 4, 1, 1]])\n",
    "\n",
    "    # horizontal line \n",
    "    start_horizontal = 1, 1\n",
    "    end_horizontal = 1, 4\n",
    "    reference_horizontal = np.array([3, 4, 9, 1])\n",
    "\n",
    "    # vertical line\n",
    "    start_vertical = 0, 4\n",
    "    end_vertical = 4, 4\n",
    "    reference_vertical = np.array([6, 1, 2, 6, 1])\n",
    "\n",
    "    # diagonal line\n",
    "    start_diagonal = 0, 0\n",
    "    end_diagonal = 4, 4\n",
    "    reference_diagonal = np.array([0., 4., 4., 5., 3., 4., 1.])\n",
    "    # comment: the profile_line function interpolates pixel values at those coordinates using linear interpolation\n",
    "    # therefore it uses in this case (0,0), (0.8, 0.8), (1.6, 1.6), (2.4, 2.4), (3.2, 3.2), (4, 4)\n",
    "\n",
    "    # assert\n",
    "    assert np.array_equal(candidate(image, start_horizontal, end_horizontal), reference_horizontal)\n",
    "    assert np.array_equal(candidate(image, start_vertical, end_vertical), reference_vertical)\n",
    "    assert np.array_equal(candidate(image, start_diagonal, end_diagonal), reference_diagonal)"
   ]
  },
  {
   "cell_type": "code",
   "execution_count": 3,
   "id": "316e928c-67c7-47e8-9b4e-f7258fb45f60",
   "metadata": {},
   "outputs": [],
   "source": [
    "check(linear_intensity_profile)"
   ]
  }
 ],
 "metadata": {
  "kernelspec": {
   "display_name": "Python 3 (ipykernel)",
   "language": "python",
   "name": "python3"
  },
  "language_info": {
   "codemirror_mode": {
    "name": "ipython",
    "version": 3
   },
   "file_extension": ".py",
   "mimetype": "text/x-python",
   "name": "python",
   "nbconvert_exporter": "python",
   "pygments_lexer": "ipython3",
   "version": "3.12.0"
  }
 },
 "nbformat": 4,
 "nbformat_minor": 5
}
