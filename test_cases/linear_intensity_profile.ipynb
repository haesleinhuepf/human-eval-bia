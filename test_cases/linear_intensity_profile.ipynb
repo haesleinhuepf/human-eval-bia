{
 "cells": [
  {
   "cell_type": "code",
   "execution_count": 34,
   "id": "de95e58a-b0c8-4275-b866-bee213592ddf",
   "metadata": {},
   "outputs": [],
   "source": [
    "def linear_intensity_profile(image, x1, y1, x2, y2):\n",
    "    \"\"\"\n",
    "    Computes the intensity profile along a line in an image\n",
    "    Inputs:\n",
    "    - image: 2D numpy array\n",
    "    - x1, y1: coordinates of the first point\n",
    "    - x2, y2: coordinates of the second point\n",
    "    Output:\n",
    "    - an array containing the intensities along the line\n",
    "    \"\"\"\n",
    "    #import statements\n",
    "    import numpy as np\n",
    "\n",
    "    #line length (euclidean distance) (to account for rounding +1)\n",
    "    length = int(np.sqrt((x2 - x1)**2 + (y2 - y1)**2)) + 1 \n",
    "\n",
    "    #evenly spaced line coordinates in x and y\n",
    "    x = np.linspace(x1, x2, length)\n",
    "    y = np.linspace(y1, y2, length)\n",
    "\n",
    "    #filter out points outside the image boundaries\n",
    "    valid_indices = (x >= 0) & (x < image.shape[1]) & (y >= 0) & (y < image.shape[0])\n",
    "\n",
    "    #extract intensities for valid indices\n",
    "    intensities = image[y[valid_indices].astype(int), x[valid_indices].astype(int)]\n",
    "    \n",
    "    return intensities"
   ]
  },
  {
   "cell_type": "code",
   "execution_count": 37,
   "id": "17df6e1f",
   "metadata": {},
   "outputs": [],
   "source": [
    "def check(candidate):\n",
    "    import numpy as np\n",
    "    image = np.array([[1, 2, 3],\n",
    "                      [4, 5, 6],\n",
    "                      [7, 8, 9]])\n",
    "    x1, y1 = 0, 1\n",
    "    x2, y2 = 2, 1\n",
    "    expected_output = np.array([4, 5, 6])\n",
    "    assert np.array_equal(candidate(image, x1, y1, x2, y2), expected_output)"
   ]
  },
  {
   "cell_type": "code",
   "execution_count": 38,
   "id": "6ec71762",
   "metadata": {},
   "outputs": [],
   "source": [
    "check(linear_intensity_profile)"
   ]
  }
 ],
 "metadata": {
  "kernelspec": {
   "display_name": "Python 3 (ipykernel)",
   "language": "python",
   "name": "python3"
  },
  "language_info": {
   "codemirror_mode": {
    "name": "ipython",
    "version": 3
   },
   "file_extension": ".py",
   "mimetype": "text/x-python",
   "name": "python",
   "nbconvert_exporter": "python",
   "pygments_lexer": "ipython3",
   "version": "3.12.0"
  }
 },
 "nbformat": 4,
 "nbformat_minor": 5
}
