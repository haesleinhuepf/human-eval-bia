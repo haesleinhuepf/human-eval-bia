{
 "cells": [
  {
   "cell_type": "code",
   "execution_count": 1,
   "id": "379be22d-e5f6-41d7-b171-f9f02742fd15",
   "metadata": {},
   "outputs": [],
   "source": [
    "def list_image_files_in_folder(folder_location):\n",
    "    \"\"\"\n",
    "    Given a folder_location as string, returns a list of all *.tif, *.jpg or *.png image files in a folder.\n",
    "    \"\"\"\n",
    "    import os\n",
    "    supported_fileendings = [\".tif\", \".jpg\", \".png\"]    \n",
    "    return [fn for fn in os.listdir(folder_location) if str(fn[-4:]) in supported_fileendings]"
   ]
  },
  {
   "cell_type": "code",
   "execution_count": 2,
   "id": "e2c6981f-99ff-4b38-b150-fe03dfdac762",
   "metadata": {},
   "outputs": [],
   "source": [
    "def check(candidate):\n",
    "    list_files = candidate(\"../example_data/S-BIAD634/images_and_stuff/\")\n",
    "    \n",
    "    assert \"Ganglioneuroblastoma_8.tif\" in list_files\n",
    "    assert \"Ganglioneuroblastoma_9.tif\" in list_files\n",
    "    assert \"Ganglioneuroblastoma_10.tif\" in list_files\n",
    "    assert len(list_files) == 3"
   ]
  },
  {
   "cell_type": "code",
   "execution_count": 3,
   "id": "e4789ed1-dc01-46a6-80b2-dd98d8d7b875",
   "metadata": {},
   "outputs": [],
   "source": [
    "check(list_image_files_in_folder)"
   ]
  },
  {
   "cell_type": "code",
   "execution_count": null,
   "id": "b38939da-37b8-4572-8227-b35354f3d60d",
   "metadata": {},
   "outputs": [],
   "source": []
  },
  {
   "cell_type": "code",
   "execution_count": null,
   "id": "4e1f23f7-3894-4446-8606-ba2e0d4ea94d",
   "metadata": {},
   "outputs": [],
   "source": []
  }
 ],
 "metadata": {
  "kernelspec": {
   "display_name": "Python 3 (ipykernel)",
   "language": "python",
   "name": "python3"
  },
  "language_info": {
   "codemirror_mode": {
    "name": "ipython",
    "version": 3
   },
   "file_extension": ".py",
   "mimetype": "text/x-python",
   "name": "python",
   "nbconvert_exporter": "python",
   "pygments_lexer": "ipython3",
   "version": "3.10.14"
  }
 },
 "nbformat": 4,
 "nbformat_minor": 5
}
