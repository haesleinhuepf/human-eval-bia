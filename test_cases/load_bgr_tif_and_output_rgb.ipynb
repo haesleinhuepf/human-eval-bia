{
 "cells": [
  {
   "cell_type": "code",
   "execution_count": 1,
   "id": "379be22d-e5f6-41d7-b171-f9f02742fd15",
   "metadata": {},
   "outputs": [],
   "source": [
    "def load_tif_and_output_rgb(path_to_tif):\n",
    "    \"\"\"\n",
    "    Given a fully defined `path_to_tif` string, return a numpy array containing the image in RGB format.\n",
    "    \"\"\"\n",
    "    from cv2 import imread, cvtColor, COLOR_BGR2RGB\n",
    "    image = imread(path_to_tif)\n",
    "    return cvtColor(image, COLOR_BGR2RGB)"
   ]
  },
  {
   "cell_type": "code",
   "execution_count": 6,
   "id": "e2c6981f-99ff-4b38-b150-fe03dfdac762",
   "metadata": {},
   "outputs": [],
   "source": [
    "def check(candidate):\n",
    "    import numpy as np\n",
    "    \n",
    "    result = candidate(\"../example_data/simple_patch.tif\")\n",
    "    expected = np.array([\n",
    "        [[  0, 204, 102], [  0, 204, 127], [  0, 204, 153]],\n",
    "        [[  0,   0, 102], [  0,   0, 127], [  0,   0, 153]],\n",
    "        [[  0,  51, 102], [  0,  51, 127], [  0,  51, 153]]],\n",
    "        dtype=np.uint8)\n",
    "\n",
    "    assert np.all(result[4:7, 4:7, :] == expected)"
   ]
  },
  {
   "cell_type": "code",
   "execution_count": 7,
   "id": "e4789ed1-dc01-46a6-80b2-dd98d8d7b875",
   "metadata": {},
   "outputs": [
    {
     "name": "stdout",
     "output_type": "stream",
     "text": [
      "uint8\n",
      "uint8\n"
     ]
    }
   ],
   "source": [
    "check(load_tif_and_output_rgb)"
   ]
  },
  {
   "cell_type": "code",
   "execution_count": null,
   "id": "b38939da-37b8-4572-8227-b35354f3d60d",
   "metadata": {},
   "outputs": [],
   "source": []
  }
 ],
 "metadata": {
  "kernelspec": {
   "display_name": "Python 3 (ipykernel)",
   "language": "python",
   "name": "python3"
  },
  "language_info": {
   "codemirror_mode": {
    "name": "ipython",
    "version": 3
   },
   "file_extension": ".py",
   "mimetype": "text/x-python",
   "name": "python",
   "nbconvert_exporter": "python",
   "pygments_lexer": "ipython3",
   "version": "3.12.4"
  }
 },
 "nbformat": 4,
 "nbformat_minor": 5
}
