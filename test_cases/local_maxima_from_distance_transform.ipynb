{
 "cells": [
  {
   "cell_type": "code",
   "id": "initial_id",
   "metadata": {
    "collapsed": true,
    "ExecuteTime": {
     "end_time": "2024-08-04T03:20:46.529021Z",
     "start_time": "2024-08-04T03:20:46.523232Z"
    }
   },
   "source": [
    "def local_maxima_from_distance_transform(binary_image, nms_window):\n",
    "    \"\"\"\n",
    "    Takes a binary_image and computes the distance transform of the image. \n",
    "    Then, it finds the local maxima of the distance transform image and returns their coordinates.\n",
    "    The local maxima are filtered by a non-maximum suppression window of size nms_window.\n",
    "    \"\"\"\n",
    "    import scipy.ndimage as ndi\n",
    "    import skimage.feature as skf\n",
    "    \n",
    "    distance_transform = ndi.distance_transform_edt(binary_image)\n",
    "    \n",
    "    image_max = ndi.maximum_filter(distance_transform, size=nms_window, mode='constant')\n",
    "    \n",
    "    # suppress non-maxima values by setting them to -1\n",
    "    mask = distance_transform == image_max\n",
    "    image_max[~mask] = -1\n",
    "    \n",
    "    local_maxima = skf.peak_local_max(image_max)\n",
    "\n",
    "    return local_maxima"
   ],
   "outputs": [],
   "execution_count": 1
  },
  {
   "metadata": {
    "ExecuteTime": {
     "end_time": "2024-08-04T03:20:48.018285Z",
     "start_time": "2024-08-04T03:20:48.015012Z"
    }
   },
   "cell_type": "code",
   "source": [
    "def check(candidate):\n",
    "    import numpy as np\n",
    "\n",
    "    # Test 1: no non-maximum suppression\n",
    "    result = candidate(np.asarray([\n",
    "        [0, 0, 0, 0, 0],\n",
    "        [0, 1, 1, 1, 0],\n",
    "        [0, 1, 1, 1, 0],\n",
    "        [0, 1, 1, 1, 0],\n",
    "        [0, 0, 1, 0, 0],\n",
    "        [0, 1, 1, 1, 1],\n",
    "        [0, 0, 1, 0, 0],\n",
    "    ]), 0)\n",
    "\n",
    "    result = set([tuple(x) for x in result.tolist()])\n",
    "\n",
    "    reference = {(2, 2), (5, 2)}\n",
    "    \n",
    "    \n",
    "    # compare the results\n",
    "    assert reference == result\n",
    "    \n",
    "    \n",
    "    # Test 1: with non-maximum suppression window\n",
    "    result = candidate(np.asarray([\n",
    "        [0, 0, 0, 0, 0],\n",
    "        [0, 1, 1, 1, 0],\n",
    "        [0, 1, 1, 1, 0],\n",
    "        [0, 1, 1, 1, 0],\n",
    "        [0, 0, 1, 0, 0],\n",
    "        [0, 1, 1, 1, 1],\n",
    "        [0, 0, 1, 0, 0],\n",
    "    ]), 7)\n",
    "    \n",
    "    result = set([tuple(x) for x in result.tolist()])\n",
    "    \n",
    "    reference = {(2, 2)}\n",
    "\n",
    "    assert reference == result"
   ],
   "id": "405bf41c9d5b21f",
   "outputs": [],
   "execution_count": 2
  },
  {
   "metadata": {
    "ExecuteTime": {
     "end_time": "2024-08-04T03:20:49.806548Z",
     "start_time": "2024-08-04T03:20:49.153278Z"
    }
   },
   "cell_type": "code",
   "source": "check(local_maxima_from_distance_transform)",
   "id": "e6762a676c3b49c9",
   "outputs": [],
   "execution_count": 3
  },
  {
   "metadata": {},
   "cell_type": "code",
   "outputs": [],
   "execution_count": null,
   "source": "",
   "id": "51689a4125fa315b"
  }
 ],
 "metadata": {
  "kernelspec": {
   "display_name": "Python 3",
   "language": "python",
   "name": "python3"
  },
  "language_info": {
   "codemirror_mode": {
    "name": "ipython",
    "version": 2
   },
   "file_extension": ".py",
   "mimetype": "text/x-python",
   "name": "python",
   "nbconvert_exporter": "python",
   "pygments_lexer": "ipython2",
   "version": "2.7.6"
  }
 },
 "nbformat": 4,
 "nbformat_minor": 5
}
