{
 "cells": [
  {
   "cell_type": "code",
   "execution_count": 1,
   "id": "379be22d-e5f6-41d7-b171-f9f02742fd15",
   "metadata": {},
   "outputs": [],
   "source": [
    "def map_pixel_count_of_labels(label_image):\n",
    "    \"\"\"\n",
    "    Takes a label_image provided as numpy array, determines the pixel-count per label and returns \n",
    "    a numpy-array image where the label values are replaced by the corresponding pixel count.\n",
    "    \"\"\"\n",
    "    import pyclesperanto_prototype as cle\n",
    "    return cle.pixel_count_map(label_image)"
   ]
  },
  {
   "cell_type": "code",
   "execution_count": 2,
   "id": "e2c6981f-99ff-4b38-b150-fe03dfdac762",
   "metadata": {},
   "outputs": [],
   "source": [
    "def check(candidate):\n",
    "    import numpy as np\n",
    "    \n",
    "    result = candidate(np.asarray([\n",
    "        [0,0,0,0,0],\n",
    "        [1,2,2,0,0],\n",
    "        [1,2,2,0,0],\n",
    "        [1,0,0,3,0],\n",
    "        [0,0,0,4,0],\n",
    "    ]))\n",
    "\n",
    "    reference = np.asarray([\n",
    "        [0,0,0,0,0],\n",
    "        [3,4,4,0,0],\n",
    "        [3,4,4,0,0],\n",
    "        [3,0,0,1,0],\n",
    "        [0,0,0,1,0],\n",
    "    ])\n",
    "\n",
    "    assert np.array_equal(reference, result)"
   ]
  },
  {
   "cell_type": "code",
   "execution_count": 3,
   "id": "e4789ed1-dc01-46a6-80b2-dd98d8d7b875",
   "metadata": {},
   "outputs": [],
   "source": [
    "check(map_pixel_count_of_labels)"
   ]
  },
  {
   "cell_type": "code",
   "execution_count": null,
   "id": "69f50302-d69f-4659-9512-4bb86db33cbc",
   "metadata": {},
   "outputs": [],
   "source": []
  }
 ],
 "metadata": {
  "kernelspec": {
   "display_name": "Python 3 (ipykernel)",
   "language": "python",
   "name": "python3"
  },
  "language_info": {
   "codemirror_mode": {
    "name": "ipython",
    "version": 3
   },
   "file_extension": ".py",
   "mimetype": "text/x-python",
   "name": "python",
   "nbconvert_exporter": "python",
   "pygments_lexer": "ipython3",
   "version": "3.10.14"
  }
 },
 "nbformat": 4,
 "nbformat_minor": 5
}
