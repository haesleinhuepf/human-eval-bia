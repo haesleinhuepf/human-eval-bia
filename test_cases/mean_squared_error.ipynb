{
 "cells": [
  {
   "cell_type": "code",
   "execution_count": 1,
   "id": "b27a1d0e-e184-425b-9944-0e354aad8b08",
   "metadata": {},
   "outputs": [],
   "source": [
    "def mean_squared_error(image1, image2):\n",
    "    \"\"\"\n",
    "    Takes two images provided as numpy arrays and returns the mean-squared-error of the two images compared pixel-by-pixel.\n",
    "    \"\"\"\n",
    "    import numpy as np\n",
    "    image1 = np.asarray(image1)\n",
    "    image2 = np.asarray(image2)\n",
    "    return ((image1 - image2)**2).mean()\n",
    "    # adapted from : https://stackoverflow.com/questions/16774849/mean-squared-error-in-numpy"
   ]
  },
  {
   "cell_type": "code",
   "execution_count": 2,
   "id": "2243e607-8d2d-4a77-b612-64d8223d70db",
   "metadata": {},
   "outputs": [],
   "source": [
    "def check(candidate):\n",
    "    image1 = [\n",
    "        [0,0,0,0,0],\n",
    "        [0,1,0,0,0],\n",
    "        [0,0,0,0,0],\n",
    "        [0,0,0,2,0],\n",
    "        [0,0,0,0,0],\n",
    "    ]\n",
    "    image2 = [\n",
    "        [0,0,0,0,0],\n",
    "        [0,1,0,0,0],\n",
    "        [0,0,0,0,0],\n",
    "        [0,0,0,2,0],\n",
    "        [0,0,0,0,0],\n",
    "    ]\n",
    "\n",
    "    mse = candidate(image1,image2)\n",
    "    print(mse)\n",
    "    assert mse == 0\n",
    "\n",
    "    image3 = [\n",
    "        [0,0,0,0,0],\n",
    "        [0,0,0,0,0],\n",
    "        [0,0,0,0,0],\n",
    "        [0,0,0,0,0],\n",
    "        [0,0,0,0,0],\n",
    "    ]\n",
    "\n",
    "    mse = candidate(image1,image3)\n",
    "    print(mse)\n",
    "    assert mse == 5 / 25\n",
    "    \n"
   ]
  },
  {
   "cell_type": "code",
   "execution_count": 3,
   "id": "577fd3b1-aa81-40c0-8a27-88e86ba48718",
   "metadata": {},
   "outputs": [
    {
     "name": "stdout",
     "output_type": "stream",
     "text": [
      "0.0\n",
      "0.2\n"
     ]
    }
   ],
   "source": [
    "check(mean_squared_error)"
   ]
  },
  {
   "cell_type": "code",
   "execution_count": null,
   "id": "d470d040-51c2-4b57-a8bd-82565c6e1642",
   "metadata": {},
   "outputs": [],
   "source": []
  }
 ],
 "metadata": {
  "kernelspec": {
   "display_name": "Python 3 (ipykernel)",
   "language": "python",
   "name": "python3"
  },
  "language_info": {
   "codemirror_mode": {
    "name": "ipython",
    "version": 3
   },
   "file_extension": ".py",
   "mimetype": "text/x-python",
   "name": "python",
   "nbconvert_exporter": "python",
   "pygments_lexer": "ipython3",
   "version": "3.10.14"
  }
 },
 "nbformat": 4,
 "nbformat_minor": 5
}
