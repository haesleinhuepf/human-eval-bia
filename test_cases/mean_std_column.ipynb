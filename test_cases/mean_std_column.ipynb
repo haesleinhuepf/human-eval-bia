{
 "cells": [
  {
   "cell_type": "code",
   "execution_count": 1,
   "id": "b27a1d0e-e184-425b-9944-0e354aad8b08",
   "metadata": {},
   "outputs": [],
   "source": [
    "def mean_std_column(dataframe, column:str):\n",
    "    \"\"\"\n",
    "    Computes the mean average and standard deviation of a column specified by name \n",
    "    in a given dataframe and returns these two numbers as tuple.\n",
    "    \"\"\"\n",
    "    import numpy as np\n",
    "    data = dataframe[column]\n",
    "    return np.mean(data), np.std(data)"
   ]
  },
  {
   "cell_type": "code",
   "execution_count": 2,
   "id": "2243e607-8d2d-4a77-b612-64d8223d70db",
   "metadata": {},
   "outputs": [],
   "source": [
    "def check(candidate):\n",
    "    import pandas as pd\n",
    "    df = pd.DataFrame(\n",
    "        {\n",
    "         \"a\":[1.6,2.3,2.6,3.7,3.4,3.9,4.3,4.3,4.0,5.1,5.2,5.3,5.5], \n",
    "         \"b\":[0.1,0.2,0.3,0.3,0.4,0.4,0.4,0.5,0.5,0.5,0.6,0.6,0.6],\n",
    "         \"c\":[1.6,2.3,2.6,3.7,3.4,3.9,4.3,4.3,4.0,5.1,5.2,5.3,5.4],\n",
    "         \"d\":[1.7,2.4,2.4,3.6,3.5,3.9,4.4,4.2,4.1,5.0,5.1,5.4,5.6]\n",
    "        }\n",
    "    )\n",
    "    \n",
    "    result_mean, result_std = candidate(df, \"a\")\n",
    "    assert abs(result_mean - 3.938) < 0.001\n",
    "    assert abs(result_std - 1.170) < 0.001\n",
    "\n",
    "\n",
    "    result_mean, result_std = candidate(df, \"b\")\n",
    "    assert abs(result_mean - 0.415) < 0.001\n",
    "    assert abs(result_std - 0.151) < 0.001\n",
    "\n",
    "    result_mean, result_std = candidate(df, \"c\")\n",
    "    assert abs(result_mean - 3.931) < 0.001\n",
    "    assert abs(result_std - 1.160) < 0.001\n",
    "\n",
    "    result_mean, result_std = candidate(df, \"d\")\n",
    "    assert abs(result_mean - 3.946) < 0.001\n",
    "    assert abs(result_std - 1.168) < 0.001\n"
   ]
  },
  {
   "cell_type": "code",
   "execution_count": 3,
   "id": "577fd3b1-aa81-40c0-8a27-88e86ba48718",
   "metadata": {},
   "outputs": [],
   "source": [
    "check(mean_std_column)"
   ]
  },
  {
   "cell_type": "code",
   "execution_count": null,
   "id": "d470d040-51c2-4b57-a8bd-82565c6e1642",
   "metadata": {},
   "outputs": [],
   "source": []
  }
 ],
 "metadata": {
  "kernelspec": {
   "display_name": "Python 3 (ipykernel)",
   "language": "python",
   "name": "python3"
  },
  "language_info": {
   "codemirror_mode": {
    "name": "ipython",
    "version": 3
   },
   "file_extension": ".py",
   "mimetype": "text/x-python",
   "name": "python",
   "nbconvert_exporter": "python",
   "pygments_lexer": "ipython3",
   "version": "3.10.14"
  }
 },
 "nbformat": 4,
 "nbformat_minor": 5
}
