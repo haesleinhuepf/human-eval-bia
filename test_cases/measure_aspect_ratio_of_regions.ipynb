{
 "cells": [
  {
   "cell_type": "code",
   "execution_count": 1,
   "id": "62a24ee3-b70a-4d9f-8a1e-8878cae835ec",
   "metadata": {},
   "outputs": [],
   "source": [
    "def measure_aspect_ratio_of_regions(label_image):\n",
    "    \"\"\"\n",
    "    Takes a label image provided as numpy array and returns a pandas dataframe\n",
    "    with a column containing measurements for aspect_ratio of the objects.\n",
    "    \"\"\"\n",
    "    import skimage\n",
    "    import pandas as pd\n",
    "    stats = pd.DataFrame(skimage.measure.regionprops_table(label_image, properties=('minor_axis_length', 'major_axis_length')))\n",
    "    stats['aspect_ratio'] = stats['major_axis_length'] / stats['minor_axis_length']\n",
    "    return stats"
   ]
  },
  {
   "cell_type": "code",
   "execution_count": 2,
   "id": "c26195ec-50f8-4465-b312-fa40b5e3ae08",
   "metadata": {},
   "outputs": [],
   "source": [
    "def check(candidate):\n",
    "    import numpy as np\n",
    "\n",
    "    label_image = np.asarray([\n",
    "        [0,1,1,0,0,3,3],\n",
    "        [0,1,1,0,0,3,3],\n",
    "        [0,2,2,2,2,3,3],\n",
    "        [0,2,2,2,2,3,3],\n",
    "        [0,4,4,4,0,3,3],\n",
    "        [0,4,4,4,0,3,3],\n",
    "        [0,4,4,4,0,0,0],\n",
    "    ])\n",
    "    \n",
    "    result = candidate(label_image) \n",
    "    print(result['aspect_ratio'])\n",
    "    assert np.allclose(result['aspect_ratio'], [1,2,3,1], atol=0.5)\n"
   ]
  },
  {
   "cell_type": "code",
   "execution_count": 3,
   "id": "55fdf71d-d03c-4919-9765-0a27e27fd737",
   "metadata": {},
   "outputs": [
    {
     "name": "stdout",
     "output_type": "stream",
     "text": [
      "0    1.000000\n",
      "1    2.236068\n",
      "2    3.415650\n",
      "3    1.000000\n",
      "Name: aspect_ratio, dtype: float64\n"
     ]
    }
   ],
   "source": [
    "check(measure_aspect_ratio_of_regions)"
   ]
  },
  {
   "cell_type": "code",
   "execution_count": null,
   "id": "d9670160-e3b3-43cf-a1c8-b30f812fae64",
   "metadata": {},
   "outputs": [],
   "source": []
  }
 ],
 "metadata": {
  "kernelspec": {
   "display_name": "Python 3 (ipykernel)",
   "language": "python",
   "name": "python3"
  },
  "language_info": {
   "codemirror_mode": {
    "name": "ipython",
    "version": 3
   },
   "file_extension": ".py",
   "mimetype": "text/x-python",
   "name": "python",
   "nbconvert_exporter": "python",
   "pygments_lexer": "ipython3",
   "version": "3.10.14"
  }
 },
 "nbformat": 4,
 "nbformat_minor": 5
}
