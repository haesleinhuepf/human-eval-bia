{
 "cells": [
  {
   "cell_type": "code",
   "execution_count": 1,
   "id": "62a24ee3-b70a-4d9f-8a1e-8878cae835ec",
   "metadata": {},
   "outputs": [],
   "source": [
    "def measure_intensity_over_time(image_list):\n",
    "    \"\"\"\n",
    "    Takes a timelapse (list of images provided as numpy arrays), \n",
    "    measures the average intensity in the images over time and \n",
    "    returns the resulting measurements as list.\n",
    "    \"\"\"\n",
    "    import numpy as np\n",
    "    return np.asarray(image_list).mean(axis=(1,2)).tolist()"
   ]
  },
  {
   "cell_type": "code",
   "execution_count": 2,
   "id": "c26195ec-50f8-4465-b312-fa40b5e3ae08",
   "metadata": {},
   "outputs": [],
   "source": [
    "def check(candidate):\n",
    "    import numpy as np\n",
    "\n",
    "    images = [\n",
    "        np.asarray([[0,1],[1,1]]),\n",
    "        np.asarray([[0,2],[2,2]]),\n",
    "        np.asarray([[0,3],[3,3]]),\n",
    "        np.asarray([[0,3],[2,2]]),\n",
    "        np.asarray([[0,2],[2,1]]),\n",
    "        np.asarray([[0,1],[1,0]]),\n",
    "    ]\n",
    "    reference = [0.75, 1.5, 2.25, 7/4, 5/4, 0.5]\n",
    "    \n",
    "    result = candidate(images) \n",
    "\n",
    "    assert np.allclose(reference, result, atol=0.001)\n"
   ]
  },
  {
   "cell_type": "code",
   "execution_count": 3,
   "id": "55fdf71d-d03c-4919-9765-0a27e27fd737",
   "metadata": {},
   "outputs": [],
   "source": [
    "check(measure_intensity_over_time)"
   ]
  },
  {
   "cell_type": "code",
   "execution_count": null,
   "id": "d9670160-e3b3-43cf-a1c8-b30f812fae64",
   "metadata": {},
   "outputs": [],
   "source": []
  }
 ],
 "metadata": {
  "kernelspec": {
   "display_name": "Python 3 (ipykernel)",
   "language": "python",
   "name": "python3"
  },
  "language_info": {
   "codemirror_mode": {
    "name": "ipython",
    "version": 3
   },
   "file_extension": ".py",
   "mimetype": "text/x-python",
   "name": "python",
   "nbconvert_exporter": "python",
   "pygments_lexer": "ipython3",
   "version": "3.10.14"
  }
 },
 "nbformat": 4,
 "nbformat_minor": 5
}
