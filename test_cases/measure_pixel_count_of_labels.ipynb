{
 "cells": [
  {
   "cell_type": "code",
   "execution_count": 1,
   "id": "62a24ee3-b70a-4d9f-8a1e-8878cae835ec",
   "metadata": {},
   "outputs": [],
   "source": [
    "def measure_pixel_count_of_labels(label_image):\n",
    "    \"\"\"\n",
    "    Takes a label image provided as numpy array and returns a list of counts of number of pixels per label.\n",
    "    \"\"\"\n",
    "    import skimage\n",
    "    stats = skimage.measure.regionprops(label_image)\n",
    "    return [s.area for s in stats]"
   ]
  },
  {
   "cell_type": "code",
   "execution_count": 2,
   "id": "c26195ec-50f8-4465-b312-fa40b5e3ae08",
   "metadata": {},
   "outputs": [],
   "source": [
    "def check(candidate):\n",
    "    import numpy as np\n",
    "    \n",
    "    result = candidate(np.asarray([\n",
    "        [0,1,0,0,0],\n",
    "        [0,0,0,0,0],\n",
    "        [0,2,2,2,0],\n",
    "        [0,3,3,0,0],\n",
    "        [0,0,0,4,0],\n",
    "    ])) \n",
    "    assert np.array_equal([1,3,2,1], result)"
   ]
  },
  {
   "cell_type": "code",
   "execution_count": 3,
   "id": "55fdf71d-d03c-4919-9765-0a27e27fd737",
   "metadata": {},
   "outputs": [],
   "source": [
    "check(measure_pixel_count_of_labels)"
   ]
  },
  {
   "cell_type": "code",
   "execution_count": null,
   "id": "cf935c2c-112a-440b-a9e2-c2f994bb6e7e",
   "metadata": {},
   "outputs": [],
   "source": []
  }
 ],
 "metadata": {
  "kernelspec": {
   "display_name": "Python 3 (ipykernel)",
   "language": "python",
   "name": "python3"
  },
  "language_info": {
   "codemirror_mode": {
    "name": "ipython",
    "version": 3
   },
   "file_extension": ".py",
   "mimetype": "text/x-python",
   "name": "python",
   "nbconvert_exporter": "python",
   "pygments_lexer": "ipython3",
   "version": "3.10.14"
  }
 },
 "nbformat": 4,
 "nbformat_minor": 5
}
