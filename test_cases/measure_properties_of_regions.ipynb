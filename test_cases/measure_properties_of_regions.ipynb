{
 "cells": [
  {
   "cell_type": "code",
   "execution_count": 1,
   "id": "62a24ee3-b70a-4d9f-8a1e-8878cae835ec",
   "metadata": {},
   "outputs": [],
   "source": [
    "def measure_properties_of_regions(label_image, intensity_image):\n",
    "    \"\"\"\n",
    "    Takes a label image and an intensity image, both provided as numpy array, \n",
    "    and returns pandas dataframe with measurements for area, perimeter and \n",
    "    mean_intensity of the labeled objects.\n",
    "    \"\"\"\n",
    "    import skimage\n",
    "    import pandas as pd\n",
    "    stats = skimage.measure.regionprops_table(label_image, intensity_image, properties=('area', 'perimeter', 'mean_intensity'))\n",
    "    return pd.DataFrame(stats)"
   ]
  },
  {
   "cell_type": "code",
   "execution_count": 2,
   "id": "c26195ec-50f8-4465-b312-fa40b5e3ae08",
   "metadata": {},
   "outputs": [],
   "source": [
    "def check(candidate):\n",
    "    import numpy as np\n",
    "\n",
    "    label_image = np.asarray([\n",
    "        [0,1,0,0,0],\n",
    "        [0,0,0,0,0],\n",
    "        [0,2,2,2,2],\n",
    "        [0,3,3,0,0],\n",
    "        [0,0,0,4,0],\n",
    "    ])\n",
    "\n",
    "    intensity_image = np.asarray([\n",
    "        [0,2,0,0,0],\n",
    "        [0,0,0,0,0],\n",
    "        [0,3,3,4,4],\n",
    "        [0,3,3,0,0],\n",
    "        [0,0,0,5,0],\n",
    "    ])\n",
    "    \n",
    "    result = candidate(label_image, intensity_image) \n",
    "    \n",
    "    assert \"mean_intensity\" in result.columns\n",
    "    assert \"area\" in result.columns\n",
    "    assert \"perimeter\" in result.columns\n",
    "    assert len(result.columns) == 3\n",
    "    assert len(result) == 4"
   ]
  },
  {
   "cell_type": "code",
   "execution_count": 3,
   "id": "55fdf71d-d03c-4919-9765-0a27e27fd737",
   "metadata": {},
   "outputs": [],
   "source": [
    "check(measure_properties_of_regions)"
   ]
  },
  {
   "cell_type": "code",
   "execution_count": null,
   "id": "d9670160-e3b3-43cf-a1c8-b30f812fae64",
   "metadata": {},
   "outputs": [],
   "source": []
  }
 ],
 "metadata": {
  "kernelspec": {
   "display_name": "Python 3 (ipykernel)",
   "language": "python",
   "name": "python3"
  },
  "language_info": {
   "codemirror_mode": {
    "name": "ipython",
    "version": 3
   },
   "file_extension": ".py",
   "mimetype": "text/x-python",
   "name": "python",
   "nbconvert_exporter": "python",
   "pygments_lexer": "ipython3",
   "version": "3.10.14"
  }
 },
 "nbformat": 4,
 "nbformat_minor": 5
}
