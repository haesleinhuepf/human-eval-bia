{
 "cells": [
  {
   "cell_type": "code",
   "execution_count": 1,
   "id": "7554b74e-fbac-4fe9-b0b1-476f9dd54abe",
   "metadata": {},
   "outputs": [],
   "source": [
    "def open_image_read_voxel_size(image_filename):\n",
    "    \"\"\"\n",
    "    Reads an image file as specified by filename and return the voxel size of the image as (Z,Y,X) tuple.\n",
    "    \"\"\"\n",
    "    from aicsimageio import AICSImage\n",
    "    aics_image = AICSImage(image_filename)\n",
    "\n",
    "    return aics_image.physical_pixel_sizes.Z, \\\n",
    "            aics_image.physical_pixel_sizes.Y, \\\n",
    "            aics_image.physical_pixel_sizes.X"
   ]
  },
  {
   "cell_type": "code",
   "execution_count": 2,
   "id": "e6387b93-583f-4f1a-b6bf-830e4157c458",
   "metadata": {},
   "outputs": [],
   "source": [
    "def check(candidate):\n",
    "    voxel_size = candidate(\"../example_data/noise.ome.tif\")\n",
    "\n",
    "    assert voxel_size[0] == 0.5\n",
    "    assert voxel_size[1] == 0.2\n",
    "    assert voxel_size[2] == 0.2\n",
    "\n",
    "    voxel_size = candidate(\"../example_data/noise.tif\")\n",
    "\n",
    "    assert voxel_size[0] == 0.5\n",
    "    assert voxel_size[1] == 0.2\n",
    "    assert voxel_size[2] == 0.2"
   ]
  },
  {
   "cell_type": "code",
   "execution_count": null,
   "id": "df5247df-215b-4be3-ac90-8adcfb9be7e7",
   "metadata": {},
   "outputs": [],
   "source": [
    "check(open_image_read_voxel_size)"
   ]
  },
  {
   "cell_type": "code",
   "execution_count": null,
   "id": "e487f435-e5ba-49e0-afc3-bd07a6ef8622",
   "metadata": {},
   "outputs": [],
   "source": []
  }
 ],
 "metadata": {
  "kernelspec": {
   "display_name": "Python 3 (ipykernel)",
   "language": "python",
   "name": "python3"
  },
  "language_info": {
   "codemirror_mode": {
    "name": "ipython",
    "version": 3
   },
   "file_extension": ".py",
   "mimetype": "text/x-python",
   "name": "python",
   "nbconvert_exporter": "python",
   "pygments_lexer": "ipython3",
   "version": "3.10.14"
  }
 },
 "nbformat": 4,
 "nbformat_minor": 5
}
