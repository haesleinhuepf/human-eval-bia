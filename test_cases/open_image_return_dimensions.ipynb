{
 "cells": [
  {
   "cell_type": "code",
   "execution_count": 1,
   "id": "379be22d-e5f6-41d7-b171-f9f02742fd15",
   "metadata": {},
   "outputs": [],
   "source": [
    "def open_image_return_dimensions(image_file_location):\n",
    "    \"\"\"\n",
    "    Opens an image specified by filename and returns its dimensions as (height, width) tuple.\n",
    "    \"\"\"\n",
    "    from skimage.io import imread\n",
    "    image = imread(image_file_location)\n",
    "    return image.shape"
   ]
  },
  {
   "cell_type": "code",
   "execution_count": 2,
   "id": "e2c6981f-99ff-4b38-b150-fe03dfdac762",
   "metadata": {},
   "outputs": [],
   "source": [
    "def check(candidate):\n",
    "    shape = candidate(\"../example_data/blobs.tif\")\n",
    "    \n",
    "    assert shape[0] == 254\n",
    "    assert shape[1] == 256\n"
   ]
  },
  {
   "cell_type": "code",
   "execution_count": 3,
   "id": "e4789ed1-dc01-46a6-80b2-dd98d8d7b875",
   "metadata": {},
   "outputs": [],
   "source": [
    "check(open_image_return_dimensions)"
   ]
  },
  {
   "cell_type": "code",
   "execution_count": null,
   "id": "4e1f23f7-3894-4446-8606-ba2e0d4ea94d",
   "metadata": {},
   "outputs": [],
   "source": []
  }
 ],
 "metadata": {
  "kernelspec": {
   "display_name": "Python 3 (ipykernel)",
   "language": "python",
   "name": "python3"
  },
  "language_info": {
   "codemirror_mode": {
    "name": "ipython",
    "version": 3
   },
   "file_extension": ".py",
   "mimetype": "text/x-python",
   "name": "python",
   "nbconvert_exporter": "python",
   "pygments_lexer": "ipython3",
   "version": "3.10.14"
  }
 },
 "nbformat": 4,
 "nbformat_minor": 5
}
