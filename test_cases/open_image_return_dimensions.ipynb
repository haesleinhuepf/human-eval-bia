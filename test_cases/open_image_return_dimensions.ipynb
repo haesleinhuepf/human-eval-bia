{
 "cells": [
  {
   "cell_type": "code",
   "execution_count": 1,
   "id": "379be22d-e5f6-41d7-b171-f9f02742fd15",
   "metadata": {},
   "outputs": [],
   "source": [
    "def open_image_return_dimensions(image_file_location):\n",
    "    \"\"\"\n",
    "    Opens an image and returns its dimensions\n",
    "    \"\"\"\n",
    "    from skimage.io import imread\n",
    "    image = imread(image_file_location)\n",
    "    return image.shape"
   ]
  },
  {
   "cell_type": "code",
   "execution_count": 6,
   "id": "e2c6981f-99ff-4b38-b150-fe03dfdac762",
   "metadata": {},
   "outputs": [],
   "source": [
    "def check(candidate):\n",
    "    shape = candidate(\"../example_data/blobs.tif\")\n",
    "    \n",
    "    assert ((shape[0] == 254) & (shape[1] == 256)) or ((shape[1] == 254) & (shape[0] == 256))\n"
   ]
  },
  {
   "cell_type": "code",
   "execution_count": 7,
   "id": "e4789ed1-dc01-46a6-80b2-dd98d8d7b875",
   "metadata": {},
   "outputs": [
    {
     "ename": "AssertionError",
     "evalue": "",
     "output_type": "error",
     "traceback": [
      "\u001b[0;31m---------------------------------------------------------------------------\u001b[0m",
      "\u001b[0;31mAssertionError\u001b[0m                            Traceback (most recent call last)",
      "Cell \u001b[0;32mIn[7], line 1\u001b[0m\n\u001b[0;32m----> 1\u001b[0m \u001b[43mcheck\u001b[49m\u001b[43m(\u001b[49m\u001b[43mopen_image_return_dimensions\u001b[49m\u001b[43m)\u001b[49m\n",
      "Cell \u001b[0;32mIn[6], line 4\u001b[0m, in \u001b[0;36mcheck\u001b[0;34m(candidate)\u001b[0m\n\u001b[1;32m      1\u001b[0m \u001b[38;5;28;01mdef\u001b[39;00m \u001b[38;5;21mcheck\u001b[39m(candidate):\n\u001b[1;32m      2\u001b[0m     shape \u001b[38;5;241m=\u001b[39m candidate(\u001b[38;5;124m\"\u001b[39m\u001b[38;5;124m../example_data/blobs.tif\u001b[39m\u001b[38;5;124m\"\u001b[39m)\n\u001b[0;32m----> 4\u001b[0m     \u001b[38;5;28;01massert\u001b[39;00m ((shape[\u001b[38;5;241m0\u001b[39m] \u001b[38;5;241m==\u001b[39m \u001b[38;5;241m254\u001b[39m) \u001b[38;5;241m&\u001b[39m (shape[\u001b[38;5;241m1\u001b[39m] \u001b[38;5;241m==\u001b[39m \u001b[38;5;241m256\u001b[39m))\n",
      "\u001b[0;31mAssertionError\u001b[0m: "
     ]
    }
   ],
   "source": [
    "check(open_image_return_dimensions)"
   ]
  },
  {
   "cell_type": "code",
   "execution_count": 9,
   "id": "4e1f23f7-3894-4446-8606-ba2e0d4ea94d",
   "metadata": {},
   "outputs": [
    {
     "data": {
      "text/plain": [
       "(256, 254)"
      ]
     },
     "execution_count": 9,
     "metadata": {},
     "output_type": "execute_result"
    }
   ],
   "source": [
    "from PIL import Image\n",
    "def open_image_return_dimensions(image_file_location):\n",
    "    \"\"\"\n",
    "    Opens an image and returns its dimensions\n",
    "    \"\"\"\n",
    "    with Image.open(image_file_location) as img:\n",
    "        return img.size\n",
    "# check(open_image_return_dimensions)\n",
    "open_image_return_dimensions(\"../example_data/blobs.tif\")"
   ]
  }
 ],
 "metadata": {
  "kernelspec": {
   "display_name": "Python [conda env:heb]",
   "language": "python",
   "name": "conda-env-heb-py"
  },
  "language_info": {
   "codemirror_mode": {
    "name": "ipython",
    "version": 3
   },
   "file_extension": ".py",
   "mimetype": "text/x-python",
   "name": "python",
   "nbconvert_exporter": "python",
   "pygments_lexer": "ipython3",
   "version": "3.10.14"
  }
 },
 "nbformat": 4,
 "nbformat_minor": 5
}
