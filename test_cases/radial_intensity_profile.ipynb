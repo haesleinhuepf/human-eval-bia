{
 "cells": [
  {
   "cell_type": "code",
   "execution_count": 1,
   "id": "62a24ee3-b70a-4d9f-8a1e-8878cae835ec",
   "metadata": {},
   "outputs": [],
   "source": [
    "def radial_intensity_profile(image, xc, yc):\n",
    "    \"\"\"\n",
    "    returns the radial intensity profile as list of numbers from an \n",
    "    image provided as numpy array around a given 2d coordinate specified as xc, yc. \n",
    "    \"\"\"\n",
    "    import numpy as np\n",
    "    y, x = np.indices((image.shape))\n",
    "    r = np.sqrt((x - xc)**2 + (y - yc)**2)\n",
    "    r = r.astype(int)\n",
    "    summed_values = np.bincount(r.ravel(), image.ravel())\n",
    "    number_of_pixels_at_r = np.bincount(r.ravel())\n",
    "    radial_profile = summed_values / number_of_pixels_at_r\n",
    "    return radial_profile "
   ]
  },
  {
   "cell_type": "code",
   "execution_count": 2,
   "id": "c26195ec-50f8-4465-b312-fa40b5e3ae08",
   "metadata": {},
   "outputs": [],
   "source": [
    "def check(candidate):\n",
    "    import numpy as np\n",
    "    xc = 5\n",
    "    yc = 5 \n",
    "    x, y = np.indices(np.zeros(shape=(11,11)).shape)\n",
    "    distance_image = np.sqrt((x - xc)**2 + (y - yc)**2)\n",
    "    result = candidate(distance_image, xc, yc) \n",
    "    reference = [0, 1, 2, 3, 4, 5]\n",
    "    \n",
    "    assert np.allclose(reference, result[0:len(reference)], atol=0.5)"
   ]
  },
  {
   "cell_type": "code",
   "execution_count": 3,
   "id": "55fdf71d-d03c-4919-9765-0a27e27fd737",
   "metadata": {},
   "outputs": [],
   "source": [
    "check(radial_intensity_profile)"
   ]
  }
 ],
 "metadata": {
  "kernelspec": {
   "display_name": "Python 3 (ipykernel)",
   "language": "python",
   "name": "python3"
  },
  "language_info": {
   "codemirror_mode": {
    "name": "ipython",
    "version": 3
   },
   "file_extension": ".py",
   "mimetype": "text/x-python",
   "name": "python",
   "nbconvert_exporter": "python",
   "pygments_lexer": "ipython3",
   "version": "3.10.14"
  }
 },
 "nbformat": 4,
 "nbformat_minor": 5
}
