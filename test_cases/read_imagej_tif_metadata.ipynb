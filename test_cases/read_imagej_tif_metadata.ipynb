{
 "cells": [
  {
   "cell_type": "code",
   "execution_count": 1,
   "id": "initial_id",
   "metadata": {
    "ExecuteTime": {
     "end_time": "2024-10-16T12:28:22.918909Z",
     "start_time": "2024-10-16T12:28:22.916389Z"
    }
   },
   "outputs": [],
   "source": [
    "def read_imagej_tif_metadata(image_filename):\n",
    "    \"\"\"\n",
    "    Read ImageJ metadata from a tif image specified by its filename.\n",
    "    Returns a dictionary with the metadata for \"ImageJ\", \"images\", \"slices\", \"unit\", \"spacing\" and \"loop\". \n",
    "    \"\"\"\n",
    "    from tifffile import TiffFile\n",
    "    \n",
    "    with (TiffFile(image_filename) as tif):\n",
    "        imagej_metadata = tif.imagej_metadata\n",
    "    return imagej_metadata"
   ]
  },
  {
   "cell_type": "code",
   "execution_count": 2,
   "id": "24115092feb5a966",
   "metadata": {
    "ExecuteTime": {
     "end_time": "2024-10-16T12:28:23.216592Z",
     "start_time": "2024-10-16T12:28:23.213033Z"
    }
   },
   "outputs": [],
   "source": [
    "def check(candidate):\n",
    "    result_metadata = candidate(\"../example_data/noise.tif\")    \n",
    "    expected_metadata = {'ImageJ': '1.54f',\n",
    "             'images': 30,\n",
    "             'slices': 30,\n",
    "             'unit': '\\\\u00B5m',\n",
    "             'spacing': 0.5,\n",
    "             'loop': False}\n",
    "    \n",
    "    assert result_metadata == expected_metadata"
   ]
  },
  {
   "cell_type": "code",
   "execution_count": 3,
   "id": "d67df7f5e51d5762",
   "metadata": {
    "ExecuteTime": {
     "end_time": "2024-10-16T12:28:23.608799Z",
     "start_time": "2024-10-16T12:28:23.603623Z"
    }
   },
   "outputs": [],
   "source": [
    "check(read_imagej_tif_metadata)"
   ]
  },
  {
   "cell_type": "code",
   "execution_count": null,
   "id": "bc38f3356c8f53b0",
   "metadata": {},
   "outputs": [],
   "source": []
  }
 ],
 "metadata": {
  "kernelspec": {
   "display_name": "Python 3 (ipykernel)",
   "language": "python",
   "name": "python3"
  },
  "language_info": {
   "codemirror_mode": {
    "name": "ipython",
    "version": 3
   },
   "file_extension": ".py",
   "mimetype": "text/x-python",
   "name": "python",
   "nbconvert_exporter": "python",
   "pygments_lexer": "ipython3",
   "version": "3.10.15"
  }
 },
 "nbformat": 4,
 "nbformat_minor": 5
}
