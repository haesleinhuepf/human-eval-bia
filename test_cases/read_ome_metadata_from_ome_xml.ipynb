{
 "cells": [
  {
   "cell_type": "code",
   "execution_count": 1,
   "id": "initial_id",
   "metadata": {},
   "outputs": [],
   "source": [
    "def read_ome_metadata_from_ome_xml(img_path):\n",
    "    \"\"\"\n",
    "    Read metadata from an ome.xml\n",
    "    \"\"\"\n",
    "    from ome_types import from_xml\n",
    "    ome = from_xml(img_path)\n",
    "    return ome.images[0]"
   ]
  },
  {
   "cell_type": "code",
   "execution_count": 2,
   "id": "42afc29a68c842aa",
   "metadata": {},
   "outputs": [],
   "source": [
    "def check(candidate):\n",
    "    img_path = \"../example_data/ome_xml_example.xml\"\n",
    "    ome_string_result = candidate(img_path)\n",
    "    \n",
    "    xml_string_expected = \"tubhiswt\"\n",
    "    \n",
    "    assert ome_string_result.name == xml_string_expected"
   ]
  },
  {
   "cell_type": "code",
   "execution_count": 3,
   "id": "f41f356a316fab13",
   "metadata": {},
   "outputs": [],
   "source": [
    "check(read_ome_metadata_from_ome_xml)"
   ]
  },
  {
   "cell_type": "code",
   "execution_count": null,
   "id": "cdcdad15-cc1f-49de-9121-e283296a7f58",
   "metadata": {},
   "outputs": [],
   "source": []
  }
 ],
 "metadata": {
  "kernelspec": {
   "display_name": "Python 3 (ipykernel)",
   "language": "python",
   "name": "python3"
  },
  "language_info": {
   "codemirror_mode": {
    "name": "ipython",
    "version": 3
   },
   "file_extension": ".py",
   "mimetype": "text/x-python",
   "name": "python",
   "nbconvert_exporter": "python",
   "pygments_lexer": "ipython3",
   "version": "3.10.15"
  }
 },
 "nbformat": 4,
 "nbformat_minor": 5
}
