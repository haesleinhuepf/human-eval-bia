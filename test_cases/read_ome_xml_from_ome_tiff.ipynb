{
 "cells": [
  {
   "cell_type": "code",
   "execution_count": null,
   "id": "initial_id",
   "metadata": {},
   "outputs": [],
   "source": [
    "def read_ome_metadata_from_ome_tiff(img_path):\n",
    "    \"\"\"\n",
    "    Read the ome.xml header from an ome.tiff\n",
    "    \"\"\"\n",
    "    from ome_types import from_tiff, to_xml\n",
    "    ome = from_tiff(img_path)\n",
    "    return to_xml(ome)"
   ]
  },
  {
   "cell_type": "code",
   "execution_count": null,
   "id": "47041db4eac2b5dd",
   "metadata": {},
   "outputs": [],
   "source": [
    "def check(candidate):\n",
    "    img_path = \"example_data/example.ome.tif\"\n",
    "    ome_string_result = candidate(img_path)\n",
    "    \n",
    "    with open(\"example_data/ome_xml_example.xml\", 'r', encoding='utf-8') as file:\n",
    "        ome_string_expected = file.read()\n",
    "        \n",
    "    ome_string_result = ome_string_result.strip()\n",
    "    ome_string_expected = ome_string_expected.strip() \n",
    "\n",
    "    assert ome_string_result == ome_string_expected"
   ]
  },
  {
   "cell_type": "code",
   "execution_count": null,
   "id": "38283683630e2522",
   "metadata": {},
   "outputs": [],
   "source": [
    "check(read_ome_metadata_from_ome_tiff)"
   ]
  }
 ],
 "metadata": {
  "kernelspec": {
   "display_name": "Python 3 (ipykernel)",
   "language": "python",
   "name": "python3"
  },
  "language_info": {
   "codemirror_mode": {
    "name": "ipython",
    "version": 3
   },
   "file_extension": ".py",
   "mimetype": "text/x-python",
   "name": "python",
   "nbconvert_exporter": "python",
   "pygments_lexer": "ipython3",
   "version": "3.12.0"
  }
 },
 "nbformat": 4,
 "nbformat_minor": 5
}
