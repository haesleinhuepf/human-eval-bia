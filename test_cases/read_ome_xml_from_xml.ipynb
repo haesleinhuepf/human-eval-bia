{
 "cells": [
  {
   "cell_type": "code",
   "id": "initial_id",
   "metadata": {
    "collapsed": true
   },
   "source": [
    "def read_ome_metadata_from_ome_xml(img_path):\n",
    "    \"\"\"\n",
    "    Read metadata from an ome.xml\n",
    "    \"\"\"\n",
    "    from ome_types import from_xml\n",
    "    ome = from_xml(img_path)\n",
    "    return ome.images[0]"
   ],
   "outputs": [],
   "execution_count": null
  },
  {
   "metadata": {},
   "cell_type": "code",
   "source": [
    "def check(candidate):\n",
    "    img_path = \"../example_data/ome_xml_example.xml\"\n",
    "    ome_string_result = candidate(img_path)\n",
    "    \n",
    "    xml_string_expected = \"tubhiswt\"\n",
    "    \n",
    "    assert ome_string_result.name == xml_string_expected"
   ],
   "id": "42afc29a68c842aa",
   "outputs": [],
   "execution_count": null
  },
  {
   "metadata": {},
   "cell_type": "code",
   "source": "check(read_ome_metadata_from_ome_xml)",
   "id": "f41f356a316fab13",
   "outputs": [],
   "execution_count": null
  }
 ],
 "metadata": {
  "kernelspec": {
   "display_name": "Python 3",
   "language": "python",
   "name": "python3"
  },
  "language_info": {
   "codemirror_mode": {
    "name": "ipython",
    "version": 2
   },
   "file_extension": ".py",
   "mimetype": "text/x-python",
   "name": "python",
   "nbconvert_exporter": "python",
   "pygments_lexer": "ipython2",
   "version": "2.7.6"
  }
 },
 "nbformat": 4,
 "nbformat_minor": 5
}
