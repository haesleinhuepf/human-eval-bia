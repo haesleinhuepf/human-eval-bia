{
 "cells": [
  {
   "cell_type": "code",
   "execution_count": 1,
   "id": "379be22d-e5f6-41d7-b171-f9f02742fd15",
   "metadata": {},
   "outputs": [],
   "source": [
    "def region_growing_segmentation(image, point):\n",
    "    \"\"\"\n",
    "    Segments an image provided as numpy array using the region-growing algorithm \n",
    "    (sometimes called flood-filling algorithm) starting from a single point provided as y-x tuple. \n",
    "    Returns the resulting segmentation binary image as numpy array.\n",
    "    \"\"\"\n",
    "    import skimage\n",
    "    return skimage.segmentation.flood(image, point)"
   ]
  },
  {
   "cell_type": "code",
   "execution_count": 2,
   "id": "e2c6981f-99ff-4b38-b150-fe03dfdac762",
   "metadata": {},
   "outputs": [],
   "source": [
    "def check(candidate):\n",
    "    import numpy as np\n",
    "    \n",
    "    result = candidate(np.asarray([\n",
    "        [0,0,1,0,0,0,0,1,0,0],\n",
    "        [0,0,1,0,0,0,0,1,0,0],\n",
    "        [1,1,1,1,1,1,1,1,1,1],\n",
    "        [0,0,1,0,0,0,0,1,0,0],\n",
    "        [0,0,1,0,0,0,0,1,0,0],\n",
    "        [0,0,1,0,0,0,0,1,0,0],\n",
    "        [0,0,1,0,0,0,0,1,0,0],\n",
    "        [1,1,1,1,1,1,1,1,1,1],\n",
    "        [0,0,1,0,0,0,0,1,0,0],\n",
    "        [0,0,1,0,0,0,0,1,0,0],\n",
    "    ]), (5,5)) \n",
    "\n",
    "    assert result.sum() * 1 == 16\n",
    "    assert result.min() == 0\n",
    "    assert result.max() == 1"
   ]
  },
  {
   "cell_type": "code",
   "execution_count": 3,
   "id": "e4789ed1-dc01-46a6-80b2-dd98d8d7b875",
   "metadata": {},
   "outputs": [],
   "source": [
    "check(region_growing_segmentation)"
   ]
  },
  {
   "cell_type": "code",
   "execution_count": null,
   "id": "b38939da-37b8-4572-8227-b35354f3d60d",
   "metadata": {},
   "outputs": [],
   "source": []
  }
 ],
 "metadata": {
  "kernelspec": {
   "display_name": "Python 3 (ipykernel)",
   "language": "python",
   "name": "python3"
  },
  "language_info": {
   "codemirror_mode": {
    "name": "ipython",
    "version": 3
   },
   "file_extension": ".py",
   "mimetype": "text/x-python",
   "name": "python",
   "nbconvert_exporter": "python",
   "pygments_lexer": "ipython3",
   "version": "3.10.14"
  }
 },
 "nbformat": 4,
 "nbformat_minor": 5
}
