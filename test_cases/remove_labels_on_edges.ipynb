{
 "cells": [
  {
   "cell_type": "code",
   "execution_count": 1,
   "id": "379be22d-e5f6-41d7-b171-f9f02742fd15",
   "metadata": {},
   "outputs": [],
   "source": [
    "def remove_labels_on_edges(label_image):\n",
    "    \"\"\"\n",
    "    Takes a label_image given as numpy array, removes all objects which touch the image border\n",
    "    and returns the resulting label image.\n",
    "    \"\"\"\n",
    "    import skimage\n",
    "    return skimage.segmentation.clear_border(label_image)"
   ]
  },
  {
   "cell_type": "code",
   "execution_count": 2,
   "id": "e2c6981f-99ff-4b38-b150-fe03dfdac762",
   "metadata": {},
   "outputs": [],
   "source": [
    "def check(candidate):\n",
    "    import numpy as np\n",
    "    \n",
    "    result = candidate(np.asarray([\n",
    "        [0,0,0,0,0],\n",
    "        [1,2,2,0,0],\n",
    "        [1,2,2,0,0],\n",
    "        [1,0,0,3,0],\n",
    "        [0,0,0,4,0],\n",
    "    ]))\n",
    "\n",
    "    # -1 becaue background counts\n",
    "    assert len(np.unique(result)) - 1 == 2\n",
    "    assert result.shape[0] == 5\n",
    "    assert result.shape[1] == 5"
   ]
  },
  {
   "cell_type": "code",
   "execution_count": 3,
   "id": "e4789ed1-dc01-46a6-80b2-dd98d8d7b875",
   "metadata": {},
   "outputs": [],
   "source": [
    "check(remove_labels_on_edges)"
   ]
  },
  {
   "cell_type": "code",
   "execution_count": null,
   "id": "b38939da-37b8-4572-8227-b35354f3d60d",
   "metadata": {},
   "outputs": [],
   "source": []
  }
 ],
 "metadata": {
  "kernelspec": {
   "display_name": "Python 3 (ipykernel)",
   "language": "python",
   "name": "python3"
  },
  "language_info": {
   "codemirror_mode": {
    "name": "ipython",
    "version": 3
   },
   "file_extension": ".py",
   "mimetype": "text/x-python",
   "name": "python",
   "nbconvert_exporter": "python",
   "pygments_lexer": "ipython3",
   "version": "3.10.14"
  }
 },
 "nbformat": 4,
 "nbformat_minor": 5
}
