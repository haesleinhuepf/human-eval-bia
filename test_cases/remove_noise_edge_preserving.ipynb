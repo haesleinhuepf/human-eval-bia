{
 "cells": [
  {
   "cell_type": "code",
   "execution_count": 1,
   "id": "379be22d-e5f6-41d7-b171-f9f02742fd15",
   "metadata": {},
   "outputs": [],
   "source": [
    "def remove_noise_edge_preserving(image, radius:int=1):\n",
    "    \"\"\"\n",
    "    Applies an edge-preserving noise-removal filter with a given radius to an \n",
    "    image provided as numpy array and returns the filtered image as numpy array.\n",
    "    \"\"\"\n",
    "    from scipy.ndimage import median_filter\n",
    "    filtered_image = median_filter(image, size=radius * 2 + 1)\n",
    "    return filtered_image"
   ]
  },
  {
   "cell_type": "code",
   "execution_count": 2,
   "id": "e2c6981f-99ff-4b38-b150-fe03dfdac762",
   "metadata": {},
   "outputs": [],
   "source": [
    "def check(candidate):\n",
    "    import numpy as np\n",
    "\n",
    "    image = np.asarray([\n",
    "        [1,1,2,2,2],\n",
    "        [1,2,2,2,2],\n",
    "        [1,1,2,2,2],\n",
    "        [1,1,1,2,2],\n",
    "        [1,1,2,2,2],\n",
    "    ])\n",
    "\n",
    "    reference = np.asarray([\n",
    "        [1,1,2,2,2],\n",
    "        [1,1,2,2,2],\n",
    "        [1,1,2,2,2],\n",
    "        [1,1,2,2,2],\n",
    "        [1,1,2,2,2],\n",
    "    ])\n",
    "    \n",
    "    assert np.array_equal(candidate(image), reference)\n",
    "\n",
    "    assert candidate(image, radius=5).mean() == 2\n",
    "\n"
   ]
  },
  {
   "cell_type": "code",
   "execution_count": 3,
   "id": "e4789ed1-dc01-46a6-80b2-dd98d8d7b875",
   "metadata": {},
   "outputs": [],
   "source": [
    "check(remove_noise_edge_preserving)"
   ]
  },
  {
   "cell_type": "code",
   "execution_count": null,
   "id": "b7881349-f4e7-4451-80d7-fde8031fdb1c",
   "metadata": {},
   "outputs": [],
   "source": []
  }
 ],
 "metadata": {
  "kernelspec": {
   "display_name": "Python 3 (ipykernel)",
   "language": "python",
   "name": "python3"
  },
  "language_info": {
   "codemirror_mode": {
    "name": "ipython",
    "version": 3
   },
   "file_extension": ".py",
   "mimetype": "text/x-python",
   "name": "python",
   "nbconvert_exporter": "python",
   "pygments_lexer": "ipython3",
   "version": "3.10.14"
  }
 },
 "nbformat": 4,
 "nbformat_minor": 5
}
