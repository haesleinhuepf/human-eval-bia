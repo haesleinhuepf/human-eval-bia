{
 "cells": [
  {
   "cell_type": "code",
   "id": "initial_id",
   "metadata": {
    "collapsed": true
   },
   "source": [
    "def rescale_image(img, factor):\n",
    "    \"\"\"\n",
    "    This function rescale and image based on the user input factor.\n",
    "    \"\"\"\n",
    "    from skimage.transform import rescale\n",
    "    rescaled_image = rescale(img, scale=factor)\n",
    "    return rescaled_image"
   ],
   "outputs": [],
   "execution_count": null
  },
  {
   "metadata": {},
   "cell_type": "code",
   "source": [
    "def check(candidate):\n",
    "    import numpy as np\n",
    "    img = np.random.random((30, 30))\n",
    "    factor = 0.5\n",
    "    result = np.random.random((15, 15))\n",
    "    \n",
    "    result_expected = candidate(img, factor)\n",
    "    \n",
    "    assert result.shape == result_expected.shape"
   ],
   "id": "a50c0a65b2b6cae7",
   "outputs": [],
   "execution_count": null
  },
  {
   "metadata": {},
   "cell_type": "code",
   "source": "check(rescale_image)",
   "id": "c071993029a13985",
   "outputs": [],
   "execution_count": null
  }
 ],
 "metadata": {
  "kernelspec": {
   "display_name": "Python 3",
   "language": "python",
   "name": "python3"
  },
  "language_info": {
   "codemirror_mode": {
    "name": "ipython",
    "version": 2
   },
   "file_extension": ".py",
   "mimetype": "text/x-python",
   "name": "python",
   "nbconvert_exporter": "python",
   "pygments_lexer": "ipython2",
   "version": "2.7.6"
  }
 },
 "nbformat": 4,
 "nbformat_minor": 5
}
