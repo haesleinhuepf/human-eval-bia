{
 "cells": [
  {
   "cell_type": "code",
   "execution_count": 1,
   "id": "initial_id",
   "metadata": {},
   "outputs": [],
   "source": [
    "def reshape_array(image):\n",
    "    \"\"\"\n",
    "    Reshapes a 3D numpy array by moving one dimension from position 2 to 0 and \n",
    "    returns the resulting numpy array.\n",
    "    \"\"\"\n",
    "    import numpy as np\n",
    "    \n",
    "    array = np.asarray(image)\n",
    "    array = np.transpose(array, axes=[2, 0, 1])\n",
    "    return array"
   ]
  },
  {
   "cell_type": "code",
   "execution_count": 2,
   "id": "361915783b0455ae",
   "metadata": {},
   "outputs": [],
   "source": [
    "def check(candidate):\n",
    "    import numpy as np\n",
    "    test_array_result = candidate(np.random.random((30,30,3)))\n",
    "    expected_shape = (3, 30, 30)\n",
    "    \n",
    "    assert expected_shape == test_array_result.shape"
   ]
  },
  {
   "cell_type": "code",
   "execution_count": 3,
   "id": "f7f9ee97274848e4",
   "metadata": {},
   "outputs": [],
   "source": [
    "check(reshape_array)"
   ]
  }
 ],
 "metadata": {
  "kernelspec": {
   "display_name": "Python 3 (ipykernel)",
   "language": "python",
   "name": "python3"
  },
  "language_info": {
   "codemirror_mode": {
    "name": "ipython",
    "version": 3
   },
   "file_extension": ".py",
   "mimetype": "text/x-python",
   "name": "python",
   "nbconvert_exporter": "python",
   "pygments_lexer": "ipython3",
   "version": "3.10.15"
  }
 },
 "nbformat": 4,
 "nbformat_minor": 5
}
