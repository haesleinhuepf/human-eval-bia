{
 "cells": [
  {
   "cell_type": "code",
   "id": "initial_id",
   "metadata": {
    "collapsed": true
   },
   "source": [
    "def reshape_3Darray_omero(image):\n",
    "    \"\"\"\n",
    "    Reshapes a 3D array into by moving one dimension from position 2 to 0\n",
    "    \"\"\"\n",
    "    import numpy as np\n",
    "    \n",
    "    array = np.asarray(image)\n",
    "    array = np.transpose(array, axes=[2, 0, 1])\n",
    "    return array"
   ],
   "outputs": [],
   "execution_count": null
  },
  {
   "metadata": {},
   "cell_type": "code",
   "source": [
    "def check(candidate):\n",
    "    import numpy as np\n",
    "    test_array_result = candidate(np.random.random((30,30,3)))\n",
    "    expected_shape = (3, 30, 30)\n",
    "    \n",
    "    assert expected_shape == test_array_result.shape"
   ],
   "id": "361915783b0455ae",
   "outputs": [],
   "execution_count": null
  },
  {
   "metadata": {},
   "cell_type": "code",
   "source": "check(reshape_3Darray_omero)",
   "id": "f7f9ee97274848e4",
   "outputs": [],
   "execution_count": null
  }
 ],
 "metadata": {
  "kernelspec": {
   "display_name": "Python 3",
   "language": "python",
   "name": "python3"
  },
  "language_info": {
   "codemirror_mode": {
    "name": "ipython",
    "version": 2
   },
   "file_extension": ".py",
   "mimetype": "text/x-python",
   "name": "python",
   "nbconvert_exporter": "python",
   "pygments_lexer": "ipython2",
   "version": "2.7.6"
  }
 },
 "nbformat": 4,
 "nbformat_minor": 5
}
