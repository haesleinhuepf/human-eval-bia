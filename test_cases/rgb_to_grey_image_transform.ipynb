{
 "cells": [
  {
   "cell_type": "code",
   "execution_count": 1,
   "id": "94642053-126c-464b-8a94-752c2133ae9e",
   "metadata": {},
   "outputs": [],
   "source": [
    "def rgb_to_grey_image_transform(rgb_image, r:float, g:float, b:float):\n",
    "    \"\"\"\n",
    "    Convert an RGB image provided as numpy array with the third dimension being the color\n",
    "    to a single-channel gray scale image with configurable weights r, g and b.\n",
    "    The weights are normalized to be 1 in sum.\n",
    "    The resulting single-channel image is returned as numpy array.\n",
    "    \"\"\"\n",
    "    rgb_sum = r + g + b\n",
    "    r = r / rgb_sum\n",
    "    g = g / rgb_sum\n",
    "    b = b / rgb_sum\n",
    "    \n",
    "    import numpy as np\n",
    "    channel_r = np.asarray(rgb_image)[...,0]\n",
    "    channel_g = np.asarray(rgb_image)[...,1]\n",
    "    channel_b = np.asarray(rgb_image)[...,2]\n",
    "    grey_image = channel_r * r + \\\n",
    "                 channel_g * g + \\\n",
    "                 channel_b * b\n",
    "    \n",
    "    return grey_image"
   ]
  },
  {
   "cell_type": "code",
   "execution_count": 2,
   "id": "c745e285-aa8e-4724-841f-0e8487200b0a",
   "metadata": {},
   "outputs": [],
   "source": [
    "def check(candidate):\n",
    "    import numpy as np\n",
    "    assert np.allclose(candidate([[[0,1,2], [3,3,3]]], 0.5, 0.25, 0.25),\n",
    "                                     [[0.75,  3]], atol=0.0001)\n",
    "\n",
    "    assert np.allclose(candidate([[[0,1,2], [3,3,3]]], 1, 2, 2),\n",
    "                                     [[1.2,  3]], atol=0.0001)\n",
    "                          "
   ]
  },
  {
   "cell_type": "code",
   "execution_count": 3,
   "id": "57f47606-912a-4141-a086-5c22585eb0a7",
   "metadata": {},
   "outputs": [],
   "source": [
    "check(rgb_to_grey_image_transform)"
   ]
  },
  {
   "cell_type": "code",
   "execution_count": null,
   "id": "7db07951-9e8a-4d96-a4b7-1a6b22fab317",
   "metadata": {},
   "outputs": [],
   "source": []
  },
  {
   "cell_type": "code",
   "execution_count": null,
   "id": "ca711c2e-2088-4c19-b8ac-330ebf79123c",
   "metadata": {},
   "outputs": [],
   "source": []
  }
 ],
 "metadata": {
  "kernelspec": {
   "display_name": "Python 3 (ipykernel)",
   "language": "python",
   "name": "python3"
  },
  "language_info": {
   "codemirror_mode": {
    "name": "ipython",
    "version": 3
   },
   "file_extension": ".py",
   "mimetype": "text/x-python",
   "name": "python",
   "nbconvert_exporter": "python",
   "pygments_lexer": "ipython3",
   "version": "3.10.14"
  }
 },
 "nbformat": 4,
 "nbformat_minor": 5
}
