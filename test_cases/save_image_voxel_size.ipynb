{
 "cells": [
  {
   "cell_type": "code",
   "execution_count": 9,
   "metadata": {},
   "outputs": [],
   "source": [
    "def save_image_with_voxel_size(image, vx, vy, vz):\n",
    "    \"\"\"\n",
    "    Takes a 3D input image and voxel sizes in x,y and z, sets the voxel size of the image using the given parameters vx,vy and vz, saves the image to a temporary directory as an ome tiff file and returns the saved image path.\n",
    "    \"\"\"\n",
    "    from aicsimageio import AICSImage \n",
    "    from aicsimageio.types import PhysicalPixelSizes\n",
    "    from tempfile import tempdir\n",
    "    import os \n",
    "\n",
    "    image = AICSImage(image)\n",
    "    AICSImage.physical_pixel_sizes = PhysicalPixelSizes(Z=vz,Y=vy,X=vx)\n",
    "    img_path = os.path.join(tempdir, 'voxel_save_test.ome.tiff')\n",
    "    image.save(img_path)\n",
    "    return img_path"
   ]
  },
  {
   "cell_type": "code",
   "execution_count": 10,
   "metadata": {},
   "outputs": [],
   "source": [
    "def check(candidate):\n",
    "    import numpy as np\n",
    "    from aicsimageio import AICSImage \n",
    "    from aicsimageio.types import PhysicalPixelSizes\n",
    "    from tempfile import tempdir\n",
    "    import os \n",
    "    \n",
    "    img_3d = np.random.randint(0,65535,(25,25,25),dtype=np.uint16)\n",
    "    vz,vy,vx = 2,0.5,0.5\n",
    "    reference_voxel_size = PhysicalPixelSizes(Z=vz,Y=vy,X=vx)\n",
    "    ref_img_path = candidate(img_3d, vx, vy, vz)  \n",
    "    img_3d_pixel_size = AICSImage(ref_img_path).physical_pixel_sizes\n",
    "    assert img_3d_pixel_size == reference_voxel_size\n",
    "    "
   ]
  },
  {
   "cell_type": "code",
   "execution_count": 11,
   "metadata": {},
   "outputs": [],
   "source": [
    "check(save_image_with_voxel_size)"
   ]
  }
 ],
 "metadata": {
  "kernelspec": {
   "display_name": "cellpose",
   "language": "python",
   "name": "python3"
  },
  "language_info": {
   "codemirror_mode": {
    "name": "ipython",
    "version": 3
   },
   "file_extension": ".py",
   "mimetype": "text/x-python",
   "name": "python",
   "nbconvert_exporter": "python",
   "pygments_lexer": "ipython3",
   "version": "3.12.1"
  }
 },
 "nbformat": 4,
 "nbformat_minor": 2
}
