{
 "cells": [
  {
   "cell_type": "code",
   "execution_count": 1,
   "id": "fcba3d68-9204-45fa-bd6e-e7412eb5e519",
   "metadata": {},
   "outputs": [],
   "source": [
    "def stack_and_merge(image1, image2, image3):\n",
    "    \"\"\"\n",
    "    Takes three numpy images as input and stacks the first two along the Z-dimension.\n",
    "    The third image is concatenated vertically to the intermediate result.\n",
    "    The concatenated numpy image is returned.\n",
    "    \"\"\"\n",
    "    import numpy as np\n",
    "    stacked_image = np.stack((image1, image2), axis=0)\n",
    "    stitched_image = np.concatenate((stacked_image, image3), axis=2)\n",
    "    return stitched_image.shape"
   ]
  },
  {
   "cell_type": "code",
   "execution_count": 2,
   "id": "f6cc881f-b659-4af7-9781-f26cc721c93f",
   "metadata": {},
   "outputs": [],
   "source": [
    "def check(candidate):\n",
    "    import numpy as np\n",
    "    array1 = np.random.random((30, 30))\n",
    "    array2 = np.random.random((30, 30))\n",
    "    array3 = np.random.random((2, 30, 30))\n",
    "    stiched_result = candidate(array1, array2, array3)\n",
    "    \n",
    "    expected_stiched_result = (2, 30, 60)\n",
    "\n",
    "    assert stiched_result == expected_stiched_result"
   ]
  },
  {
   "cell_type": "code",
   "execution_count": 3,
   "id": "6d310ca8-a697-41ca-8f23-5c66bc259053",
   "metadata": {},
   "outputs": [],
   "source": [
    "check(stack_and_merge)"
   ]
  }
 ],
 "metadata": {
  "kernelspec": {
   "display_name": "Python 3 (ipykernel)",
   "language": "python",
   "name": "python3"
  },
  "language_info": {
   "codemirror_mode": {
    "name": "ipython",
    "version": 3
   },
   "file_extension": ".py",
   "mimetype": "text/x-python",
   "name": "python",
   "nbconvert_exporter": "python",
   "pygments_lexer": "ipython3",
   "version": "3.10.15"
  }
 },
 "nbformat": 4,
 "nbformat_minor": 5
}
