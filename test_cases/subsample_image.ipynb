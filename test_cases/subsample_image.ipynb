{
 "cells": [
  {
   "cell_type": "code",
   "execution_count": 1,
   "id": "379be22d-e5f6-41d7-b171-f9f02742fd15",
   "metadata": {},
   "outputs": [],
   "source": [
    "def subsample_image(image, n:int=2):\n",
    "    \"\"\"\n",
    "    Subsamples a 2D image provided as numpy array by skipping every n'th pixel in X and Y and \n",
    "    returns the resulting numpy array.\n",
    "    \"\"\"\n",
    "    return image[::n,::n]"
   ]
  },
  {
   "cell_type": "code",
   "execution_count": 2,
   "id": "e2c6981f-99ff-4b38-b150-fe03dfdac762",
   "metadata": {},
   "outputs": [],
   "source": [
    "def check(candidate):\n",
    "    import numpy as np\n",
    "\n",
    "    image = np.asarray([\n",
    "        [1,2,3,4,5,6],\n",
    "        [7,8,9,0,1,2],\n",
    "        [3,4,5,6,7,8],\n",
    "        [9,0,1,2,3,4],\n",
    "        [5,6,7,8,9,0],\n",
    "        [1,2,3,4,5,6],\n",
    "    ])\n",
    "\n",
    "    reference = np.asarray([\n",
    "        [1,3,5],\n",
    "        [3,5,7],\n",
    "        [5,7,9],\n",
    "    ])\n",
    "    \n",
    "    assert np.array_equal(candidate(image, n=2), reference)\n",
    "\n",
    "    reference = np.asarray([\n",
    "        [1,4],\n",
    "        [9,2],\n",
    "    ])\n",
    "\n",
    "    assert np.array_equal(candidate(image, n=3), reference)"
   ]
  },
  {
   "cell_type": "code",
   "execution_count": 3,
   "id": "e4789ed1-dc01-46a6-80b2-dd98d8d7b875",
   "metadata": {},
   "outputs": [],
   "source": [
    "check(subsample_image)"
   ]
  },
  {
   "cell_type": "code",
   "execution_count": null,
   "id": "7fb7c186-8266-4ebf-8e4b-92ed53871400",
   "metadata": {},
   "outputs": [],
   "source": []
  }
 ],
 "metadata": {
  "kernelspec": {
   "display_name": "Python 3 (ipykernel)",
   "language": "python",
   "name": "python3"
  },
  "language_info": {
   "codemirror_mode": {
    "name": "ipython",
    "version": 3
   },
   "file_extension": ".py",
   "mimetype": "text/x-python",
   "name": "python",
   "nbconvert_exporter": "python",
   "pygments_lexer": "ipython3",
   "version": "3.10.14"
  }
 },
 "nbformat": 4,
 "nbformat_minor": 5
}
