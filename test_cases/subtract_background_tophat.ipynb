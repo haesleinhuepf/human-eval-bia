{
 "cells": [
  {
   "cell_type": "code",
   "execution_count": 1,
   "id": "379be22d-e5f6-41d7-b171-f9f02742fd15",
   "metadata": {},
   "outputs": [],
   "source": [
    "def subtract_background_tophat(image, radius:int=1):\n",
    "    \"\"\"\n",
    "    Applies a top-hat filter with a given radius to an image provided as numpy array with \n",
    "    dark background (low values) and bright foreground (high values). The resulting \n",
    "    background-subtracted image is returned as numpy array.\n",
    "    \"\"\"\n",
    "    from skimage.morphology import white_tophat\n",
    "    from skimage.morphology import disk\n",
    "    filtered_image = white_tophat(image, footprint=disk(radius))\n",
    "    \n",
    "    return filtered_image"
   ]
  },
  {
   "cell_type": "code",
   "execution_count": 2,
   "id": "e2c6981f-99ff-4b38-b150-fe03dfdac762",
   "metadata": {},
   "outputs": [],
   "source": [
    "def check(candidate):\n",
    "    import numpy as np\n",
    "\n",
    "    image = np.asarray([\n",
    "        [1,1,1,1,1,1,1,1],\n",
    "        [1,2,1,1,1,1,1,1],\n",
    "        [1,1,1,1,1,1,1,1],\n",
    "        [1,1,1,1,1,1,1,1],\n",
    "        [1,1,1,1,1,1,1,1],\n",
    "        [1,1,4,1,1,1,1,1],\n",
    "        [1,1,1,1,1,1,2,1],\n",
    "        [1,1,1,1,1,1,1,1],\n",
    "    ])\n",
    "\n",
    "    reference = np.asarray([\n",
    "        [0,0,0,0,0,0,0,0],\n",
    "        [0,1,0,0,0,0,0,0],\n",
    "        [0,0,0,0,0,0,0,0],\n",
    "        [0,0,0,0,0,0,0,0],\n",
    "        [0,0,0,0,0,0,0,0],\n",
    "        [0,0,3,0,0,0,0,0],\n",
    "        [0,0,0,0,0,0,1,0],\n",
    "        [0,0,0,0,0,0,0,0],\n",
    "    ])\n",
    "    \n",
    "    assert np.array_equal(candidate(image), reference)\n",
    "    assert np.array_equal(candidate(reference), reference)\n",
    "\n",
    "    # note this test case is kept simple to allow also other top-hat implementations (e.g. with a square footpint) to pass\n"
   ]
  },
  {
   "cell_type": "code",
   "execution_count": 3,
   "id": "e4789ed1-dc01-46a6-80b2-dd98d8d7b875",
   "metadata": {},
   "outputs": [],
   "source": [
    "check(subtract_background_tophat)"
   ]
  },
  {
   "cell_type": "code",
   "execution_count": null,
   "id": "b7881349-f4e7-4451-80d7-fde8031fdb1c",
   "metadata": {},
   "outputs": [],
   "source": []
  },
  {
   "cell_type": "code",
   "execution_count": null,
   "id": "7b4be3fb-cb72-46fa-9fe4-1e5d5b621bdb",
   "metadata": {},
   "outputs": [],
   "source": []
  }
 ],
 "metadata": {
  "kernelspec": {
   "display_name": "Python 3 (ipykernel)",
   "language": "python",
   "name": "python3"
  },
  "language_info": {
   "codemirror_mode": {
    "name": "ipython",
    "version": 3
   },
   "file_extension": ".py",
   "mimetype": "text/x-python",
   "name": "python",
   "nbconvert_exporter": "python",
   "pygments_lexer": "ipython3",
   "version": "3.10.14"
  }
 },
 "nbformat": 4,
 "nbformat_minor": 5
}
