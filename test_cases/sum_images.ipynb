{
 "cells": [
  {
   "cell_type": "code",
   "execution_count": 1,
   "id": "b7183cae-ecf6-4a90-970d-bc063b112c03",
   "metadata": {},
   "outputs": [],
   "source": [
    "def sum_images(image1, image2):\n",
    "    \"\"\"\n",
    "    Sums two images pixel-by-pixel and returns the result.\n",
    "    All input images and also the result image are of type numpy array.\n",
    "    \"\"\"\n",
    "    import numpy as np\n",
    "    return np.asarray(image1) + np.asarray(image2)"
   ]
  },
  {
   "cell_type": "code",
   "execution_count": 2,
   "id": "b24446cb-3756-4bd6-962d-2e6285a3db82",
   "metadata": {},
   "outputs": [],
   "source": [
    "def check(candidate):\n",
    "    import numpy as np\n",
    "\n",
    "    image1 = np.random.random((5,6))\n",
    "    image2 = np.random.random((5,6))\n",
    "    sum_image = image1 + image2\n",
    "    \n",
    "    assert np.allclose(candidate(image1, image2), sum_image)\n",
    "\n",
    "    image1 =    [[1,2,3], [4,5,6]]\n",
    "    image2 =    [[5,6,7], [0,1,2]]\n",
    "    sum_image = [[6,8,10],[4,6,8]]\n",
    "    \n",
    "    assert np.allclose(candidate(image1, image2), sum_image)\n"
   ]
  },
  {
   "cell_type": "code",
   "execution_count": 3,
   "id": "69bcd0a7-6b4e-47d4-8903-5c45a65a8212",
   "metadata": {},
   "outputs": [],
   "source": [
    "check(sum_images)"
   ]
  },
  {
   "cell_type": "code",
   "execution_count": null,
   "id": "ac401976-d98c-44bf-a802-62129a35300b",
   "metadata": {},
   "outputs": [],
   "source": []
  }
 ],
 "metadata": {
  "kernelspec": {
   "display_name": "Python 3 (ipykernel)",
   "language": "python",
   "name": "python3"
  },
  "language_info": {
   "codemirror_mode": {
    "name": "ipython",
    "version": 3
   },
   "file_extension": ".py",
   "mimetype": "text/x-python",
   "name": "python",
   "nbconvert_exporter": "python",
   "pygments_lexer": "ipython3",
   "version": "3.10.14"
  }
 },
 "nbformat": 4,
 "nbformat_minor": 5
}
