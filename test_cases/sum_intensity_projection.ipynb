{
 "cells": [
  {
   "cell_type": "code",
   "execution_count": 1,
   "id": "379be22d-e5f6-41d7-b171-f9f02742fd15",
   "metadata": {},
   "outputs": [],
   "source": [
    "def sum_intensity_projection(image):\n",
    "    \"\"\"\n",
    "    Performs a maximum intensity projection along the first axis of an image provided as numpy array.\n",
    "    The resulting image is returned as numpy array.\n",
    "    \"\"\"\n",
    "    import numpy as np\n",
    "    return np.asarray(image).sum(axis=0)"
   ]
  },
  {
   "cell_type": "code",
   "execution_count": 2,
   "id": "e2c6981f-99ff-4b38-b150-fe03dfdac762",
   "metadata": {},
   "outputs": [],
   "source": [
    "def check(candidate):\n",
    "    import numpy as np\n",
    "\n",
    "    image = np.asarray([\n",
    "        [0,0,0,0,0,0],\n",
    "        [0,1,0,0,3,0],\n",
    "        [0,0,0,0,0,0],\n",
    "        [0,0,0,0,0,0],\n",
    "        [0,4,0,0,6,0],\n",
    "        [0,0,0,0,0,0],\n",
    "    ])\n",
    "\n",
    "    reference = np.asarray(\n",
    "        [0,5,0,0,9,0]\n",
    "    )\n",
    "    \n",
    "    assert np.array_equal(candidate(image), reference)\n"
   ]
  },
  {
   "cell_type": "code",
   "execution_count": 3,
   "id": "e4789ed1-dc01-46a6-80b2-dd98d8d7b875",
   "metadata": {},
   "outputs": [],
   "source": [
    "check(sum_intensity_projection)"
   ]
  },
  {
   "cell_type": "code",
   "execution_count": null,
   "id": "b7881349-f4e7-4451-80d7-fde8031fdb1c",
   "metadata": {},
   "outputs": [],
   "source": []
  }
 ],
 "metadata": {
  "kernelspec": {
   "display_name": "Python 3 (ipykernel)",
   "language": "python",
   "name": "python3"
  },
  "language_info": {
   "codemirror_mode": {
    "name": "ipython",
    "version": 3
   },
   "file_extension": ".py",
   "mimetype": "text/x-python",
   "name": "python",
   "nbconvert_exporter": "python",
   "pygments_lexer": "ipython3",
   "version": "3.10.14"
  }
 },
 "nbformat": 4,
 "nbformat_minor": 5
}
