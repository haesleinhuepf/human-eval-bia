{
 "cells": [
  {
   "cell_type": "code",
   "execution_count": 1,
   "id": "b27a1d0e-e184-425b-9944-0e354aad8b08",
   "metadata": {},
   "outputs": [],
   "source": [
    "def t_test(dataframe, column1:str, column2:str):\n",
    "    \"\"\"\n",
    "    Takes a dataframe and two column names to apply a paired T-test to the two columns to determine and return the p-value.\n",
    "    \"\"\"\n",
    "    import scipy\n",
    "    data1 = dataframe[column1]\n",
    "    data2 = dataframe[column2]\n",
    "    return scipy.stats.ttest_rel(data1, data2)[1]\n",
    "    "
   ]
  },
  {
   "cell_type": "code",
   "execution_count": 2,
   "id": "2243e607-8d2d-4a77-b612-64d8223d70db",
   "metadata": {},
   "outputs": [],
   "source": [
    "def check(candidate):\n",
    "    import pandas as pd\n",
    "    df = pd.DataFrame(\n",
    "        {\n",
    "         \"a\":[1.6,2.3,2.6,3.7,3.4,3.9,4.3,4.3,4.0,5.1,5.2,5.3,5.5], \n",
    "         \"b\":[0.1,0.2,0.3,0.3,0.4,0.4,0.4,0.5,0.5,0.5,0.6,0.6,0.6],\n",
    "         \"c\":[1.6,2.3,2.6,3.7,3.4,3.9,4.3,4.3,4.0,5.1,5.2,5.3,5.4],\n",
    "         \"d\":[1.7,2.4,2.4,3.6,3.5,3.9,4.4,4.2,4.1,5.0,5.1,5.4,5.6]\n",
    "        }\n",
    "    )\n",
    "    \n",
    "    result = candidate(df, \"a\",\"b\")\n",
    "    assert 6e-8 > result > 5e-8\n",
    "\n",
    "    result = candidate(df, \"a\",\"c\")\n",
    "    assert 0.4 > result > 0.3\n"
   ]
  },
  {
   "cell_type": "code",
   "execution_count": 3,
   "id": "577fd3b1-aa81-40c0-8a27-88e86ba48718",
   "metadata": {},
   "outputs": [],
   "source": [
    "check(t_test)"
   ]
  },
  {
   "cell_type": "code",
   "execution_count": null,
   "id": "d470d040-51c2-4b57-a8bd-82565c6e1642",
   "metadata": {},
   "outputs": [],
   "source": []
  }
 ],
 "metadata": {
  "kernelspec": {
   "display_name": "Python 3 (ipykernel)",
   "language": "python",
   "name": "python3"
  },
  "language_info": {
   "codemirror_mode": {
    "name": "ipython",
    "version": 3
   },
   "file_extension": ".py",
   "mimetype": "text/x-python",
   "name": "python",
   "nbconvert_exporter": "python",
   "pygments_lexer": "ipython3",
   "version": "3.10.14"
  }
 },
 "nbformat": 4,
 "nbformat_minor": 5
}
