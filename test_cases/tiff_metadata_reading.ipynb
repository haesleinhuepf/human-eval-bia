{
 "cells": [
  {
   "cell_type": "code",
   "id": "initial_id",
   "metadata": {
    "collapsed": true
   },
   "source": [
    "def image_metadata_reading(image):\n",
    "    \"\"\"\n",
    "    Read image metadata from tiff file and convert it into a dictionary\n",
    "    \"\"\"\n",
    "    import json\n",
    "    \n",
    "    from bioio import BioImage\n",
    "    import bioio_tifffile\n",
    "    img = BioImage(image, reader=bioio_tifffile.Reader)\n",
    "    metadata = json.loads(img.metadata)\n",
    "    return metadata"
   ],
   "outputs": [],
   "execution_count": null
  },
  {
   "metadata": {},
   "cell_type": "code",
   "source": [
    "def check(candidate):\n",
    "    result_metadata = candidate(\"../example_data/blobs.tif\")    \n",
    "    expected_metadata = {\"shape\": [254, 256]}\n",
    "    \n",
    "    assert result_metadata == expected_metadata"
   ],
   "id": "22fa850f66ddba30",
   "outputs": [],
   "execution_count": null
  },
  {
   "metadata": {},
   "cell_type": "code",
   "source": "check(image_metadata_reading)",
   "id": "d8b1eb3c6d32e7ab",
   "outputs": [],
   "execution_count": null
  }
 ],
 "metadata": {
  "kernelspec": {
   "display_name": "Python 3",
   "language": "python",
   "name": "python3"
  },
  "language_info": {
   "codemirror_mode": {
    "name": "ipython",
    "version": 2
   },
   "file_extension": ".py",
   "mimetype": "text/x-python",
   "name": "python",
   "nbconvert_exporter": "python",
   "pygments_lexer": "ipython2",
   "version": "2.7.6"
  }
 },
 "nbformat": 4,
 "nbformat_minor": 5
}
