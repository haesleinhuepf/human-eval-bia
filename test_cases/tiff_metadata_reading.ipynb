{
 "cells": [
  {
   "metadata": {},
   "cell_type": "code",
   "source": [
    "def image_metadata_reading(image_filename):\n",
    "    \"\"\"\n",
    "    Read image metadata from tiff file and convert it into a dictionary.\n",
    "    Ensure that the dictionary only contains a single entry \"shape\" with image dimensions as tuple.\n",
    "    Return the dictionary.\n",
    "    \"\"\"\n",
    "    import json\n",
    "    \n",
    "    from bioio import BioImage\n",
    "    import bioio_tifffile\n",
    "    img = BioImage(image_filename, reader=bioio_tifffile.Reader)\n",
    "    metadata = json.loads(img.metadata)\n",
    "    return metadata"
   ],
   "id": "initial_id",
   "outputs": [],
   "execution_count": null
  },
  {
   "cell_type": "code",
   "id": "22fa850f66ddba30",
   "metadata": {},
   "source": [
    "def check(candidate):\n",
    "    result_metadata = candidate(\"example_data/blobs.tif\")    \n",
    "    expected_metadata = {\"shape\": [254, 256]}\n",
    "    \n",
    "    assert result_metadata == expected_metadata"
   ],
   "outputs": [],
   "execution_count": null
  },
  {
   "cell_type": "code",
   "id": "d8b1eb3c6d32e7ab",
   "metadata": {},
   "source": [
    "check(image_metadata_reading)"
   ],
   "outputs": [],
   "execution_count": null
  }
 ],
 "metadata": {
  "kernelspec": {
   "display_name": "Python 3 (ipykernel)",
   "language": "python",
   "name": "python3"
  },
  "language_info": {
   "codemirror_mode": {
    "name": "ipython",
    "version": 3
   },
   "file_extension": ".py",
   "mimetype": "text/x-python",
   "name": "python",
   "nbconvert_exporter": "python",
   "pygments_lexer": "ipython3",
   "version": "3.12.0"
  }
 },
 "nbformat": 4,
 "nbformat_minor": 5
}
