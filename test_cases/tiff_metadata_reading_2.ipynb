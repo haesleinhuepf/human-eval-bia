{
 "cells": [
  {
   "cell_type": "code",
   "id": "initial_id",
   "metadata": {
    "collapsed": true,
    "ExecuteTime": {
     "end_time": "2024-10-16T12:28:22.918909Z",
     "start_time": "2024-10-16T12:28:22.916389Z"
    }
   },
   "source": [
    "def image_medata_reading(image):\n",
    "    \"\"\"\n",
    "    Read image metadata from tiff file\n",
    "    \"\"\"\n",
    "    from tifffile import TiffFile\n",
    "    \n",
    "    with (TiffFile(image) as tif):\n",
    "        imagej_metadata = tif.imagej_metadata\n",
    "    return imagej_metadata"
   ],
   "outputs": [],
   "execution_count": 21
  },
  {
   "metadata": {
    "ExecuteTime": {
     "end_time": "2024-10-16T12:28:23.216592Z",
     "start_time": "2024-10-16T12:28:23.213033Z"
    }
   },
   "cell_type": "code",
   "source": [
    "def check(candidate):\n",
    "    result_metadata = candidate(\"../example_data/noise.tif\")    \n",
    "    expected_metadata = {'ImageJ': '1.54f',\n",
    "             'images': 30,\n",
    "             'slices': 30,\n",
    "             'unit': '\\\\u00B5m',\n",
    "             'spacing': 0.5,\n",
    "             'loop': False}\n",
    "    \n",
    "    assert result_metadata == expected_metadata"
   ],
   "id": "24115092feb5a966",
   "outputs": [],
   "execution_count": 22
  },
  {
   "metadata": {
    "ExecuteTime": {
     "end_time": "2024-10-16T12:28:23.608799Z",
     "start_time": "2024-10-16T12:28:23.603623Z"
    }
   },
   "cell_type": "code",
   "source": "check(image_medata_reading)",
   "id": "d67df7f5e51d5762",
   "outputs": [],
   "execution_count": 23
  },
  {
   "metadata": {},
   "cell_type": "code",
   "outputs": [],
   "execution_count": null,
   "source": "",
   "id": "bc38f3356c8f53b0"
  }
 ],
 "metadata": {
  "kernelspec": {
   "display_name": "Python 3",
   "language": "python",
   "name": "python3"
  },
  "language_info": {
   "codemirror_mode": {
    "name": "ipython",
    "version": 2
   },
   "file_extension": ".py",
   "mimetype": "text/x-python",
   "name": "python",
   "nbconvert_exporter": "python",
   "pygments_lexer": "ipython2",
   "version": "2.7.6"
  }
 },
 "nbformat": 4,
 "nbformat_minor": 5
}
