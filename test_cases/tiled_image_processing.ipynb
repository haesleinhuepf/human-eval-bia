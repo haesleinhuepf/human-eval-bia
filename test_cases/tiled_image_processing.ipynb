{
 "cells": [
  {
   "cell_type": "code",
   "execution_count": 1,
   "id": "379be22d-e5f6-41d7-b171-f9f02742fd15",
   "metadata": {},
   "outputs": [],
   "source": [
    "def tiled_image_processing(image, radius, tile_size):\n",
    "    \"\"\"\n",
    "    Applies a maximum filter with a given radius to the image provided as numpy-array using a tile-by-tile strategy.\n",
    "    The tile_size denotes the size of the tiles in X and Y.\n",
    "    The resulting, re-assembled image is returned as numpy array.\n",
    "    \"\"\"\n",
    "    import dask\n",
    "    import dask.array as da\n",
    "\n",
    "    tiles = da.from_array(image, chunks=(tile_size, tile_size))\n",
    "    \n",
    "    def procedure(image):\n",
    "        from scipy.ndimage import maximum_filter\n",
    "        return maximum_filter(image, size=radius*2+1)\n",
    "\n",
    "    # setup a lazy result (not computed yet)\n",
    "    tile_map = da.map_blocks(procedure, tiles)\n",
    "\n",
    "    # actually apply filter\n",
    "    result = tile_map.compute()\n",
    "\n",
    "    return result"
   ]
  },
  {
   "cell_type": "code",
   "execution_count": 2,
   "id": "e2c6981f-99ff-4b38-b150-fe03dfdac762",
   "metadata": {},
   "outputs": [],
   "source": [
    "def check(candidate):\n",
    "    import numpy as np\n",
    "\n",
    "    image = np.asarray([\n",
    "        [0,0,0,0,0,0],\n",
    "        [1,0,0,1,0,0],\n",
    "        [0,0,0,0,0,0],\n",
    "        [0,0,2,0,0,0],\n",
    "        [0,0,0,1,0,0],\n",
    "        [0,0,0,0,0,0],\n",
    "    ])\n",
    "\n",
    "    # this reference image has tile-border artefacts,\n",
    "    # the maximum-filter does not consider pixels beyond\n",
    "    # the 3x3 border\n",
    "    reference = np.asarray([\n",
    "        [1,1,0,1,1,0],\n",
    "        [1,1,0,1,1,0],\n",
    "        [1,1,0,1,1,0],\n",
    "        [0,2,2,1,1,0],\n",
    "        [0,2,2,1,1,0],\n",
    "        [0,0,0,1,1,0],\n",
    "    ])\n",
    "\n",
    "    result = candidate(image, 1, 3)\n",
    "\n",
    "    assert np.array_equal(result, reference)"
   ]
  },
  {
   "cell_type": "code",
   "execution_count": 3,
   "id": "e4789ed1-dc01-46a6-80b2-dd98d8d7b875",
   "metadata": {},
   "outputs": [],
   "source": [
    "check(tiled_image_processing)"
   ]
  },
  {
   "cell_type": "code",
   "execution_count": null,
   "id": "dbfff358-1f74-4168-bde1-fc2997715b8c",
   "metadata": {},
   "outputs": [],
   "source": []
  }
 ],
 "metadata": {
  "kernelspec": {
   "display_name": "Python 3 (ipykernel)",
   "language": "python",
   "name": "python3"
  },
  "language_info": {
   "codemirror_mode": {
    "name": "ipython",
    "version": 3
   },
   "file_extension": ".py",
   "mimetype": "text/x-python",
   "name": "python",
   "nbconvert_exporter": "python",
   "pygments_lexer": "ipython3",
   "version": "3.10.14"
  }
 },
 "nbformat": 4,
 "nbformat_minor": 5
}
