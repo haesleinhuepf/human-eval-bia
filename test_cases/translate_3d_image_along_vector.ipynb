{
 "cells": [
  {
   "cell_type": "markdown",
   "id": "ce132200-ffe5-4dc3-9b46-67774c6a2fc3",
   "metadata": {},
   "source": [
    "# Translate 3D image along a vector "
   ]
  },
  {
   "cell_type": "code",
   "execution_count": 1,
   "id": "399f45c8-a92e-4c95-9a0f-9f2882094a9e",
   "metadata": {},
   "outputs": [],
   "source": [
    "def translate_3d_image_along_vector(image, t_x, t_y, t_z):\n",
    "    \"\"\"\n",
    "    Translate a 3d image along a defined vector (in x, y, and z) and return the translated image.\n",
    "    \"\"\"\n",
    "    from pyclesperanto_prototype import translate\n",
    "\n",
    "    # translate 3d image along t_x, t_y and t_z\n",
    "    return translate(image, translate_x = t_x, translate_y = t_y, translate_z = t_z)"
   ]
  },
  {
   "cell_type": "code",
   "execution_count": 2,
   "id": "4e3a4b38-da5d-4904-905c-b1d968c89be7",
   "metadata": {},
   "outputs": [],
   "source": [
    "def check(candidate):\n",
    "    # import\n",
    "    import numpy as np\n",
    "\n",
    "    # translation along x, y and z\n",
    "    t_x = -1\n",
    "    t_y = 2\n",
    "    t_z = 1\n",
    "\n",
    "    # image\n",
    "    image = np.array([[[0., 1., 2., 0.],\n",
    "        [0., 3., 0., 0.],\n",
    "        [0., 0., 0., 0.],\n",
    "        [0., 0., 0., 0.]],\n",
    "\n",
    "       [[0., 0., 0., 0.],\n",
    "        [0., 0., 0., 0.],\n",
    "        [0., 0., 0., 0.],\n",
    "        [0., 0., 0., 0.]]])\n",
    "\n",
    "    reference = np.array([[[0., 0., 0., 0.],\n",
    "        [0., 0., 0., 0.],\n",
    "        [0., 0., 0., 0.],\n",
    "        [0., 0., 0., 0.]],\n",
    "\n",
    "       [[0., 0., 0., 0.],\n",
    "        [0., 0., 0., 0.],\n",
    "        [1., 2., 0., 0.],\n",
    "        [3., 0., 0., 0.]]])\n",
    "\n",
    "    # assert \n",
    "    assert np.array_equal(candidate(image, t_x, t_y, t_z), reference)"
   ]
  },
  {
   "cell_type": "code",
   "execution_count": 3,
   "id": "db1353be-ede7-498c-9042-0ba70e8f0b15",
   "metadata": {},
   "outputs": [
    {
     "name": "stderr",
     "output_type": "stream",
     "text": [
      "C:\\Users\\rober\\miniforge3\\envs\\heb4\\lib\\site-packages\\pytools\\persistent_dict.py:63: RecommendedHashNotFoundWarning: Unable to import recommended hash 'siphash24.siphash13', falling back to 'hashlib.sha256'. Run 'python3 -m pip install siphash24' to install the recommended hash.\n",
      "  warn(\"Unable to import recommended hash 'siphash24.siphash13', \"\n"
     ]
    }
   ],
   "source": [
    "check(translate_3d_image_along_vector)"
   ]
  },
  {
   "cell_type": "code",
   "execution_count": null,
   "id": "25593355-961d-4ba6-9369-6c4c15516dcd",
   "metadata": {},
   "outputs": [],
   "source": []
  }
 ],
 "metadata": {
  "kernelspec": {
   "display_name": "Python 3 (ipykernel)",
   "language": "python",
   "name": "python3"
  },
  "language_info": {
   "codemirror_mode": {
    "name": "ipython",
    "version": 3
   },
   "file_extension": ".py",
   "mimetype": "text/x-python",
   "name": "python",
   "nbconvert_exporter": "python",
   "pygments_lexer": "ipython3",
   "version": "3.10.15"
  }
 },
 "nbformat": 4,
 "nbformat_minor": 5
}
