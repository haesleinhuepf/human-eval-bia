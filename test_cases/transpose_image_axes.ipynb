{
 "cells": [
  {
   "cell_type": "code",
   "execution_count": 1,
   "id": "379be22d-e5f6-41d7-b171-f9f02742fd15",
   "metadata": {},
   "outputs": [],
   "source": [
    "def transpose_image_axes(image):\n",
    "    \"\"\"\n",
    "    Transposes the first two axes of an image and returns the result.\n",
    "    Input image and returned result image are numpy arrays.\n",
    "    \"\"\"\n",
    "    import numpy as np\n",
    "    return np.asarray(image).T"
   ]
  },
  {
   "cell_type": "code",
   "execution_count": 2,
   "id": "e2c6981f-99ff-4b38-b150-fe03dfdac762",
   "metadata": {},
   "outputs": [],
   "source": [
    "def check(candidate):\n",
    "    import numpy as np\n",
    "\n",
    "    image = np.asarray([\n",
    "        [0,0,0,0,0,0],\n",
    "        [0,1,0,0,2,0],\n",
    "        [0,0,0,0,0,0],\n",
    "        [0,0,0,0,0,0],\n",
    "        [0,4,0,0,3,0],\n",
    "        [0,0,0,0,0,0],\n",
    "    ])\n",
    "\n",
    "    reference = np.asarray([\n",
    "        [0,0,0,0,0,0],\n",
    "        [0,1,0,0,4,0],\n",
    "        [0,0,0,0,0,0],\n",
    "        [0,0,0,0,0,0],\n",
    "        [0,2,0,0,3,0],\n",
    "        [0,0,0,0,0,0],\n",
    "    ])\n",
    "    \n",
    "    assert np.array_equal(candidate(image), reference)\n"
   ]
  },
  {
   "cell_type": "code",
   "execution_count": 3,
   "id": "e4789ed1-dc01-46a6-80b2-dd98d8d7b875",
   "metadata": {},
   "outputs": [],
   "source": [
    "check(transpose_image_axes)"
   ]
  },
  {
   "cell_type": "code",
   "execution_count": null,
   "id": "b7881349-f4e7-4451-80d7-fde8031fdb1c",
   "metadata": {},
   "outputs": [],
   "source": []
  }
 ],
 "metadata": {
  "kernelspec": {
   "display_name": "Python 3 (ipykernel)",
   "language": "python",
   "name": "python3"
  },
  "language_info": {
   "codemirror_mode": {
    "name": "ipython",
    "version": 3
   },
   "file_extension": ".py",
   "mimetype": "text/x-python",
   "name": "python",
   "nbconvert_exporter": "python",
   "pygments_lexer": "ipython3",
   "version": "3.10.14"
  }
 },
 "nbformat": 4,
 "nbformat_minor": 5
}
