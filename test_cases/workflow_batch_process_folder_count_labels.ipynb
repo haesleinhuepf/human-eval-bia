{
 "cells": [
  {
   "cell_type": "code",
   "execution_count": 1,
   "id": "379be22d-e5f6-41d7-b171-f9f02742fd15",
   "metadata": {},
   "outputs": [],
   "source": [
    "def workflow_batch_process_folder_count_labels(folder_location):\n",
    "    \"\"\"\n",
    "    This functions goes through all .tif image files in a specified folder full of label images, \n",
    "    loads the label images and counts unique labels in each image. \n",
    "    It returns a dictionary with filenames as keys and corresponding counts as values.\n",
    "    \"\"\"\n",
    "    import os\n",
    "    from skimage.io import imread\n",
    "    import numpy as np\n",
    "\n",
    "    supported_fileendings = [\".tif\", \".jpg\", \".png\"]    \n",
    "    file_list = [fn for fn in os.listdir(folder_location) if str(fn[-4:]) in supported_fileendings]\n",
    "    result = {}\n",
    "\n",
    "    for filename in file_list:\n",
    "        image = imread(folder_location + filename)\n",
    "\n",
    "        labels = np.unique(image).tolist()\n",
    "        labels.pop(0)\n",
    "\n",
    "        count = len(labels)\n",
    "\n",
    "        result[filename] = count\n",
    "\n",
    "    return result"
   ]
  },
  {
   "cell_type": "code",
   "execution_count": 2,
   "id": "e2c6981f-99ff-4b38-b150-fe03dfdac762",
   "metadata": {},
   "outputs": [],
   "source": [
    "def check(candidate):\n",
    "    counts = candidate(\"../example_data/S-BIAD634/groundtruth/\")\n",
    "\n",
    "    assert counts[\"Ganglioneuroblastoma_0.tif\"] == 300\n",
    "    assert counts[\"Ganglioneuroblastoma_1.tif\"] == 398\n",
    "    assert counts[\"Ganglioneuroblastoma_2.tif\"] == 368\n",
    "    assert counts[\"Ganglioneuroblastoma_3.tif\"] == 378\n",
    "    assert counts[\"Ganglioneuroblastoma_4.tif\"] == 363\n",
    "    assert len(counts.keys()) == 5"
   ]
  },
  {
   "cell_type": "code",
   "execution_count": 3,
   "id": "e4789ed1-dc01-46a6-80b2-dd98d8d7b875",
   "metadata": {},
   "outputs": [],
   "source": [
    "check(workflow_batch_process_folder_count_labels)"
   ]
  },
  {
   "cell_type": "code",
   "execution_count": null,
   "id": "b38939da-37b8-4572-8227-b35354f3d60d",
   "metadata": {},
   "outputs": [],
   "source": []
  },
  {
   "cell_type": "code",
   "execution_count": null,
   "id": "4e1f23f7-3894-4446-8606-ba2e0d4ea94d",
   "metadata": {},
   "outputs": [],
   "source": []
  }
 ],
 "metadata": {
  "kernelspec": {
   "display_name": "Python 3 (ipykernel)",
   "language": "python",
   "name": "python3"
  },
  "language_info": {
   "codemirror_mode": {
    "name": "ipython",
    "version": 3
   },
   "file_extension": ".py",
   "mimetype": "text/x-python",
   "name": "python",
   "nbconvert_exporter": "python",
   "pygments_lexer": "ipython3",
   "version": "3.10.14"
  }
 },
 "nbformat": 4,
 "nbformat_minor": 5
}
