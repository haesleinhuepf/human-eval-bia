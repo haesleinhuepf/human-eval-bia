{
 "cells": [
  {
   "cell_type": "code",
   "execution_count": 1,
   "id": "379be22d-e5f6-41d7-b171-f9f02742fd15",
   "metadata": {},
   "outputs": [],
   "source": [
    "def workflow_batch_process_folder_measure_intensity(image_folder_location, labels_folder_location):\n",
    "    \"\"\"\n",
    "    This functions goes through all .tif image files in a specified image folder \n",
    "    and corresponding label images in another labels folder. \n",
    "    It loads the images and corresponding label images, and measures minimum, mean and maximum intensity of all labeled objects.\n",
    "    The function returns a dataframe with five columns: min_intensity, mean_intensity, max_intensity, label and filename.\n",
    "    \"\"\"\n",
    "    import os\n",
    "    import pandas as pd\n",
    "    from skimage.io import imread\n",
    "    from skimage.measure import regionprops\n",
    "    import numpy as np\n",
    "\n",
    "    supported_fileendings = [\".tif\", \".jpg\", \".png\"]    \n",
    "    file_list = [fn for fn in os.listdir(image_folder_location) if str(fn[-4:]) in supported_fileendings]\n",
    "\n",
    "    result = []\n",
    "\n",
    "    for filename in file_list:\n",
    "        image = imread(image_folder_location + filename)[...,0]\n",
    "        labels = imread(labels_folder_location + filename)\n",
    "\n",
    "        stats = regionprops(labels, intensity_image=image)\n",
    "\n",
    "        for s in stats:\n",
    "            result.append({\n",
    "                \"filename\":filename,\n",
    "                \"label\":s.label,\n",
    "                \"min_intensity\":s.min_intensity,\n",
    "                \"mean_intensity\":s.mean_intensity,\n",
    "                \"max_intensity\":s.max_intensity,\n",
    "            })\n",
    "\n",
    "    return pd.DataFrame(result)"
   ]
  },
  {
   "cell_type": "code",
   "execution_count": 2,
   "id": "e2c6981f-99ff-4b38-b150-fe03dfdac762",
   "metadata": {},
   "outputs": [],
   "source": [
    "def check(candidate):\n",
    "    label_stats = candidate(\"../example_data/S-BIAD634/images/\", \"../example_data/S-BIAD634/groundtruth/\")\n",
    "\n",
    "    assert label_stats['label'].max() == 398\n",
    "    assert label_stats['min_intensity'].min() == 7\n",
    "    assert label_stats['max_intensity'].max() == 255\n",
    "\n",
    "    assert label_stats.size == 9035\n",
    "    \n",
    "    assert abs(label_stats['mean_intensity'].max() - 186) < 1\n",
    "\n",
    "    assert len(label_stats.columns) == 5\n",
    "    assert len(label_stats['mean_intensity']) == 1807\n",
    "\n",
    "    assert \"filename\" in label_stats.columns\n",
    "    assert \"label\" in label_stats.columns\n",
    "    assert \"min_intensity\" in label_stats.columns\n",
    "    assert \"mean_intensity\" in label_stats.columns\n",
    "    assert \"max_intensity\" in label_stats.columns"
   ]
  },
  {
   "cell_type": "code",
   "execution_count": 3,
   "id": "e4789ed1-dc01-46a6-80b2-dd98d8d7b875",
   "metadata": {},
   "outputs": [],
   "source": [
    "check(workflow_batch_process_folder_measure_intensity)"
   ]
  },
  {
   "cell_type": "code",
   "execution_count": null,
   "id": "2b3fdd52-c449-473b-baba-4f75a50a1833",
   "metadata": {},
   "outputs": [],
   "source": []
  }
 ],
 "metadata": {
  "kernelspec": {
   "display_name": "Python 3 (ipykernel)",
   "language": "python",
   "name": "python3"
  },
  "language_info": {
   "codemirror_mode": {
    "name": "ipython",
    "version": 3
   },
   "file_extension": ".py",
   "mimetype": "text/x-python",
   "name": "python",
   "nbconvert_exporter": "python",
   "pygments_lexer": "ipython3",
   "version": "3.10.14"
  }
 },
 "nbformat": 4,
 "nbformat_minor": 5
}
