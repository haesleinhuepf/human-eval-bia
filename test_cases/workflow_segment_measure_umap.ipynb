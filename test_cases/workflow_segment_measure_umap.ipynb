{
 "cells": [
  {
   "cell_type": "code",
   "execution_count": 1,
   "id": "62a24ee3-b70a-4d9f-8a1e-8878cae835ec",
   "metadata": {},
   "outputs": [],
   "source": [
    "def workflow_segment_measure_umap(image):\n",
    "    \"\"\"\n",
    "    This function takes a single channel intensity image provided as numpy array, \n",
    "    segments objects with intensity above half the maximum intensity, \n",
    "    labels connected components, \n",
    "    measures area, perimeter, mean_intensity, minor and major axis of the labeled objects, \n",
    "    and produces a UMAP from the given measurements. \n",
    "    The two UMAP vectors are saved as `umap0` and `umap1` togther with the measurements in a dataframe. \n",
    "    The function returns this dataframe.\n",
    "    \"\"\"\n",
    "    import numpy as np\n",
    "    import pandas as pd\n",
    "    import umap\n",
    "    from skimage.measure import label, regionprops_table\n",
    "\n",
    "    image = np.asarray(image)\n",
    "\n",
    "    # segment\n",
    "    binary = image > 0.5 * image.max()\n",
    "    labels = label(binary)\n",
    "\n",
    "    # measure\n",
    "    dataframe = pd.DataFrame(regionprops_table(labels, intensity_image=image, \n",
    "                                              properties=['area', 'perimeter', 'mean_intensity', \n",
    "                                                          'minor_axis_length', 'major_axis_length']))\n",
    "\n",
    "    # append UMAP\n",
    "    embedding = umap.UMAP().fit_transform(dataframe)\n",
    "    dataframe['umap0'] = embedding[:,0]\n",
    "    dataframe['umap1'] = embedding[:,1]\n",
    "\n",
    "    return dataframe"
   ]
  },
  {
   "cell_type": "code",
   "execution_count": 2,
   "id": "c26195ec-50f8-4465-b312-fa40b5e3ae08",
   "metadata": {},
   "outputs": [],
   "source": [
    "def check(candidate):\n",
    "    import numpy as np\n",
    "\n",
    "    images = np.asarray([\n",
    "            [1,0,0,0,1,0,1,1,0,0],    \n",
    "            [1,0,1,0,0,0,0,0,0,0],    \n",
    "            [1,0,0,0,1,0,1,0,1,0],    \n",
    "            [1,0,1,0,0,0,0,0,1,0],    \n",
    "            [1,0,0,0,0,0,0,0,0,0],    \n",
    "            [1,0,0,1,0,1,1,0,1,0],    \n",
    "            [1,0,0,1,0,1,0,0,1,0],    \n",
    "            [1,0,0,1,0,0,0,1,1,0],    \n",
    "            [1,0,0,0,0,1,0,0,0,0],    \n",
    "            [1,0,1,0,0,0,0,0,0,0],    \n",
    "        ])\n",
    "    \n",
    "    result = candidate(images) \n",
    "\n",
    "    expected_columns = ['area', 'perimeter', 'mean_intensity', \n",
    "                        'minor_axis_length', 'major_axis_length',\n",
    "                        'umap0', 'umap1']\n",
    "\n",
    "    # I'm not sure how to check if the umap columns contain a proper umap, \n",
    "    # but we can check if all expected columns exist.\n",
    "    for ec in expected_columns:\n",
    "        assert ec in result.columns"
   ]
  },
  {
   "cell_type": "code",
   "execution_count": 3,
   "id": "55fdf71d-d03c-4919-9765-0a27e27fd737",
   "metadata": {},
   "outputs": [
    {
     "name": "stderr",
     "output_type": "stream",
     "text": [
      "C:\\Users\\haase\\mambaforge\\envs\\heb\\lib\\site-packages\\tqdm\\auto.py:21: TqdmWarning: IProgress not found. Please update jupyter and ipywidgets. See https://ipywidgets.readthedocs.io/en/stable/user_install.html\n",
      "  from .autonotebook import tqdm as notebook_tqdm\n",
      "C:\\Users\\haase\\mambaforge\\envs\\heb\\lib\\site-packages\\umap\\umap_.py:2433: UserWarning: n_neighbors is larger than the dataset size; truncating to X.shape[0] - 1\n",
      "  warn(\n"
     ]
    }
   ],
   "source": [
    "check(workflow_segment_measure_umap)"
   ]
  },
  {
   "cell_type": "code",
   "execution_count": null,
   "id": "d9670160-e3b3-43cf-a1c8-b30f812fae64",
   "metadata": {},
   "outputs": [],
   "source": []
  }
 ],
 "metadata": {
  "kernelspec": {
   "display_name": "Python 3 (ipykernel)",
   "language": "python",
   "name": "python3"
  },
  "language_info": {
   "codemirror_mode": {
    "name": "ipython",
    "version": 3
   },
   "file_extension": ".py",
   "mimetype": "text/x-python",
   "name": "python",
   "nbconvert_exporter": "python",
   "pygments_lexer": "ipython3",
   "version": "3.10.14"
  }
 },
 "nbformat": 4,
 "nbformat_minor": 5
}
