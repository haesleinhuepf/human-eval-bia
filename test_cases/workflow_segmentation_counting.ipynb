{
 "cells": [
  {
   "cell_type": "code",
   "execution_count": 1,
   "id": "379be22d-e5f6-41d7-b171-f9f02742fd15",
   "metadata": {},
   "outputs": [],
   "source": [
    "def workflow_segmentation_counting(image):\n",
    "    \"\"\"\n",
    "    This function segments objects in an image provided as numpy array with intensity above average \n",
    "    and returns their count as number.\n",
    "    \"\"\"\n",
    "    import skimage\n",
    "    import numpy as np\n",
    "    average_intensity = np.asarray(image).mean()\n",
    "    binary = image > average_intensity\n",
    "    labels = skimage.measure.label(binary)\n",
    "    return labels.max()"
   ]
  },
  {
   "cell_type": "code",
   "execution_count": 2,
   "id": "e2c6981f-99ff-4b38-b150-fe03dfdac762",
   "metadata": {},
   "outputs": [],
   "source": [
    "def check(candidate):\n",
    "    import numpy as np\n",
    "    \n",
    "    result = candidate(np.asarray([\n",
    "        [0,0,0,0,0],\n",
    "        [0,1,0,0,0],\n",
    "        [0,0,0,2,0],\n",
    "        [0,1,0,0,0],\n",
    "        [0,0,0,0,0],\n",
    "    ])) \n",
    "    assert result == 3\n",
    "\n",
    "    result = candidate(np.asarray([\n",
    "        [0,0,0,0,0],\n",
    "        [0,100,0,90,0],\n",
    "        [0,0,0,0,0],\n",
    "        [0,110,0,80,0],\n",
    "        [0,0,0,0,0],\n",
    "    ])) \n",
    "    assert result == 4"
   ]
  },
  {
   "cell_type": "code",
   "execution_count": 3,
   "id": "e4789ed1-dc01-46a6-80b2-dd98d8d7b875",
   "metadata": {},
   "outputs": [],
   "source": [
    "check(workflow_segmentation_counting)"
   ]
  },
  {
   "cell_type": "code",
   "execution_count": null,
   "id": "b38939da-37b8-4572-8227-b35354f3d60d",
   "metadata": {},
   "outputs": [],
   "source": []
  }
 ],
 "metadata": {
  "kernelspec": {
   "display_name": "Python 3 (ipykernel)",
   "language": "python",
   "name": "python3"
  },
  "language_info": {
   "codemirror_mode": {
    "name": "ipython",
    "version": 3
   },
   "file_extension": ".py",
   "mimetype": "text/x-python",
   "name": "python",
   "nbconvert_exporter": "python",
   "pygments_lexer": "ipython3",
   "version": "3.10.14"
  }
 },
 "nbformat": 4,
 "nbformat_minor": 5
}
