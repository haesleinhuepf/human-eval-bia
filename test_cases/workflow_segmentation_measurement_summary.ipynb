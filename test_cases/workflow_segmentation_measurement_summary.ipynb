{
 "cells": [
  {
   "cell_type": "code",
   "execution_count": 1,
   "id": "379be22d-e5f6-41d7-b171-f9f02742fd15",
   "metadata": {},
   "outputs": [],
   "source": [
    "def workflow_segmentation_measurement_summary(image):\n",
    "    \"\"\"\n",
    "    This function implements a workflow consisting of these steps:\n",
    "    * threshold intensity input image provided as numpy array using Otsu's method\n",
    "    * label connected components\n",
    "    * measure area of the labeled objects\n",
    "    * determine mean area of all objects and return it\n",
    "    \"\"\"\n",
    "    import skimage\n",
    "    import numpy as np\n",
    "    binary_image = image > skimage.filters.threshold_otsu(image)\n",
    "    label_image = skimage.measure.label(binary_image)\n",
    "    stats = skimage.measure.regionprops(label_image)\n",
    "    areas = [s.area for s in stats]\n",
    "    return np.mean(areas)"
   ]
  },
  {
   "cell_type": "code",
   "execution_count": 2,
   "id": "e2c6981f-99ff-4b38-b150-fe03dfdac762",
   "metadata": {},
   "outputs": [],
   "source": [
    "def check(candidate):\n",
    "    import numpy as np\n",
    "    \n",
    "    assert candidate(np.asarray([\n",
    "        [0,0,0,0,0],\n",
    "        [1,1,1,0,0],\n",
    "        [1,1,1,0,0],\n",
    "        [1,1,0,0,0],\n",
    "        [0,0,0,0,0],\n",
    "    ])) == 8\n",
    "\n",
    "    assert candidate(np.asarray([\n",
    "        [1,1,0,1,1],\n",
    "        [1,1,0,0,0],\n",
    "        [0,0,0,1,1],\n",
    "        [1,1,0,1,1],\n",
    "        [0,0,0,0,0],\n",
    "    ])) == 3\n",
    "\n",
    "    assert candidate(np.asarray([\n",
    "        [0,0,0,0,0],\n",
    "        [0,1,0,1,0],\n",
    "        [0,0,0,0,0],\n",
    "        [0,0,1,0,0],\n",
    "        [0,0,0,0,0],\n",
    "    ])) == 1"
   ]
  },
  {
   "cell_type": "code",
   "execution_count": 3,
   "id": "e4789ed1-dc01-46a6-80b2-dd98d8d7b875",
   "metadata": {},
   "outputs": [],
   "source": [
    "check(workflow_segmentation_measurement_summary)"
   ]
  },
  {
   "cell_type": "code",
   "execution_count": null,
   "id": "b38939da-37b8-4572-8227-b35354f3d60d",
   "metadata": {},
   "outputs": [],
   "source": []
  }
 ],
 "metadata": {
  "kernelspec": {
   "display_name": "Python 3 (ipykernel)",
   "language": "python",
   "name": "python3"
  },
  "language_info": {
   "codemirror_mode": {
    "name": "ipython",
    "version": 3
   },
   "file_extension": ".py",
   "mimetype": "text/x-python",
   "name": "python",
   "nbconvert_exporter": "python",
   "pygments_lexer": "ipython3",
   "version": "3.10.14"
  }
 },
 "nbformat": 4,
 "nbformat_minor": 5
}
