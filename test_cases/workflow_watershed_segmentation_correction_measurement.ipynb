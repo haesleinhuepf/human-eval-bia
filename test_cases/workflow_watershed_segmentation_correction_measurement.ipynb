{
 "cells": [
  {
   "cell_type": "code",
   "execution_count": 1,
   "id": "379be22d-e5f6-41d7-b171-f9f02742fd15",
   "metadata": {},
   "outputs": [],
   "source": [
    "def workflow_watershed_segmentation_correction_measurement(image):\n",
    "    \"\"\"\n",
    "    This function implements a workflow consisting of these steps:\n",
    "    * Gaussian blur an image provided as numpy array with a sigma of 1\n",
    "    * detect local minima in the blurred image\n",
    "    * apply watershed segmentation flooding the blurred image from the \n",
    "      detected minima to retrieve a label image\n",
    "    * remove all objects which touch the image border\n",
    "    * measure the area of all remaining objects together and return it\n",
    "    \"\"\"\n",
    "    import skimage\n",
    "    blurred = skimage.filters.gaussian(image * 255, sigma=1)\n",
    "    minima = skimage.morphology.local_minima(blurred)\n",
    "    spots = skimage.measure.label(minima)\n",
    "    labels = skimage.segmentation.watershed(blurred, spots)\n",
    "    labels_without_border = skimage.segmentation.clear_border(labels)   \n",
    "    binary = labels_without_border > 0\n",
    "    return binary.sum()"
   ]
  },
  {
   "cell_type": "code",
   "execution_count": 2,
   "id": "e2c6981f-99ff-4b38-b150-fe03dfdac762",
   "metadata": {},
   "outputs": [],
   "source": [
    "def check(candidate):\n",
    "    import numpy as np\n",
    "    \n",
    "    result = candidate(np.asarray([\n",
    "        [0,0,1,0,0,0,0,1,0,0],\n",
    "        [0,0,1,0,0,0,0,1,0,0],\n",
    "        [1,1,1,1,1,1,1,1,1,1],\n",
    "        [0,0,1,0,0,0,0,1,0,0],\n",
    "        [0,0,1,0,0,0,0,1,0,0],\n",
    "        [0,0,1,0,0,0,0,1,0,0],\n",
    "        [0,0,1,0,0,0,0,1,0,0],\n",
    "        [1,1,1,1,1,1,1,1,1,1],\n",
    "        [0,0,1,0,0,0,0,1,0,0],\n",
    "        [0,0,1,0,0,0,0,1,0,0],\n",
    "    ])) \n",
    "\n",
    "    # if only the 4x4 pixels are segmented:\n",
    "    assert result >= 16\n",
    "    # if it also considers borders as part of the center object:\n",
    "    assert result <= 36 \n"
   ]
  },
  {
   "cell_type": "code",
   "execution_count": 3,
   "id": "e4789ed1-dc01-46a6-80b2-dd98d8d7b875",
   "metadata": {},
   "outputs": [],
   "source": [
    "check(workflow_watershed_segmentation_correction_measurement)"
   ]
  },
  {
   "cell_type": "code",
   "execution_count": 4,
   "id": "b38939da-37b8-4572-8227-b35354f3d60d",
   "metadata": {},
   "outputs": [],
   "source": [
    "import skimage\n",
    "import numpy as np\n",
    "image = np.asarray([[1,2]])\n",
    "blurred = skimage.filters.gaussian(image, sigma=1)\n",
    "minima = skimage.morphology.local_minima(blurred,)\n"
   ]
  },
  {
   "cell_type": "code",
   "execution_count": null,
   "id": "2f5b11a2-af26-4eb7-ac24-2103284b5715",
   "metadata": {},
   "outputs": [],
   "source": []
  }
 ],
 "metadata": {
  "kernelspec": {
   "display_name": "Python 3 (ipykernel)",
   "language": "python",
   "name": "python3"
  },
  "language_info": {
   "codemirror_mode": {
    "name": "ipython",
    "version": 3
   },
   "file_extension": ".py",
   "mimetype": "text/x-python",
   "name": "python",
   "nbconvert_exporter": "python",
   "pygments_lexer": "ipython3",
   "version": "3.10.14"
  }
 },
 "nbformat": 4,
 "nbformat_minor": 5
}
